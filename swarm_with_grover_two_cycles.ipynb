{
 "cells": [
  {
   "attachments": {},
   "cell_type": "markdown",
   "metadata": {},
   "source": [
    "# Quantum planning for swarm robotics\n",
    "\n",
    "This notebook showcases the code used to develop, experiment, and simulate the swarm-planning quantum algorithm proposed in the article \"__[Quantum planning for swarm robotics](https://doi.org/10.1016/j.robot.2023.104362)__\". \n",
    "\n",
    "The problem instance that has been run is one of the most general ones described in section 4.2 of the cited paper, where the swarm size is restricted to 2 robots so that more than one full iteration is needed in order to achieve convergence.\n",
    "\n",
    "The procedure is described in this file using Markdown to discuss the key points of the algorithm and also to comment on the obtained results, leaving to Python comments within the code cells the details of the implementation."
   ]
  },
  {
   "cell_type": "code",
   "execution_count": 588,
   "metadata": {},
   "outputs": [],
   "source": [
    "# qiskit tools for quantum circuit construction, visualization and simulation\n",
    "from qiskit import QuantumRegister, ClassicalRegister, QuantumCircuit, Aer, transpile\n",
    "from qiskit.visualization import plot_histogram\n",
    "import matplotlib.pyplot as plt\n",
    "\n",
    "# utilities \n",
    "from operator import attrgetter, itemgetter\n",
    "from scipy.spatial.distance import cityblock\n",
    "from heapq import nlargest\n",
    "import numpy as np"
   ]
  },
  {
   "attachments": {},
   "cell_type": "markdown",
   "metadata": {},
   "source": [
    "## 1. Environment setup\n",
    "\n",
    "Here we build the environment of our robotic swarm, composed of a 2D squared, unitary map over a fixed Cartesian coordinate system where the robots, obstacles and target will live in. We start by defining each of its entities and then initializing a map with the created instances in it."
   ]
  },
  {
   "attachments": {},
   "cell_type": "markdown",
   "metadata": {},
   "source": [
    "### 1.1 Target & Reward\n",
    "\n",
    "The target is the goal location $\\textbf{g}$ that the algorithm directs the swarm to. It is fixed and set into one corner of the map:\n",
    "\n",
    "$$ \\textbf{g} = [0.875, 0.125] $$\n",
    "\n",
    "which corresponds to the bottom-right corner of the squared, unitary world we are considering."
   ]
  },
  {
   "cell_type": "code",
   "execution_count": 589,
   "metadata": {},
   "outputs": [],
   "source": [
    "class Target:\n",
    "    def __init__(self, name, x, y): # no indetermination in the target's position\n",
    "        self.name = name\n",
    "        self.x = x\n",
    "        self.y = y"
   ]
  },
  {
   "cell_type": "code",
   "execution_count": 590,
   "metadata": {},
   "outputs": [],
   "source": [
    "T = Target(\"T\", 0.875, 0.125) # deep in the ocean"
   ]
  },
  {
   "attachments": {},
   "cell_type": "markdown",
   "metadata": {},
   "source": [
    "In this scenario, for the sake of explanation, we work under the assumption that the target position is known with full precision; practically, this information may not always be at our disposal. This is the reason why the algorithm mainly relies on the general proximity of the swarm to the target, rather than exact locations.\n",
    "\n",
    "The reward is computed, for each swarm agent, through the (normalized) Euclidean distance between the target location, $\\textbf{g}$, and the probability amplitude $\\beta$ associated with the robot's position:\n",
    "\n",
    "$$ reward(\\textbf{g}, \\beta) = 1 - \\tfrac{\\sqrt{\\displaystyle (g_x - \\beta_x)^2 + (g_y - \\beta_y)^2}}{\\sqrt{\\displaystyle 2}} $$\n",
    "\n",
    "translating to the reward being a number between $0$ and $1$ with a value that increases the closer a robot is to the target. Any other reward function that has the same behavior, wheter exploiting sensory data or some other external information also does the trick."
   ]
  },
  {
   "cell_type": "code",
   "execution_count": 591,
   "metadata": {},
   "outputs": [],
   "source": [
    "def reward(T, betax, betay):\n",
    "    return 1 - (((T.x - betax)**2 + (T.y - betay)**2)**0.5)/np.sqrt(2) # distance is normalized on sqrt(2)"
   ]
  },
  {
   "attachments": {},
   "cell_type": "markdown",
   "metadata": {},
   "source": [
    "### 1.2 Obstacles\n",
    "\n",
    "Obstacles are forbidden areas of the map, that should not be considered as either destination or as part of a robot's path. As described in section 3. of the paper, obstacles are considered od the same dimension order of the smallest micro-cells that the environment has been partitioned into. An obstacle that spans over more than one such cells is translated to a set of unit obstacles\n",
    "on the respective cells it covers.\n",
    "\n",
    "As for the target, their position is fixed, and in the case that dynamic obstacles are present, a new map with the updated structure is recomputed, according to the expected configuration."
   ]
  },
  {
   "cell_type": "code",
   "execution_count": 592,
   "metadata": {},
   "outputs": [],
   "source": [
    "class Obstacle:\n",
    "    _registry = []\n",
    "\n",
    "    def __init__(self, name, x, y):\n",
    "        self._registry.append(self)\n",
    "        self.name = name\n",
    "        self.x = x\n",
    "        self.y = y"
   ]
  },
  {
   "cell_type": "code",
   "execution_count": 593,
   "metadata": {},
   "outputs": [],
   "source": [
    "O = Obstacle(\"Oo\", 0.125, 0.125)"
   ]
  },
  {
   "attachments": {},
   "cell_type": "markdown",
   "metadata": {},
   "source": [
    "### 1.3 Robots\n",
    "\n",
    "We consider a swarm of $N$ robots. Each of the $i$-th swarm entitity $R_i$ is defined as an object with the following attributes:\n",
    "-  $\\alpha^x_i$, $\\beta^x_i$: probability amplitudes to find the robot in the left and right area of the map, respectively;\n",
    "-  $\\alpha^y_i$, $\\beta^y_i$: same as above, but for a vertical subdivision of the map;\n",
    "-  $\\gamma_i$, $\\delta_i$: amplitudes encoding the failure of success feedback calcualted on the basis of the robot's reward.\n",
    "\n",
    "This information is encoded within qubit states as\n",
    "\n",
    "$$ \\begin{align*}\n",
    "    |q_0\\rangle &= \\alpha^x_i|0\\rangle + \\beta^x_i|1\\rangle \\\\\n",
    "    |q_1\\rangle &= \\alpha^y_i|0\\rangle + \\beta^y_i|1\\rangle \\\\\n",
    "    |q_2\\rangle &= \\gamma_i|0\\rangle + \\delta_i|1\\rangle\n",
    "\\end{align*} $$\n",
    "\n",
    "where of course \n",
    "\n",
    "$$ \\begin{align*}\n",
    "&|\\alpha^j_i|^2+|\\beta^j_i|^2=1,\\\\&|\\gamma_i|^2+|\\delta_i|^2=1\n",
    "\\end{align*} $$ \n",
    "\n",
    "with $i=0, ..., N-1$ and $j=x,y$"
   ]
  },
  {
   "cell_type": "code",
   "execution_count": 594,
   "metadata": {},
   "outputs": [],
   "source": [
    "# utility function that returns the complementary amplitude \n",
    "# of ampl, evaluated as sqrt(1 - ||ampl||^2)\n",
    "#\n",
    "def c_ampl(ampl):  \n",
    "    return np.sqrt(1 - ampl**2)"
   ]
  },
  {
   "cell_type": "code",
   "execution_count": 595,
   "metadata": {},
   "outputs": [],
   "source": [
    "class Robotx(object):\n",
    "    _registry = []\n",
    "\n",
    "    def __init__(self, name, alphax, alphay):\n",
    "        self._registry.append(self)\n",
    "        self.name = name\n",
    "        self.alphax = alphax\n",
    "        self.betax = c_ampl(alphax)\n",
    "        self.alphay = alphay\n",
    "        self.betay = c_ampl(alphay)\n",
    "        self.delta = reward(T, self.betax, self.betay)\n",
    "        self.gamma = c_ampl(self.delta)"
   ]
  },
  {
   "attachments": {},
   "cell_type": "markdown",
   "metadata": {},
   "source": [
    "### 1.4 Initialization and visualization\n",
    "\n",
    "The swarm is initialized by specifying its size $N$ (`num_of_robots`). Initially, the robots are uniformly scattered over a single micro-cell, identified by its centroid."
   ]
  },
  {
   "cell_type": "code",
   "execution_count": 596,
   "metadata": {},
   "outputs": [],
   "source": [
    "# arbitrary number of robots that, at the start, are uniformly distributed \n",
    "# in the square of side length radius*2, centered in starting_cluster_coord\n",
    "#\n",
    "num_of_robots = 2\n",
    "\n",
    "# must be lower than 0.25, otherwise, the robots would start on different cells\n",
    "radius = 0.05\n",
    "\n",
    "# center of the (0,0) cell \n",
    "starting_cluster_coord = (0.125, 0.875)\n",
    "\n",
    "# boundaries to compute the initial random scattering on\n",
    "a_x, a_y = c_ampl(starting_cluster_coord[0]-radius), c_ampl(starting_cluster_coord[0]+radius)\n",
    "b_x, b_y = c_ampl(starting_cluster_coord[1]-radius), c_ampl(starting_cluster_coord[1]+radius)\n",
    "\n",
    "# robots' initialization\n",
    "for i in range(num_of_robots):\n",
    "    Robotx('R'+str(i), np.random.uniform(a_x,a_y), np.random.uniform(b_x,b_y))"
   ]
  },
  {
   "cell_type": "code",
   "execution_count": 597,
   "metadata": {},
   "outputs": [
    {
     "name": "stdout",
     "output_type": "stream",
     "text": [
      "R0 0.09 0.92 0.98 0.21\n",
      "R1 0.14 0.92 0.97 0.24\n"
     ]
    }
   ],
   "source": [
    "# note: values are stored with full precision, rounding is done only on visualization (with :.2f)\n",
    "for k in Robotx._registry:\n",
    "    print(f\"{k.name} {k.betax:.2f} {k.betay:.2f} {k.gamma:.2f} {k.delta:.2f}\")"
   ]
  },
  {
   "attachments": {},
   "cell_type": "markdown",
   "metadata": {},
   "source": [
    "In order to keep track of the performance of the algorithm, it will come in handy to also dispose of the average reward of the swarm, computed as the arithmetic mean over each of the robots' rewards. This value will provide us with information on the global behavior of the swarm, also allowing for a more direct comparison with other approaches."
   ]
  },
  {
   "cell_type": "code",
   "execution_count": 598,
   "metadata": {},
   "outputs": [
    {
     "name": "stdout",
     "output_type": "stream",
     "text": [
      "Average reward: 0.22240162204712538\n"
     ]
    }
   ],
   "source": [
    "def calculate_avg_reward():\n",
    "    rewards = [robot.delta for robot in Robotx._registry]\n",
    "    return np.mean(rewards)\n",
    "\n",
    "print(f\"Average reward: {calculate_avg_reward()}\")"
   ]
  },
  {
   "cell_type": "code",
   "execution_count": 599,
   "metadata": {},
   "outputs": [],
   "source": [
    "# this utility function generates the visualization of the environment with each of the entitites;\n",
    "# the map is maked with a squared lattice, so as to outline the micro-cell subdivision and the robots \n",
    "# obstacles, and target are color coded in the followig way:\n",
    "#   robots: green circle;\n",
    "#   obstacles: red pentagon;\n",
    "#   target: turquoise star.\n",
    "#\n",
    "def plot_scatterplot(*args):\n",
    "\n",
    "    # to print grid on map\n",
    "    ax = plt.figure().gca()\n",
    "    ax.set_xticks(np.arange(0, 1, 0.25))\n",
    "    ax.set_yticks(np.arange(0, 1, 0.25))\n",
    "    plt.grid()\n",
    "\n",
    "    for i in Robotx._registry:\n",
    "        # color gradient to better visualize the different robots within the map;\n",
    "        # the higher the i-th index of the robot's name, the darker the green gradient.\n",
    "        robot_color = hex(int(\"0x30ca15\", 16) + int(\"0x00bb00\", 16)*int(i.name[1])).replace(\"0x\",\"#\")\n",
    "        plt.scatter(i.betax, i.betay, s = 300, marker = 'o', color = robot_color)\n",
    "        \n",
    "    plt.scatter(T.x, T.y, s = 400, marker = '*', color = 'turquoise')\n",
    "\n",
    "    for o in Obstacle._registry:\n",
    "        plt.scatter(o.x, o.y, s = 400, marker = 'p', color = 'red')\n",
    "\n",
    "    plt.axis([0, 1, 0, 1])\n",
    "\n",
    "    if args:\n",
    "        plt.title(args[0])\n",
    "        \n",
    "    plt.show()"
   ]
  },
  {
   "cell_type": "code",
   "execution_count": 600,
   "metadata": {},
   "outputs": [
    {
     "data": {
      "image/png": "[encoded data removed]",
      "text/plain": [
       "<Figure size 432x288 with 1 Axes>"
      ]
     },
     "metadata": {
      "needs_background": "light"
     },
     "output_type": "display_data"
    }
   ],
   "source": [
    "plot_scatterplot(\"Initialization\")"
   ]
  },
  {
   "attachments": {},
   "cell_type": "markdown",
   "metadata": {},
   "source": [
    "This visualization shows our initialized environment, with the swarm in its starting point, far from the goal location that it has to reach. As we expect, each of the robots' rewards is low and not far from the other agents':"
   ]
  },
  {
   "cell_type": "code",
   "execution_count": 601,
   "metadata": {},
   "outputs": [
    {
     "name": "stdout",
     "output_type": "stream",
     "text": [
      "R0 0.21 achtung!\n",
      "R1 0.24 achtung!\n"
     ]
    }
   ],
   "source": [
    "for r in Robotx._registry:\n",
    "    if (r.delta < 0.5):\n",
    "        print(f\"{r.name} {r.delta:.2f} achtung!\") # and start from this point to build the reshuffle section"
   ]
  },
  {
   "attachments": {},
   "cell_type": "markdown",
   "metadata": {},
   "source": [
    "## 2. Centroid handling\n",
    "\n",
    "Centroids play a key role, as they are the mathematical representation of the map partitioning that we considered to improve the perfromance and accuracy of the algorithm. Generally, a centroid is an $s$-tuple with $s$ being the depth subdivision; in this case, as we are considering only an environment tessellated in macro- and micro-cells, we will have a $2$-tuple of the form\n",
    "\n",
    "$$ (b_{micro}, b_{macro}) $$\n",
    "\n",
    "with $b_{micro/macro}$ being the binary representation of the cell's coordinates, respectively for micro and macro cells.\n",
    "\n",
    "Below we automatically generate a $2$-tuple of each of such cells of our partitioned map, also associating the binary form with the respective continuous coordinates of our reference system."
   ]
  },
  {
   "cell_type": "code",
   "execution_count": 602,
   "metadata": {},
   "outputs": [],
   "source": [
    "# returns a dict so that:\n",
    "#  - the keys are the coordinates of the centroids of a square dim_map x dim_map map of side length 1\n",
    "#  - the values are in the form (micro_cell, macro_cell) of the centroids\n",
    "def find_centroids(dim_map):\n",
    "\n",
    "    unit_displacement = 1 / (dim_map*2)\n",
    "\n",
    "    centroids_coords = []\n",
    "    for i in range(dim_map,0,-1):\n",
    "        row = []\n",
    "        for j in range(dim_map): \n",
    "            row.append((j*unit_displacement*2 + unit_displacement, i*unit_displacement*2 - unit_displacement))\n",
    "        centroids_coords.append(row)\n",
    "\n",
    "    centroids_dict = {t: (f\"{str(i%2)}{str(j%2)}\", f\"{0 if t[1] > 0.5 else 1}{0 if t[0] < 0.5 else 1}\")\n",
    "     for i,row in enumerate(centroids_coords) for j,t in enumerate(row)}\n",
    "     \n",
    "    return centroids_dict"
   ]
  },
  {
   "cell_type": "code",
   "execution_count": 603,
   "metadata": {},
   "outputs": [
    {
     "name": "stdout",
     "output_type": "stream",
     "text": [
      "Centroids:\n",
      "{ (0.125, 0.875): ('00', '00') \n",
      "  (0.375, 0.875): ('01', '00') \n",
      "  (0.625, 0.875): ('00', '01') \n",
      "  (0.875, 0.875): ('01', '01') \n",
      "  (0.125, 0.625): ('10', '00') \n",
      "  (0.375, 0.625): ('11', '00') \n",
      "  (0.625, 0.625): ('10', '01') \n",
      "  (0.875, 0.625): ('11', '01') \n",
      "  (0.125, 0.375): ('00', '10') \n",
      "  (0.375, 0.375): ('01', '10') \n",
      "  (0.625, 0.375): ('00', '11') \n",
      "  (0.875, 0.375): ('01', '11') \n",
      "  (0.125, 0.125): ('10', '10') \n",
      "  (0.375, 0.125): ('11', '10') \n",
      "  (0.625, 0.125): ('10', '11') \n",
      "  (0.875, 0.125): ('11', '11') }\n"
     ]
    }
   ],
   "source": [
    "centroids = find_centroids(4)\n",
    "print(\"Centroids:\\n{ \" + \"\\n  \".join(f\"{k}: {v} \" for k, v in centroids.items()) + \"}\")"
   ]
  },
  {
   "attachments": {},
   "cell_type": "markdown",
   "metadata": {},
   "source": [
    "The discretization of the environment requires us to translate a continuous location into a discrete centroid, i.e., identifying a robot's position with the micro- and macro-cell coordinates, starting from its $\\beta$ parameters."
   ]
  },
  {
   "cell_type": "code",
   "execution_count": 604,
   "metadata": {},
   "outputs": [],
   "source": [
    "# returns the centroid tuple of the cell that a point of coordinates (x,y) is located in\n",
    "def find_closest_centroid(centroids, x, y):\n",
    "    centroids_coords = np.array(list(centroids.keys()))\n",
    "    distances = np.linalg.norm(centroids_coords-np.array([x, y]), axis=1)\n",
    "    return centroids[tuple(centroids_coords[np.argmin(distances)])]"
   ]
  },
  {
   "cell_type": "code",
   "execution_count": 605,
   "metadata": {},
   "outputs": [
    {
     "name": "stdout",
     "output_type": "stream",
     "text": [
      "Closest centroid to R0: ('00', '00')\n",
      "Closest centroid to R1: ('00', '00')\n"
     ]
    }
   ],
   "source": [
    "for r in Robotx._registry:\n",
    "    print(f\"Closest centroid to {r.name}: {find_closest_centroid(centroids, r.betax, r.betay)}\")"
   ]
  },
  {
   "attachments": {},
   "cell_type": "markdown",
   "metadata": {},
   "source": [
    "As we expected, since the robots start in the upper-left corner of the map, they get to be associated with the `00` micro and `00` macro cells.\n",
    "\n",
    "The same treatment will also be required for the obstacles:"
   ]
  },
  {
   "cell_type": "code",
   "execution_count": 606,
   "metadata": {},
   "outputs": [
    {
     "name": "stdout",
     "output_type": "stream",
     "text": [
      "Obstacles' centroids:\n",
      "{ (0.125, 0.125): ('10', '10') }\n"
     ]
    }
   ],
   "source": [
    "# associate centroids to obstacles\n",
    "obstacles_centroids = {coord: v for (coord,v) in centroids.items() for o in Obstacle._registry if coord == (o.x, o.y)}\n",
    "print(\"Obstacles' centroids:\\n{ \" + \"\\n  \".join(f\"{k}: {v} \" for k, v in obstacles_centroids.items()) + \"}\")"
   ]
  },
  {
   "attachments": {},
   "cell_type": "markdown",
   "metadata": {},
   "source": [
    "## 3. Quantum path planning\n",
    "\n",
    "This subsection implements the Grover-based path planning procedure described in the article __[A Quantum Planner for Robot Motion]( https://doi.org/10.3390/math10142475)__, which has been integrated in this study as the component that routes the robots on an optimal path to the destination evaluated by the swarm algorithm.\n",
    "\n",
    "Before defining the procedure, we build a function that computes the $L^1$ Manhattan distance between two points $\\textbf{p}$ and $\\textbf{q}$, defined as:\n",
    "\n",
    "$$ d_1(\\textbf{p}, \\textbf{q}) = || \\textbf{p} - \\textbf{q} ||_1 = \\sum_i |p_i - q_i| $$ \n",
    "\n",
    "so that it is compatible with our intepretation of the map. This function is needed to dynamically build the quantum circuit that achieves the required robotic path planning, as the evaluated distance corresponds to the number of motion operators that make up the procedure."
   ]
  },
  {
   "cell_type": "code",
   "execution_count": 607,
   "metadata": {},
   "outputs": [],
   "source": [
    "# takes as input strings with the binary encoding of cells and outputs the manhattan distance between them\n",
    "def manhattan(start_cell, target_cell):\n",
    "    start_cell_v, target_cell_v = [int(b) for b in start_cell], [int(b) for b in target_cell]\n",
    "    return int(cityblock(start_cell_v, target_cell_v).item())"
   ]
  },
  {
   "attachments": {},
   "cell_type": "markdown",
   "metadata": {},
   "source": [
    "The `GroverPlanner` class is written to handle any $2 \\times 2$ map instance, and its `find_path(start_cell, target_cell, m_type)` method dynamically adapts to the length of the trajectory as well as the presence of obstacles and movement type (\"macro\" or \"micro\")."
   ]
  },
  {
   "cell_type": "code",
   "execution_count": 608,
   "metadata": {},
   "outputs": [],
   "source": [
    "class GroverPlanner:\n",
    "    def __init__(self, obstacles):\n",
    "        self.simulator = Aer.get_backend(\"aer_simulator\")\n",
    "        self.obstacles = obstacles\n",
    "\n",
    "    #\n",
    "    # Utility functions\n",
    "    #\n",
    "    def XOR(self, qc, a, b, output):\n",
    "        qc.cx(a, output)\n",
    "        qc.cx(b, output)\n",
    "\n",
    "    def encode_cell(self, qc, cell, qubits):\n",
    "        for idx, bit in enumerate(cell):\n",
    "            bitn = int(bit)\n",
    "            if bitn:\n",
    "                qc.x(qubits[idx])\n",
    "\n",
    "    def encode_target(self, qc, target_cell, qubits):\n",
    "        for idx, bit in enumerate(target_cell):\n",
    "            bitn = int(bit)\n",
    "            if not bitn:\n",
    "                qc.x(qubits[idx])\n",
    "\n",
    "    def obstacles_in_map(self, target_cell):\n",
    "        return any(target_cell[1] == macro_cell for macro_cell in list(map(lambda ob_t: ob_t[1], self.obstacles)))\n",
    "\n",
    "    #\n",
    "    # Grover diffuser\n",
    "    #\n",
    "    def diffuser(self, nqubits):\n",
    "        diff = QuantumCircuit(nqubits)\n",
    "\n",
    "        # Apply transformation |s> -> |00..0> (H-gates)\n",
    "        for qubit in range(nqubits):\n",
    "            diff.h(qubit)\n",
    "\n",
    "        # Apply transformation |00..0> -> |11..1> (X-gates)\n",
    "        for qubit in range(nqubits):\n",
    "            diff.x(qubit)\n",
    "\n",
    "        # Do multi-controlled-Z gate\n",
    "        diff.h(nqubits - 1)\n",
    "        diff.mct(list(range(nqubits - 1)), nqubits - 1)  # multi-controlled-toffoli\n",
    "        diff.h(nqubits - 1)\n",
    "\n",
    "        # Apply transformation |11..1> -> |00..0>\n",
    "        for qubit in range(nqubits):\n",
    "            diff.x(qubit)\n",
    "\n",
    "        # Apply transformation |00..0> -> |s>\n",
    "        for qubit in range(nqubits):\n",
    "            diff.h(qubit)\n",
    "        \n",
    "        U_s = diff.to_gate()\n",
    "        U_s.name = \"U$_\\psi$\"\n",
    "        return U_s\n",
    "\n",
    "    #\n",
    "    # Half oracle\n",
    "    #\n",
    "    # it performs the quantum moves to get to the final state the solution test is performed on; its structure \n",
    "    # changes according to both the number of movements required to get to the target and the presence of obstacles\n",
    "    #\n",
    "    def half_oracle(self, num_of_M, obstacles_in_map, quantum_registers):\n",
    "\n",
    "        if num_of_M == 1:\n",
    "\n",
    "            ho = QuantumCircuit(*quantum_registers)\n",
    "            pos_qubits, mov_qubits, c, output = quantum_registers\n",
    "\n",
    "            # -- First M --\n",
    "            self.XOR(ho, pos_qubits[1], mov_qubits[0], c[0])\n",
    "            ho.x(c[0])\n",
    "            self.XOR(ho, pos_qubits[0], mov_qubits[0], c[1])\n",
    "\n",
    "        elif num_of_M == 2:\n",
    "\n",
    "            ho = QuantumCircuit(*quantum_registers)\n",
    "\n",
    "            if obstacles_in_map:\n",
    "                pos_qubits, mov_qubits, c, o, caux, out, output = quantum_registers\n",
    "            else:\n",
    "                pos_qubits, mov_qubits, c, output = quantum_registers\n",
    "\n",
    "            # -- First M --\n",
    "            self.XOR(ho, pos_qubits[1], mov_qubits[0], c[0])\n",
    "            ho.x(c[0])\n",
    "            self.XOR(ho, pos_qubits[0], mov_qubits[0], c[1])\n",
    "\n",
    "            if obstacles_in_map:\n",
    "                # -- Obstacle encoding --\n",
    "                for obstacle in self.obstacles:\n",
    "                    self.encode_cell(ho, obstacle[0], [c[0], c[1]])\n",
    "                    ho.ccx(c[0], c[1], o)\n",
    "                    self.encode_cell(ho, obstacle[0], [c[0], c[1]])\n",
    "\n",
    "            # -- Second M --\n",
    "            self.XOR(ho, c[1], mov_qubits[1], c[2])\n",
    "            ho.x(c[2])\n",
    "            self.XOR(ho, c[0], mov_qubits[1], c[3])\n",
    "\n",
    "            if obstacles_in_map:\n",
    "                # -- Selection stage --\n",
    "                ho.ccx(c[2], o, caux[0])\n",
    "                ho.x(caux[0])\n",
    "                ho.ccx(c[3], o, caux[1])\n",
    "                ho.x(caux[1])\n",
    "\n",
    "                ho.x(o)\n",
    "\n",
    "                ho.ccx(pos_qubits[0], o, caux[2])\n",
    "                ho.x(caux[2])\n",
    "                ho.ccx(pos_qubits[1], o, caux[3])\n",
    "                ho.x(caux[3])\n",
    "\n",
    "                ho.ccx(caux[0], caux[2], out[0])\n",
    "                ho.x(out[0])\n",
    "                ho.ccx(caux[1], caux[3], out[1])\n",
    "                ho.x(out[1])\n",
    "\n",
    "        HalfOracle = ho.to_gate()\n",
    "        HalfOracle.name = \"HO\"\n",
    "        return HalfOracle\n",
    "\n",
    "    #\n",
    "    # Grover oracle\n",
    "    #\n",
    "    # it is composed of a oracle half, the testing operator, and the mirror circuit of the first half\n",
    "    #\n",
    "    def oracle(self, num_of_M, target_cell, m_type, obstacles_in_map, qc, quantum_registers):\n",
    "\n",
    "        halforacle = self.half_oracle(num_of_M, obstacles_in_map, quantum_registers)\n",
    "\n",
    "        additional_regs = []\n",
    "\n",
    "        if obstacles_in_map:\n",
    "            pos_qubits, mov_qubits, c, *additional_regs, output = quantum_registers\n",
    "        else:\n",
    "            pos_qubits, mov_qubits, c, output = quantum_registers\n",
    "\n",
    "        # -- First half of the oracle --\n",
    "        qc.append(\n",
    "            halforacle,\n",
    "            pos_qubits[:]\n",
    "            + mov_qubits[:]\n",
    "            + c[:]\n",
    "            + (\n",
    "                (additional_regs[0][:] + additional_regs[1][:] + additional_regs[2][:])\n",
    "                if additional_regs\n",
    "                else []\n",
    "            )\n",
    "            + output[:],\n",
    "        )\n",
    "\n",
    "        # -- Test operator --\n",
    "        test_qubits = c[-2:] if num_of_M == 1 or (num_of_M == 2 and not obstacles_in_map) else additional_regs[2]\n",
    "        tcell_idx = 0 if m_type == \"micro\" else 1\n",
    "        self.encode_target(qc, target_cell[tcell_idx], [test_qubits[0], test_qubits[1]])\n",
    "        qc.ccx(test_qubits[0], test_qubits[1], output)\n",
    "        self.encode_target(qc, target_cell[tcell_idx], [test_qubits[0], test_qubits[1]])\n",
    "\n",
    "        # -- Mirror circuit of the first half of the oracle --\n",
    "        qc.append(\n",
    "            halforacle.inverse(),\n",
    "            pos_qubits[:]\n",
    "            + mov_qubits[:]\n",
    "            + c[:]\n",
    "            + (\n",
    "                (additional_regs[0][:] + additional_regs[1][:] + additional_regs[2][:])\n",
    "                if additional_regs\n",
    "                else []\n",
    "            )\n",
    "            + output[:],\n",
    "        )\n",
    "\n",
    "    #\n",
    "    # Path planning\n",
    "    #\n",
    "    # takes as input the tuples of centroids start_cell and target_cell, together with the movement type (m_type),\n",
    "    # that can yield the values \"micro\" or \"macro\"\n",
    "    #\n",
    "    def find_path(self, start_cell, target_cell, m_type):\n",
    "\n",
    "        # number of M operators is equal to the Manhattan distance between start and target\n",
    "        cell_idx = 0 if m_type == \"micro\" else 1\n",
    "        num_of_M = manhattan(start_cell[cell_idx], target_cell[cell_idx])\n",
    "\n",
    "        # --- Initializations ---\n",
    "        pos_qubits = QuantumRegister(2, name=\"r\")\n",
    "        mov_qubits = QuantumRegister(num_of_M, name=\"m\")\n",
    "        c = QuantumRegister(2 * num_of_M, name=\"c\")\n",
    "\n",
    "        o = QuantumRegister(1, name=\"o\")\n",
    "        caux = QuantumRegister(4, name=\"caux\")\n",
    "        out = QuantumRegister(2, name=\"out\")\n",
    "\n",
    "        output = QuantumRegister(1, name=\"q\")\n",
    "        cbits = ClassicalRegister(2 + num_of_M, name=\"cbits\")\n",
    "\n",
    "        # check if there are obstacles to be considered within the path\n",
    "        obstacles_in_map = self.obstacles_in_map(target_cell) and m_type == \"micro\"\n",
    "\n",
    "        # ensemble of quantum registers to build the QuantumCircuit with\n",
    "        base_registers = [pos_qubits, mov_qubits, c, output, cbits]\n",
    "        additional_registers = base_registers.copy()\n",
    "        additional_registers[3:3] = [o, caux, out]\n",
    "        quantum_registers = (\n",
    "            base_registers\n",
    "            if num_of_M == 1 or (num_of_M == 2 and not obstacles_in_map)\n",
    "            else additional_registers\n",
    "        )\n",
    "\n",
    "        qc = QuantumCircuit(*quantum_registers)\n",
    "\n",
    "        # initialize pos_qubits in uniform superposition\n",
    "        qc.h(pos_qubits)\n",
    "\n",
    "        # initialize mov_qubits in state |s>\n",
    "        qc.h(mov_qubits)\n",
    "\n",
    "        # initialize 'output0' in state |->\n",
    "        qc.initialize([1, -1] / np.sqrt(2), output)\n",
    "\n",
    "        # --- Oracle + Diffuser ---\n",
    "        num_iterations = 1\n",
    "        for _ in range(num_iterations):\n",
    "            self.oracle(\n",
    "                num_of_M,\n",
    "                target_cell,\n",
    "                m_type,\n",
    "                obstacles_in_map,\n",
    "                qc,\n",
    "                quantum_registers[:-1],\n",
    "            )\n",
    "            diff_qubits = [0, 1, 2] if num_of_M == 1 else [0, 1, 2, 3]\n",
    "            qc.append(self.diffuser(len(diff_qubits)), diff_qubits)\n",
    "\n",
    "        # --- Measurement ---\n",
    "        qc.measure(pos_qubits, cbits[0:2])\n",
    "        qc.measure(mov_qubits, cbits[2 : (2 + num_of_M)])\n",
    "\n",
    "        # --- Simulation ---\n",
    "        transpiled_qc = transpile(qc, self.simulator)\n",
    "        result_counts = self.simulator.run(transpiled_qc).result().get_counts()\n",
    "\n",
    "        # filtering out all the non-trivial solutions on the simulation output\n",
    "        return [k for k in result_counts.keys() if k[-2:] == start_cell[cell_idx][len(start_cell[cell_idx]) :: -1]]\n",
    "\n",
    "groverPlanner = GroverPlanner(obstacles_centroids.values())"
   ]
  },
  {
   "cell_type": "code",
   "execution_count": 609,
   "metadata": {},
   "outputs": [
    {
     "data": {
      "text/plain": [
       "['100']"
      ]
     },
     "execution_count": 609,
     "metadata": {},
     "output_type": "execute_result"
    }
   ],
   "source": [
    "# test\n",
    "groverPlanner.find_path(start_cell=(\"00\", \"00\"), target_cell=(\"00\", \"01\"), m_type=\"macro\")"
   ]
  },
  {
   "attachments": {},
   "cell_type": "markdown",
   "metadata": {},
   "source": [
    "The test above is an example of macro-only displacement, i.e., one where a robot has moved to another macro-cell, but remaining in the same (relative) micro-cell, as depicted in the following figure:\n",
    "\n",
    "<div align=\"center\"> <img src=\"./imgs/macro-only.png\" width=\"800\"> </div>\n",
    "\n",
    "The path to follow in order to reach that destination starting from the macro-cell `00` is represented by a single clockwise rotation, encoded with the `1` leftmost output of the `find_path()` method."
   ]
  },
  {
   "attachments": {},
   "cell_type": "markdown",
   "metadata": {},
   "source": [
    "## 4. Reshuffling\n",
    "\n",
    "This is the stage where the robots wander randomly through the map, evaluating their rewards on the new positions, so that the most successful ones (those that are the closest to the target) can be extracted and used to route the entire swarm toward a location that has a greater proximity to the goal.\n",
    "\n",
    "First, a new random position is calculated for each robot; then, a centroid is associated to it, together with the (discrete displacement) with respect to the starting position. This information is used to discriminate between the micro and macro nature of the path that connects the two locations, which sets up the quantum path planning procedure for computing the actual path."
   ]
  },
  {
   "cell_type": "code",
   "execution_count": 610,
   "metadata": {},
   "outputs": [],
   "source": [
    "# returns a list with the micro and macro displacement after the movement\n",
    "def eval_displacement(old_centroid, new_centroid):\n",
    "    old_c_micro, old_c_macro = old_centroid\n",
    "    new_c_micro, new_c_macro = new_centroid\n",
    "    return [manhattan(old_c_micro, new_c_micro), manhattan(old_c_macro, new_c_macro)]"
   ]
  },
  {
   "cell_type": "code",
   "execution_count": 611,
   "metadata": {},
   "outputs": [],
   "source": [
    "# computes the movements required to get to the position encoded in new_alphas, which has the form [new_alphax, new_alphay]\n",
    "#\n",
    "# it also updates the new position of the robot, so there is no need to do that separately\n",
    "#\n",
    "def compute_path_to_position(robot, new_alphas):\n",
    "\n",
    "    # starting centroid\n",
    "    old_centroid = find_closest_centroid(centroids, robot.betax, robot.betay)\n",
    "\n",
    "    # assign new positions\n",
    "    robot.alphax, robot.alphay = new_alphas\n",
    "    robot.betax, robot.betay = c_ampl(robot.alphax), c_ampl(robot.alphay)\n",
    "\n",
    "    # new centroid\n",
    "    new_centroid = find_closest_centroid(centroids, robot.betax, robot.betay)\n",
    "\n",
    "    # displacement between the new and starting centroids\n",
    "    displacement = eval_displacement(old_centroid, new_centroid)\n",
    "\n",
    "    #\n",
    "    # Planning the path according to the different possible displacement:\n",
    "    #   - macro: the robot changes macro-cell but stays in the same micro-cell\n",
    "    #   - micro: the robot changes micro-cell but stays in the same macro-cell\n",
    "    #   - macro and micro: the robot changes both macro and micro cells\n",
    "    #   - if the new position is in the same micro and macro cells nothing happens\n",
    "    # \n",
    "\n",
    "    # --- Macro movement ---\n",
    "    if displacement[0] == 0 and displacement[1] != 0:\n",
    "        print(f\"{robot.name}: macro\")\n",
    "        evaluated_path = groverPlanner.find_path(old_centroid, new_centroid, m_type=\"macro\")\n",
    "        print(f\"{robot.name} evaluated path: {evaluated_path[0][:-2]}\")\n",
    "\n",
    "    # --- Micro movement ---\n",
    "    elif displacement[0] != 0 and displacement[1] == 0:\n",
    "        print(f\"{robot.name}: micro\")\n",
    "        evaluated_path = groverPlanner.find_path(old_centroid, new_centroid, m_type=\"micro\")\n",
    "        print(f\"{robot.name} evaluated path: {evaluated_path[0][:-2]}\")\n",
    "\n",
    "    # --- Macro and micro movement ---\n",
    "    elif displacement[0] != 0 and displacement[1] != 0:\n",
    "        print(f\"{robot.name}: macro-micro\")\n",
    "        # macro path\n",
    "        evaluated_path = groverPlanner.find_path(old_centroid, new_centroid, m_type=\"macro\")\n",
    "        print(f\"{robot.name} evaluated path (macro): {evaluated_path[0][:-2]}\")\n",
    "    \n",
    "        # micro path\n",
    "        evaluated_path = groverPlanner.find_path(old_centroid, new_centroid, m_type=\"micro\")\n",
    "        print(f\"{robot.name} evaluated path (micro): {evaluated_path[0][:-2]}\")"
   ]
  },
  {
   "attachments": {},
   "cell_type": "markdown",
   "metadata": {},
   "source": [
    "We also incorporate a check on whether an evaluated position ends up in an obstacle cell, with the `is_position_on_obstacle(new_alphas)` method. If that was the case, the new position is discarded and recomputed. This is done to improve the efficiency of the algorithm, avoiding the construction and execution of a Grover procedure that searches a path toward a forbidden location."
   ]
  },
  {
   "cell_type": "code",
   "execution_count": 612,
   "metadata": {},
   "outputs": [],
   "source": [
    "# check whether a given position ends up in a obstacle cell\n",
    "def is_position_on_obstacle(new_alphas):\n",
    "    new_pos_centroid = find_closest_centroid(centroids, c_ampl(new_alphas[0]), c_ampl(new_alphas[1]))\n",
    "    return True if new_pos_centroid in obstacles_centroids.values() else False"
   ]
  },
  {
   "attachments": {},
   "cell_type": "markdown",
   "metadata": {},
   "source": [
    "In the interest of enahncing the convergence speed of the algorithm, the reshuffling is done in a goal-oriented manner, i.e.,  it is evaluated over the sub-rectangle pinpointed by the micro-cells of the target $\\textbf{g}$ and the robot with lowest reward, `farthest_robot` (i.e., the farthest from the goal, with the idea of maximum coverage of the working map to restrict the occurrence of local minima). Here, in view of the fact that the swarm and the target have been initialized in opposite corners of the map, the sub-rectangle defined by the farthest robot and the target of the informed reshuffling is indeed the entire map."
   ]
  },
  {
   "cell_type": "code",
   "execution_count": 613,
   "metadata": {},
   "outputs": [],
   "source": [
    "def informed_alpha_reshuffling():\n",
    "\n",
    "    # parse the coordinates of farthest robot from the target\n",
    "    #\n",
    "    # since this method is called when the robots are in a cluster (either at the start or ar the end\n",
    "    # of a full procedure), it does not matter which robot is chosen, all being quite close to each other;\n",
    "    # here, among all, I am choosing the farthest one with the idea of \"maximum coverage\" of the search space\n",
    "    #\n",
    "    farthest_robot = min(Robotx._registry, key=attrgetter('delta'))\n",
    "    f_centroid = find_closest_centroid(centroids, farthest_robot.betax, farthest_robot.betay)\n",
    "    f_coords = list(list(centroids.keys())[list(centroids.values()).index(f_centroid)])\n",
    "\n",
    "    # handle the case where the robot lies in the same row/column of the target\n",
    "    if f_coords[0] == T.x:\n",
    "        f_coords[0] = f_coords[1]\n",
    "    elif f_coords[1] == T.y:\n",
    "        f_coords[1] = f_coords[0]\n",
    "\n",
    "    # compute the new reshuffled position within the rectangle \n",
    "    return [c_ampl(np.random.uniform(f_coords[0], T.x)), c_ampl(np.random.uniform(f_coords[1], T.y))]"
   ]
  },
  {
   "attachments": {},
   "cell_type": "markdown",
   "metadata": {},
   "source": [
    "Generally speaking, the reshuffling is invoked whenever none of the robots has a sufficient proximity to the target, which right after the initialization stage, is trivially true."
   ]
  },
  {
   "cell_type": "code",
   "execution_count": 614,
   "metadata": {},
   "outputs": [
    {
     "name": "stdout",
     "output_type": "stream",
     "text": [
      "Do all the robots have a reward lower than 0.8? : True\n",
      "R0: macro-micro\n",
      "R0 evaluated path (macro): 0\n",
      "R0 evaluated path (micro): 11\n",
      "R1: macro-micro\n",
      "R1 evaluated path (macro): 0\n",
      "R1 evaluated path (micro): 11\n"
     ]
    }
   ],
   "source": [
    "result = all(i.delta < 0.8 for i in Robotx._registry)\n",
    "print(\"Do all the robots have a reward lower than 0.8? : \" + str(result))\n",
    "\n",
    "# if True: reshuffle positions\n",
    "# if False: do nothing\n",
    "\n",
    "# reshuffling is considered invalid if the target position of the robot is the same as that of an obstacle;\n",
    "# with this consideration, no computational time is wasted trying to find the path to an inaccessible cell\n",
    "\n",
    "if result == True:\n",
    "    for i in Robotx._registry:\n",
    "        new_alphas = informed_alpha_reshuffling()\n",
    "\n",
    "        # if new position ends up in an obstacle cell, recompute the alphas\n",
    "        while is_position_on_obstacle(new_alphas):\n",
    "            new_alphas = informed_alpha_reshuffling()\n",
    "\n",
    "        compute_path_to_position(i, new_alphas)          "
   ]
  },
  {
   "attachments": {},
   "cell_type": "markdown",
   "metadata": {},
   "source": [
    "After each time the robots change position, we re-evaluate their individual and average rewards, to check if indeed the swarm has moved closer to the target, which we can mathematically verify by observing an higher average reward with respect to the previous one."
   ]
  },
  {
   "cell_type": "code",
   "execution_count": 615,
   "metadata": {},
   "outputs": [],
   "source": [
    "# recalculate the rewards\n",
    "def recalculate_rewards():\n",
    "    for i in Robotx._registry:\n",
    "        i.delta = reward(T, i.betax, i.betay)\n",
    "        i.gamma = c_ampl(i.delta)\n",
    "        print(f\"{i.name} {i.delta:.2f}\")"
   ]
  },
  {
   "cell_type": "code",
   "execution_count": 616,
   "metadata": {},
   "outputs": [
    {
     "name": "stdout",
     "output_type": "stream",
     "text": [
      "R0 0.58\n",
      "R1 0.65\n",
      "Average reward: 0.6180313826370408\n"
     ]
    }
   ],
   "source": [
    "recalculate_rewards()\n",
    "print(f\"Average reward: {calculate_avg_reward()}\")"
   ]
  },
  {
   "cell_type": "code",
   "execution_count": 617,
   "metadata": {},
   "outputs": [
    {
     "data": {
      "image/png": "[encoded data removed]",
      "text/plain": [
       "<Figure size 432x288 with 1 Axes>"
      ]
     },
     "metadata": {
      "needs_background": "light"
     },
     "output_type": "display_data"
    }
   ],
   "source": [
    "plot_scatterplot(\"Reshuffled positions\")"
   ]
  },
  {
   "attachments": {},
   "cell_type": "markdown",
   "metadata": {},
   "source": [
    "## 5. Quantum swarm algorithm\n",
    "\n",
    "Here we implement the swarm algorithm defined in __[Categories, Quantum Computing, and Swarm Robotics: A Case Study.](https://doi.org/10.3390/math10030372)__ and __Modeling and Designing a Robotic Swarm: a Quantum Computing Approach__. This procedure models the pairwise interaction between robots on target proximity to evaluate where the swarm needs to move to in order to improve its overall reward."
   ]
  },
  {
   "attachments": {},
   "cell_type": "markdown",
   "metadata": {},
   "source": [
    "### 5.1 Circuit construction and execution"
   ]
  },
  {
   "cell_type": "code",
   "execution_count": 618,
   "metadata": {},
   "outputs": [],
   "source": [
    "q = QuantumRegister(5, 'q') # qubits # changed to 9, formerly 15\n",
    "m2 = ClassicalRegister(1, 'c1') # classical bits (separated is better)\n",
    "m3 = ClassicalRegister(1, 'c2')\n",
    "m4 = ClassicalRegister(1, 'c3')\n",
    "meas = ClassicalRegister(3, 'meas')\n",
    "\n",
    "qc3 = QuantumCircuit(q, m2, m3, m4) # to reach the target\n",
    "qc4 = QuantumCircuit(q, m2, m3, m4) # to get back to the nest"
   ]
  },
  {
   "attachments": {},
   "cell_type": "markdown",
   "metadata": {},
   "source": [
    "The first step in this section corresponds to extracting $R_{closest}$, the robot that is closest to the target, so that its parameters can be fed as input to the quantum algorithm. Such robot is selected based on the highest success reward $\\delta$ out of all of the components of the swarm."
   ]
  },
  {
   "cell_type": "code",
   "execution_count": 619,
   "metadata": {},
   "outputs": [],
   "source": [
    "# utility function to better visualize the statevectors we are working with\n",
    "def print_formatted_vector(*args):\n",
    "    for vector in args:\n",
    "        print(\"[\" + \"\".join(f\"{val:.2f} \" for val in vector).strip() + \"]\")"
   ]
  },
  {
   "cell_type": "code",
   "execution_count": 620,
   "metadata": {},
   "outputs": [
    {
     "name": "stdout",
     "output_type": "stream",
     "text": [
      "Closest robot to the target: R1 0.39 0.22 0.65\n",
      "[0.92 0.39]\n",
      "[0.97 0.22]\n",
      "[0.76 0.65]\n",
      "[0.92 0.39]\n",
      "[0.97 0.22]\n",
      "[0.76 0.65]\n"
     ]
    }
   ],
   "source": [
    "# in case of ties on delta score, the max() function outputs the first maximum item it processes \n",
    "closest_robot = max(Robotx._registry, key=attrgetter('delta'))\n",
    "print(f\"Closest robot to the target: {closest_robot.name} {closest_robot.betax:.2f} {closest_robot.betay:.2f} {closest_robot.delta:.2f}\")\n",
    "\n",
    "# and then it enters the gate\n",
    "vector0 = [closest_robot.alphax, closest_robot.betax]\n",
    "vector1 = [closest_robot.alphay, closest_robot.betay]\n",
    "vector3 = [closest_robot.gamma, closest_robot.delta]\n",
    "\n",
    "normalized_v0 = vector0/np.linalg.norm(vector0)\n",
    "normalized_v1 = vector1/np.linalg.norm(vector1)\n",
    "normalized_v3 = vector3/np.linalg.norm(vector3)\n",
    "\n",
    "print_formatted_vector(vector0, vector1, vector3)\n",
    "print_formatted_vector(normalized_v0, normalized_v1, normalized_v3)"
   ]
  },
  {
   "attachments": {},
   "cell_type": "markdown",
   "metadata": {},
   "source": [
    "The qubits' statevector get initialized with the normalized states computed over the closest robot, and then the rest of the circuit is constructed."
   ]
  },
  {
   "cell_type": "code",
   "execution_count": 621,
   "metadata": {},
   "outputs": [
    {
     "data": {
      "text/plain": [
       "<qiskit.circuit.instructionset.InstructionSet at 0x1bb3e48e3d0>"
      ]
     },
     "execution_count": 621,
     "metadata": {},
     "output_type": "execute_result"
    }
   ],
   "source": [
    "# direct initialization with amplitudes vector\n",
    "qc3.initialize(normalized_v0, q[0])\n",
    "qc3.initialize(normalized_v1, q[1])\n",
    "qc3.initialize(normalized_v3, q[2])"
   ]
  },
  {
   "cell_type": "code",
   "execution_count": 622,
   "metadata": {},
   "outputs": [
    {
     "data": {
      "image/png": "[encoded data removed]",
      "text/plain": [
       "<Figure size 869.197x505.68 with 1 Axes>"
      ]
     },
     "execution_count": 622,
     "metadata": {},
     "output_type": "execute_result"
    }
   ],
   "source": [
    "# this is the core code, and it is unchanged across time\n",
    "#\n",
    "qc3.barrier(q)\n",
    "\n",
    "qc3.ccx(q[0],q[2],q[3]) \n",
    "qc3.ccx(q[1],q[2],q[4])\n",
    "\n",
    "qc3.x(q[2])\n",
    "\n",
    "qc3.ch(q[2],q[3])\n",
    "qc3.ch(q[2],q[4])\n",
    "\n",
    "qc3.x(q[2])\n",
    "\n",
    "qc3.barrier(q)\n",
    "\n",
    "# perform measurements and store them in classical bits\n",
    "qc3.measure(q[2],m2[0])\n",
    "qc3.measure(q[3],m3[0])\n",
    "qc3.measure(q[4],m4[0])\n",
    "\n",
    "# visualization of the ciruit\n",
    "qc3.draw(output=\"mpl\")"
   ]
  },
  {
   "cell_type": "code",
   "execution_count": 623,
   "metadata": {},
   "outputs": [
    {
     "name": "stdout",
     "output_type": "stream",
     "text": [
      "counts:  {'0 1 0': 137, '0 0 1': 345, '1 0 0': 164, '1 1 0': 152, '0 0 0': 138, '1 0 1': 25, '0 1 1': 59, '1 1 1': 4}\n"
     ]
    },
    {
     "data": {
      "image/png": "[encoded data removed]",
      "text/plain": [
       "<Figure size 504x360 with 1 Axes>"
      ]
     },
     "execution_count": 623,
     "metadata": {},
     "output_type": "execute_result"
    }
   ],
   "source": [
    "# --- Simulation ---\n",
    "aer_sim = Aer.get_backend(\"aer_simulator\")\n",
    "transpiled_qc = transpile(qc3, aer_sim)\n",
    "result = aer_sim.run(transpiled_qc).result()\n",
    "\n",
    "counts = result.get_counts()\n",
    "print(\"counts: \", counts)\n",
    "\n",
    "plot_histogram(result.get_counts())"
   ]
  },
  {
   "attachments": {},
   "cell_type": "markdown",
   "metadata": {},
   "source": [
    "### 5.2 Outcome evaluation\n",
    "\n",
    "The most probable states we got from running the simulation are then used to evaluate the outcome of the algorithm"
   ]
  },
  {
   "cell_type": "code",
   "execution_count": 624,
   "metadata": {},
   "outputs": [],
   "source": [
    "# calculate weighted outcome on the most probables outcomes of the circuit\n",
    "def eval_outcome(most_prob_dict, n_outcome):\n",
    "    mapped_weights = list(map(lambda res: int(res[n_outcome*2])*most_prob_dict[res], most_prob_dict))\n",
    "    return sum(mapped_weights)/sum(most_prob_dict.values())"
   ]
  },
  {
   "cell_type": "code",
   "execution_count": 625,
   "metadata": {},
   "outputs": [
    {
     "name": "stdout",
     "output_type": "stream",
     "text": [
      "4 most probable states: {'0 0 1': 345, '1 0 0': 164, '1 1 0': 152, '0 0 0': 138}\n",
      "outcome0: 0.40\n",
      "outcome1: 0.19\n"
     ]
    }
   ],
   "source": [
    "num_most_prob_states = 4\n",
    "\n",
    "# extract the most probable states and then evaluate the outcome\n",
    "most_prob_dict = dict(nlargest(num_most_prob_states, counts.items(), key=itemgetter(1)))\n",
    "print(f\"{num_most_prob_states} most probable states: {most_prob_dict}\")\n",
    "\n",
    "outcome0, outcome1 = eval_outcome(most_prob_dict, 0), eval_outcome(most_prob_dict, 1)\n",
    "\n",
    "print(f\"outcome0: {outcome0:.2f}\\noutcome1: {outcome1:.2f}\")"
   ]
  },
  {
   "attachments": {},
   "cell_type": "markdown",
   "metadata": {},
   "source": [
    "### 5.3 Setting new positions after the gate\n",
    "\n",
    "Once we parsed the desired evaluated position, we make the robots move toward it, also involving a path-planning stage to again compute the best trajectory to reach the destination."
   ]
  },
  {
   "cell_type": "code",
   "execution_count": 626,
   "metadata": {},
   "outputs": [
    {
     "name": "stdout",
     "output_type": "stream",
     "text": [
      "R0 0.29 0.15\n",
      "R0: micro\n",
      "R0 evaluated path: 00\n",
      "R1 0.39 0.22\n"
     ]
    }
   ],
   "source": [
    "for i in Robotx._registry:\n",
    "    print(f\"{i.name} {i.betax:.2f} {i.betay:.2f}\")\n",
    "    if (i.delta != closest_robot.delta or all(i.delta == j.delta for j in Robotx._registry)): # excluding the robot that entered the gate\n",
    "        compute_path_to_position(i, [c_ampl(outcome1), c_ampl(outcome0)]) # update on alphas is done within the function"
   ]
  },
  {
   "cell_type": "code",
   "execution_count": 627,
   "metadata": {},
   "outputs": [
    {
     "data": {
      "image/png": "[encoded data removed]",
      "text/plain": [
       "<Figure size 432x288 with 1 Axes>"
      ]
     },
     "metadata": {
      "needs_background": "light"
     },
     "output_type": "display_data"
    }
   ],
   "source": [
    "plot_scatterplot(\"Closest robot position update\")"
   ]
  },
  {
   "cell_type": "code",
   "execution_count": 628,
   "metadata": {},
   "outputs": [
    {
     "name": "stdout",
     "output_type": "stream",
     "text": [
      "before the gate: R0 0.58\n",
      "before the gate: R1 0.65\n"
     ]
    }
   ],
   "source": [
    "# former rewards \n",
    "for i in  Robotx._registry:\n",
    "    print(f\"before the gate: {i.name} {i.delta:.2f}\")"
   ]
  },
  {
   "cell_type": "code",
   "execution_count": 629,
   "metadata": {},
   "outputs": [
    {
     "name": "stdout",
     "output_type": "stream",
     "text": [
      "R0 0.48\n",
      "R1 0.65\n",
      "Average reward: 0.5654470982028473\n"
     ]
    }
   ],
   "source": [
    "# new rewards\n",
    "recalculate_rewards()\n",
    "print(f\"Average reward: {calculate_avg_reward()}\")"
   ]
  },
  {
   "attachments": {},
   "cell_type": "markdown",
   "metadata": {},
   "source": [
    "We can see that we have yet improved our score on the average reward of the swarm."
   ]
  },
  {
   "attachments": {},
   "cell_type": "markdown",
   "metadata": {},
   "source": [
    "### 5.4 Reaching the new $R_{closest}$\n",
    "\n",
    "Once the swarm has been re-routed by the swarm algorithm, potentially a new $R_{closest}$ emerges, and so the rest of the robots ought to reach it, in the optimal way."
   ]
  },
  {
   "cell_type": "code",
   "execution_count": 630,
   "metadata": {},
   "outputs": [
    {
     "name": "stdout",
     "output_type": "stream",
     "text": [
      "max_attr_.delta: 0.65\n",
      "Most successful robot: R1 0.39 0.22 0.65\n",
      "R0: micro\n",
      "R0 evaluated path: 11\n"
     ]
    }
   ],
   "source": [
    "# parse the most successful robot\n",
    "max_attr_ = max(Robotx._registry, key=attrgetter('delta'))\n",
    "print(f\"max_attr_.delta: {max_attr_.delta:.2f}\")\n",
    "\n",
    "for i in Robotx._registry:\n",
    "    if (i.delta == max_attr_.delta):\n",
    "        print(f\"Most successful robot: {i.name} {i.betax:.2f} {i.betay:.2f} {i.delta:.2f}\") # and then it enters the gate\n",
    "\n",
    "for j in Robotx._registry:\n",
    "    # to get other robots following it:\n",
    "    if (j != max_attr_): \n",
    "        compute_path_to_position(j, [max_attr_.alphax + np.random.uniform(0,0.01), max_attr_.alphay + np.random.uniform(0,0.01)])"
   ]
  },
  {
   "cell_type": "code",
   "execution_count": 631,
   "metadata": {},
   "outputs": [
    {
     "name": "stdout",
     "output_type": "stream",
     "text": [
      "R0 0.65\n",
      "R1 0.65\n",
      "Average reward: 0.6506485303417122\n"
     ]
    }
   ],
   "source": [
    "recalculate_rewards()\n",
    "print(f\"Average reward: {calculate_avg_reward()}\")"
   ]
  },
  {
   "cell_type": "code",
   "execution_count": 632,
   "metadata": {},
   "outputs": [
    {
     "data": {
      "image/png": "[encoded data removed]",
      "text/plain": [
       "<Figure size 432x288 with 1 Axes>"
      ]
     },
     "metadata": {
      "needs_background": "light"
     },
     "output_type": "display_data"
    }
   ],
   "source": [
    "plot_scatterplot(\"Final configuration\")"
   ]
  },
  {
   "attachments": {},
   "cell_type": "markdown",
   "metadata": {},
   "source": [
    "## 6. Additional algorithm iteration\n",
    "\n",
    "From the final configuration, we saw that while the swarm has indeed moved closer to the target, its position is still far from the actual goal, this is why, in the case that at the end of the procedure we evaluate each of the robots’ rewards to be below the threshold $\\theta = 0.8$ (which assimilates to a good enough proximity to the target), we perform another iteration of the algorithm to get as near to the goal as possible. This is repeated until the threshold value is reached by at least one of the robots."
   ]
  },
  {
   "cell_type": "code",
   "execution_count": 633,
   "metadata": {},
   "outputs": [
    {
     "name": "stdout",
     "output_type": "stream",
     "text": [
      "R0: macro\n",
      "R0 evaluated path: 0\n",
      "R1: macro-micro\n",
      "R1 evaluated path (macro): 0\n",
      "R1 evaluated path (micro): 1\n"
     ]
    }
   ],
   "source": [
    "for i in Robotx._registry:\n",
    "    if (i.delta < 0.8):\n",
    " \n",
    "        new_alphas = informed_alpha_reshuffling()\n",
    "\n",
    "        # if new position ends up in an obstacle cell, recompute the alphas\n",
    "        while is_position_on_obstacle(new_alphas):\n",
    "                new_alphas = informed_alpha_reshuffling()\n",
    "\n",
    "        compute_path_to_position(i, new_alphas)"
   ]
  },
  {
   "cell_type": "code",
   "execution_count": 634,
   "metadata": {},
   "outputs": [
    {
     "name": "stdout",
     "output_type": "stream",
     "text": [
      "R0 0.92\n",
      "R1 0.82\n"
     ]
    }
   ],
   "source": [
    "recalculate_rewards()"
   ]
  },
  {
   "cell_type": "code",
   "execution_count": 635,
   "metadata": {},
   "outputs": [
    {
     "data": {
      "image/png": "[encoded data removed]",
      "text/plain": [
       "<Figure size 432x288 with 1 Axes>"
      ]
     },
     "metadata": {
      "needs_background": "light"
     },
     "output_type": "display_data"
    }
   ],
   "source": [
    "plot_scatterplot(\"Second reshuffle\")"
   ]
  },
  {
   "cell_type": "code",
   "execution_count": 636,
   "metadata": {},
   "outputs": [
    {
     "name": "stdout",
     "output_type": "stream",
     "text": [
      "max_attr_.delta: 0.92\n",
      "Most successful robot: R0 0.85 0.24 0.92\n",
      "R1: micro\n",
      "R1 evaluated path: 0\n"
     ]
    }
   ],
   "source": [
    "# parse the most successful robot\n",
    "max_attr_ = max(Robotx._registry, key=attrgetter('delta'))\n",
    "print(f\"max_attr_.delta: {max_attr_.delta:.2f}\")\n",
    "\n",
    "for i in Robotx._registry:\n",
    "    if (i.delta == max_attr_.delta):\n",
    "        print(f\"Most successful robot: {i.name} {i.betax:.2f} {i.betay:.2f} {i.delta:.2f}\") # and then it enters the gate\n",
    "\n",
    "for j in Robotx._registry:\n",
    "    # to get other robots following it:\n",
    "    if (j != max_attr_): \n",
    "        compute_path_to_position(j, [max_attr_.alphax + np.random.uniform(0,0.01), max_attr_.alphay + np.random.uniform(0,0.01)])   "
   ]
  },
  {
   "cell_type": "code",
   "execution_count": 637,
   "metadata": {},
   "outputs": [
    {
     "name": "stdout",
     "output_type": "stream",
     "text": [
      "R0 0.92\n",
      "R1 0.94\n"
     ]
    }
   ],
   "source": [
    "recalculate_rewards()"
   ]
  },
  {
   "cell_type": "code",
   "execution_count": 638,
   "metadata": {},
   "outputs": [
    {
     "data": {
      "image/png": "[encoded data removed]",
      "text/plain": [
       "<Figure size 432x288 with 1 Axes>"
      ]
     },
     "metadata": {
      "needs_background": "light"
     },
     "output_type": "display_data"
    }
   ],
   "source": [
    "plot_scatterplot(\"Intermediate step\")"
   ]
  },
  {
   "attachments": {},
   "cell_type": "markdown",
   "metadata": {},
   "source": [
    "Here, the quantum swarm algorithm is invoked yet another time."
   ]
  },
  {
   "cell_type": "code",
   "execution_count": 640,
   "metadata": {},
   "outputs": [
    {
     "name": "stdout",
     "output_type": "stream",
     "text": [
      "Closest robot to the target: R1 0.85 0.20 0.94\n",
      "[0.53 0.85]\n",
      "[0.98 0.20]\n",
      "[0.33 0.94]\n",
      "[0.53 0.85]\n",
      "[0.98 0.20]\n",
      "[0.33 0.94]\n"
     ]
    }
   ],
   "source": [
    "# in case of ties on delta score, the max() function outputs the first maximum item it processes \n",
    "closest_robot = max(Robotx._registry, key=attrgetter('delta'))\n",
    "print(f\"Closest robot to the target: {closest_robot.name} {closest_robot.betax:.2f} {closest_robot.betay:.2f} {closest_robot.delta:.2f}\")\n",
    "\n",
    "# and then it enters the gate\n",
    "vector0 = [closest_robot.alphax, closest_robot.betax]\n",
    "vector1 = [closest_robot.alphay, closest_robot.betay]\n",
    "vector3 = [closest_robot.gamma, closest_robot.delta]\n",
    "\n",
    "normalized_v0 = vector0/np.linalg.norm(vector0)\n",
    "normalized_v1 = vector1/np.linalg.norm(vector1)\n",
    "normalized_v3 = vector3/np.linalg.norm(vector3)\n",
    "\n",
    "print_formatted_vector(vector0, vector1, vector3)\n",
    "print_formatted_vector(normalized_v0, normalized_v1, normalized_v3)"
   ]
  },
  {
   "cell_type": "code",
   "execution_count": 641,
   "metadata": {},
   "outputs": [
    {
     "data": {
      "text/plain": [
       "<qiskit.circuit.instructionset.InstructionSet at 0x1bb3e216820>"
      ]
     },
     "execution_count": 641,
     "metadata": {},
     "output_type": "execute_result"
    }
   ],
   "source": [
    "# direct initialization with amplitudes vector\n",
    "qc3.initialize(normalized_v0, q[0])\n",
    "qc3.initialize(normalized_v1, q[1])\n",
    "qc3.initialize(normalized_v3, q[2])"
   ]
  },
  {
   "cell_type": "code",
   "execution_count": 642,
   "metadata": {},
   "outputs": [
    {
     "data": {
      "text/plain": [
       "<qiskit.circuit.instructionset.InstructionSet at 0x1bb3e1d1580>"
      ]
     },
     "execution_count": 642,
     "metadata": {},
     "output_type": "execute_result"
    }
   ],
   "source": [
    "# this is the core code, and it is unchanged across time\n",
    "\n",
    "qc3.barrier(q)\n",
    "\n",
    "qc3.ccx(q[0],q[2],q[3]) \n",
    "qc3.ccx(q[1],q[2],q[4])\n",
    "\n",
    "qc3.x(q[2])\n",
    "\n",
    "qc3.ch(q[2],q[3])\n",
    "qc3.ch(q[2],q[4])\n",
    "\n",
    "qc3.x(q[2])\n",
    "\n",
    "qc3.barrier(q)"
   ]
  },
  {
   "cell_type": "code",
   "execution_count": 643,
   "metadata": {},
   "outputs": [
    {
     "data": {
      "text/plain": [
       "<qiskit.circuit.instructionset.InstructionSet at 0x1bb3e21fd90>"
      ]
     },
     "execution_count": 643,
     "metadata": {},
     "output_type": "execute_result"
    }
   ],
   "source": [
    "# perform measurements and store them in classical bits\n",
    "\n",
    "qc3.measure(q[2],m2[0])\n",
    "qc3.measure(q[3],m3[0])\n",
    "qc3.measure(q[4],m4[0])"
   ]
  },
  {
   "cell_type": "code",
   "execution_count": 644,
   "metadata": {},
   "outputs": [
    {
     "name": "stdout",
     "output_type": "stream",
     "text": [
      "counts:  {'0 0 1': 267, '1 0 0': 40, '0 1 1': 356, '0 0 0': 26, '1 1 1': 128, '1 0 1': 153, '0 1 0': 20, '1 1 0': 34}\n"
     ]
    },
    {
     "data": {
      "image/png": "[encoded data removed]",
      "text/plain": [
       "<Figure size 504x360 with 1 Axes>"
      ]
     },
     "execution_count": 644,
     "metadata": {},
     "output_type": "execute_result"
    }
   ],
   "source": [
    "# --- Simulation ---\n",
    "transpiled_qc = transpile(qc3, aer_sim)\n",
    "result = aer_sim.run(transpiled_qc).result()\n",
    "\n",
    "counts = result.get_counts()\n",
    "print(\"counts: \", counts)\n",
    "\n",
    "plot_histogram(result.get_counts())"
   ]
  },
  {
   "cell_type": "code",
   "execution_count": 645,
   "metadata": {},
   "outputs": [
    {
     "name": "stdout",
     "output_type": "stream",
     "text": [
      "4 most probable states: {'0 1 1': 356, '0 0 1': 267, '1 0 1': 153, '1 1 1': 128}\n",
      "outcome0: 0.31\n",
      "outcome1: 0.54\n"
     ]
    }
   ],
   "source": [
    "# extract the most probable states and then evaluate the outcome\n",
    "most_prob_dict = dict(nlargest(num_most_prob_states, counts.items(), key=itemgetter(1)))\n",
    "print(f\"{num_most_prob_states} most probable states: {most_prob_dict}\")\n",
    "\n",
    "outcome0, outcome1 = eval_outcome(most_prob_dict, 0), eval_outcome(most_prob_dict, 1)\n",
    "\n",
    "print(f\"outcome0: {outcome0:.2f}\\noutcome1: {outcome1:.2f}\")"
   ]
  },
  {
   "cell_type": "code",
   "execution_count": 646,
   "metadata": {},
   "outputs": [
    {
     "name": "stdout",
     "output_type": "stream",
     "text": [
      "R0 0.85 0.24\n",
      "R0: micro\n",
      "R0 evaluated path: 11\n",
      "R1 0.85 0.20\n"
     ]
    }
   ],
   "source": [
    "for i in Robotx._registry:\n",
    "    print(f\"{i.name} {i.betax:.2f} {i.betay:.2f}\")\n",
    "    if (i.delta != closest_robot.delta or all(i.delta == j.delta for j in Robotx._registry)): # excluding the robot that entered the gate\n",
    "        compute_path_to_position(i, [c_ampl(outcome1), c_ampl(outcome0)]) # update on alphas is done within the function"
   ]
  },
  {
   "cell_type": "code",
   "execution_count": 647,
   "metadata": {},
   "outputs": [
    {
     "name": "stdout",
     "output_type": "stream",
     "text": [
      "before the gate: R0 0.92\n",
      "before the gate: R1 0.94\n"
     ]
    }
   ],
   "source": [
    "# former rewards \n",
    "for i in  Robotx._registry:\n",
    "    print(f\"before the gate: {i.name} {i.delta:.2f}\")"
   ]
  },
  {
   "cell_type": "code",
   "execution_count": 648,
   "metadata": {},
   "outputs": [
    {
     "name": "stdout",
     "output_type": "stream",
     "text": [
      "Rewards after the gate: \n",
      "R0 0.73\n",
      "R1 0.94\n"
     ]
    }
   ],
   "source": [
    "# new rewards\n",
    "print(\"Rewards after the gate: \")\n",
    "recalculate_rewards()"
   ]
  },
  {
   "cell_type": "code",
   "execution_count": 649,
   "metadata": {},
   "outputs": [
    {
     "name": "stdout",
     "output_type": "stream",
     "text": [
      "max_attr_.delta: 0.94\n",
      "Most successful robot: R1 0.85 0.20 0.94\n",
      "R0: micro\n",
      "R0 evaluated path: 11\n"
     ]
    }
   ],
   "source": [
    "# parse the most successful robot\n",
    "max_attr_ = max(Robotx._registry, key=attrgetter('delta'))\n",
    "print(f\"max_attr_.delta: {max_attr_.delta:.2f}\")\n",
    "\n",
    "for i in Robotx._registry:\n",
    "    if (i.delta == max_attr_.delta):\n",
    "        print(f\"Most successful robot: {i.name} {i.betax:.2f} {i.betay:.2f} {i.delta:.2f}\") # and then it enters the gate\n",
    "\n",
    "for j in Robotx._registry:\n",
    "    # to get other robots following it:\n",
    "    if (j != max_attr_): \n",
    "        compute_path_to_position(j, [max_attr_.alphax + np.random.uniform(0,0.01), max_attr_.alphay + np.random.uniform(0,0.01)])"
   ]
  },
  {
   "cell_type": "code",
   "execution_count": 650,
   "metadata": {},
   "outputs": [
    {
     "name": "stdout",
     "output_type": "stream",
     "text": [
      "R0 0.98\n",
      "R1 0.94\n"
     ]
    }
   ],
   "source": [
    "recalculate_rewards()"
   ]
  },
  {
   "cell_type": "code",
   "execution_count": 651,
   "metadata": {},
   "outputs": [
    {
     "data": {
      "image/png": "[encoded data removed]",
      "text/plain": [
       "<Figure size 432x288 with 1 Axes>"
      ]
     },
     "metadata": {
      "needs_background": "light"
     },
     "output_type": "display_data"
    }
   ],
   "source": [
    "plot_scatterplot(\"Final after second gate\")"
   ]
  },
  {
   "attachments": {},
   "cell_type": "markdown",
   "metadata": {},
   "source": [
    "The swarm has reached the desired proximity to the goal, and therefore the algorithm can halt."
   ]
  }
 ],
 "metadata": {
  "interpreter": {
   "hash": "9650cb4e16cdd4a8e8e2d128bf38d875813998db22a3c986335f89e0cb4d7bb2"
  },
  "kernelspec": {
   "display_name": "Python 3.8.2 64-bit",
   "language": "python",
   "name": "python3"
  },
  "language_info": {
   "codemirror_mode": {
    "name": "ipython",
    "version": 3
   },
   "file_extension": ".py",
   "mimetype": "text/x-python",
   "name": "python",
   "nbconvert_exporter": "python",
   "pygments_lexer": "ipython3",
   "version": "3.8.2"
  }
 },
 "nbformat": 4,
 "nbformat_minor": 2
}
