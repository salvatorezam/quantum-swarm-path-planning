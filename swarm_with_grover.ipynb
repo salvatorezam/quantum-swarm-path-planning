{
 "cells": [
  {
   "cell_type": "code",
   "execution_count": 465,
   "metadata": {},
   "outputs": [],
   "source": [
    "from qiskit import QuantumRegister, ClassicalRegister, QuantumCircuit, Aer, transpile\n",
    "import numpy as np\n",
    "from qiskit.visualization import plot_histogram\n",
    "from qiskit import *\n",
    "import random\n",
    "import matplotlib.pyplot as plt\n",
    "from operator import attrgetter\n",
    "import heapq\n",
    "from operator import itemgetter\n",
    "from scipy.spatial.distance import cityblock"
   ]
  },
  {
   "cell_type": "code",
   "execution_count": 466,
   "metadata": {},
   "outputs": [],
   "source": [
    "# Target & reward ------------------------------------------------------------------------"
   ]
  },
  {
   "cell_type": "code",
   "execution_count": 467,
   "metadata": {},
   "outputs": [],
   "source": [
    "class Target:\n",
    "    def __init__(self,name,x,y): # no indetermination in the target's position\n",
    "        self.name = name\n",
    "        self.x = x\n",
    "        self.y = y"
   ]
  },
  {
   "cell_type": "code",
   "execution_count": 468,
   "metadata": {},
   "outputs": [],
   "source": [
    "T = Target(\"T\", 0.875, 0.125) # deep in the ocean"
   ]
  },
  {
   "cell_type": "code",
   "execution_count": 469,
   "metadata": {},
   "outputs": [],
   "source": [
    "# the closer the target, the less the distance, the higher the reward\n",
    "def reward(T, betax, betay):\n",
    "    return 1 - ((T.x - betax)**2 + (T.y - betay)**2)**0.5"
   ]
  },
  {
   "cell_type": "code",
   "execution_count": 470,
   "metadata": {},
   "outputs": [],
   "source": [
    "# Obstacles ----------------------------------------------------------------------------"
   ]
  },
  {
   "cell_type": "code",
   "execution_count": 471,
   "metadata": {},
   "outputs": [],
   "source": [
    "class Obstacle: # Just a point for now\n",
    "    def __init__(self,name,x,y):\n",
    "        self.name = name\n",
    "        self.x = x\n",
    "        self.y = y"
   ]
  },
  {
   "cell_type": "code",
   "execution_count": 472,
   "metadata": {},
   "outputs": [],
   "source": [
    "O = Obstacle(\"Oo\", 0.001, 0.001) # deep in the ocean"
   ]
  },
  {
   "cell_type": "code",
   "execution_count": 473,
   "metadata": {},
   "outputs": [],
   "source": [
    "# Robots -------------------------------------------------------------------------------"
   ]
  },
  {
   "cell_type": "code",
   "execution_count": 474,
   "metadata": {},
   "outputs": [],
   "source": [
    "class Robotx(object):\n",
    "    _registry = []\n",
    "\n",
    "    def __init__(self, name, alphax, betax, alphay, betay, gamma, delta):\n",
    "        self._registry.append(self)\n",
    "        self.name = name\n",
    "        self.alphax = alphax\n",
    "        self.betax = betax\n",
    "        self.alphay = alphay\n",
    "        self.betay = betay\n",
    "        delta = reward(T, betax, betay)\n",
    "        gamma = 1 - delta\n",
    "        self.gamma = gamma\n",
    "        self.delta = delta\n",
    "        self.arrows = []"
   ]
  },
  {
   "cell_type": "code",
   "execution_count": 475,
   "metadata": {},
   "outputs": [],
   "source": [
    "# arbitrary number of robots that, at the start, are uniformly distributed in the square of side length radius*2,\n",
    "# centered in starting_cluster_coord\n",
    "#\n",
    "num_of_robots = 2\n",
    "\n",
    "# must be lower than 0.25, otherwise, the robots would start on different cells\n",
    "radius = 0.05\n",
    "\n",
    "# center of the (0,0) cell \n",
    "starting_cluster_coord = (0.125, 0.875)\n",
    "\n",
    "a_x, a_y = 1-starting_cluster_coord[0]-radius, 1-starting_cluster_coord[0]+radius\n",
    "b_x, b_y = 1-starting_cluster_coord[1]-radius, 1-starting_cluster_coord[1]+radius\n",
    "\n",
    "for i in range(num_of_robots):\n",
    "    x = random.uniform(a_x,a_y)\n",
    "    y = random.uniform(b_x,b_y)\n",
    "    Robotx('R'+str(i), x, 1-x, y, 1-y, 1 - reward(T, 1-x, 1-y), reward(T, 1-x, 1-y))"
   ]
  },
  {
   "cell_type": "code",
   "execution_count": 476,
   "metadata": {},
   "outputs": [
    {
     "name": "stdout",
     "output_type": "stream",
     "text": [
      "R0 0.10 0.86 1.07 -0.07\n",
      "R1 0.15 0.87 1.04 -0.04\n"
     ]
    }
   ],
   "source": [
    "# note: values are stored with full precision, rounding is done only on visualization (with :.2f)\n",
    "\n",
    "for k in Robotx._registry:\n",
    "    print(f\"{k.name} {k.betax:.2f} {k.betay:.2f} {k.gamma:.2f} {k.delta:.2f}\")"
   ]
  },
  {
   "cell_type": "code",
   "execution_count": 477,
   "metadata": {},
   "outputs": [
    {
     "name": "stdout",
     "output_type": "stream",
     "text": [
      "R0 -0.07\n",
      "R1 -0.04\n"
     ]
    }
   ],
   "source": [
    "for k in Robotx._registry:\n",
    "    print(f\"{k.name} {k.delta:.2f}\")"
   ]
  },
  {
   "cell_type": "code",
   "execution_count": 478,
   "metadata": {},
   "outputs": [
    {
     "data": {
      "image/png": "[encoded data removed]",
      "text/plain": [
       "<Figure size 432x288 with 1 Axes>"
      ]
     },
     "metadata": {
      "needs_background": "light"
     },
     "output_type": "display_data"
    }
   ],
   "source": [
    "def plot_scatterplot():\n",
    "\n",
    "    # to print grid on map\n",
    "    ax = plt.figure().gca()\n",
    "    ax.set_xticks(np.arange(0, 1, 0.25))\n",
    "    ax.set_yticks(np.arange(0, 1., 0.25))\n",
    "    plt.grid()\n",
    "\n",
    "    for i in Robotx._registry:\n",
    "        robot_color = hex(int(\"0x30ca15\", 16) + int(\"0x00bb00\", 16)*int(i.name[1])).replace(\"0x\",\"#\")\n",
    "        plt.scatter(i.betax, i.betay, s = 300, marker = 'o', color = robot_color)\n",
    "        \n",
    "    plt.scatter(T.x, T.y, s = 400, marker = '*', color = 'turquoise')\n",
    "    plt.scatter(O.x, O.y, s = 400, marker = 'p', color = 'red')\n",
    "\n",
    "    plt.axis([0, 1, 0, 1])\n",
    "    plt.show() \n",
    "\n",
    "plot_scatterplot()"
   ]
  },
  {
   "cell_type": "code",
   "execution_count": 479,
   "metadata": {},
   "outputs": [
    {
     "name": "stdout",
     "output_type": "stream",
     "text": [
      "R0 -0.07 achtung!\n",
      "R1 -0.04 achtung!\n"
     ]
    }
   ],
   "source": [
    "for r in Robotx._registry:\n",
    "    if (r.delta < 0.5):\n",
    "        print(f\"{r.name} {r.delta:.2f} achtung!\") # and start from this point to build the reshuffle section"
   ]
  },
  {
   "cell_type": "code",
   "execution_count": 480,
   "metadata": {},
   "outputs": [],
   "source": [
    "# Grover planner -------------------------------------------------------------------------    "
   ]
  },
  {
   "cell_type": "code",
   "execution_count": 481,
   "metadata": {},
   "outputs": [],
   "source": [
    "# takes as input strings with the binary encoding of cells and outputs the manhattan distance between them\n",
    "def manhattan(start_cell, target_cell):\n",
    "    start_cell_v, target_cell_v = [int(b) for b in start_cell], [int(b) for b in target_cell]\n",
    "    return int(cityblock(start_cell_v, target_cell_v).item())"
   ]
  },
  {
   "cell_type": "code",
   "execution_count": 482,
   "metadata": {},
   "outputs": [],
   "source": [
    "class GroverPlanner:\n",
    "\n",
    "    def XOR(self, qc, a, b, output):\n",
    "        qc.cx(a, output)\n",
    "        qc.cx(b, output)\n",
    "\n",
    "    def encode_target(self, qc, target_cell, qubits):\n",
    "        for idx, bit in enumerate(target_cell):\n",
    "            bitn = int(bit)\n",
    "            if not bitn:\n",
    "                qc.x(qubits[idx])\n",
    "\n",
    "    def diffuser(self, nqubits):\n",
    "        diff = QuantumCircuit(nqubits)\n",
    "        # Apply transformation |s> -> |00..0> (H-gates)\n",
    "        for qubit in range(nqubits):\n",
    "            diff.h(qubit)\n",
    "        # Apply transformation |00..0> -> |11..1> (X-gates)\n",
    "        for qubit in range(nqubits):\n",
    "            diff.x(qubit)\n",
    "        # Do multi-controlled-Z gate\n",
    "        diff.h(nqubits - 1)\n",
    "        diff.mct(list(range(nqubits - 1)), nqubits - 1)  # multi-controlled-toffoli\n",
    "        diff.h(nqubits - 1)\n",
    "        # Apply transformation |11..1> -> |00..0>\n",
    "        for qubit in range(nqubits):\n",
    "            diff.x(qubit)\n",
    "        # Apply transformation |00..0> -> |s>\n",
    "        for qubit in range(nqubits):\n",
    "            diff.h(qubit)\n",
    "        # We will return the diffuser as a gate\n",
    "        U_s = diff.to_gate()\n",
    "        U_s.name = \"U$_\\psi$\"\n",
    "        return U_s\n",
    "\n",
    "    def oracle(self, num_of_M, target_cell, qc, pos_qubits, mov_qubits, c, output):\n",
    "\n",
    "        if num_of_M == 1:\n",
    "            # -- First M --\n",
    "            self.XOR(qc, pos_qubits[1], mov_qubits[0], c[0])\n",
    "            qc.x(c[0])\n",
    "            self.XOR(qc, pos_qubits[0], mov_qubits[0], c[1])\n",
    "\n",
    "            self.encode_target(qc, target_cell, [c[0], c[1]])\n",
    "            qc.ccx(c[0], c[1], output)\n",
    "            self.encode_target(qc, target_cell, [c[0], c[1]])\n",
    "\n",
    "            # -- First M^-1 operator --\n",
    "            self.XOR(qc, pos_qubits[0], mov_qubits[0], c[1])\n",
    "            qc.x(c[0])\n",
    "            self.XOR(qc, pos_qubits[1], mov_qubits[0], c[0])\n",
    "        \n",
    "        elif num_of_M == 2:\n",
    "\n",
    "            # -- First M --\n",
    "            self.XOR(qc, pos_qubits[1], mov_qubits[0], c[0])\n",
    "            qc.x(c[0])\n",
    "            self.XOR(qc, pos_qubits[0], mov_qubits[0], c[1])\n",
    "\n",
    "            # -- Second M --\n",
    "            self.XOR(qc, c[1], mov_qubits[1], c[2])\n",
    "            qc.x(c[2])\n",
    "            self.XOR(qc, c[0], mov_qubits[1], c[3])\n",
    "\n",
    "            # -- Test operator --\n",
    "            self.encode_target(qc, target_cell, [c[2], c[3]])\n",
    "            qc.ccx(c[2], c[3], output)\n",
    "            self.encode_target(qc, target_cell, [c[2], c[3]])\n",
    "\n",
    "            # -- Second M^-1 operator --\n",
    "            self.XOR(qc, c[0], mov_qubits[1], c[3])\n",
    "            qc.x(c[2])\n",
    "            self.XOR(qc, c[1], mov_qubits[1], c[2])\n",
    "\n",
    "            # -- First M^-1 operator --\n",
    "            self.XOR(qc, pos_qubits[0], mov_qubits[0], c[1])\n",
    "            qc.x(c[0])\n",
    "            self.XOR(qc, pos_qubits[1], mov_qubits[0], c[0])\n",
    "    \n",
    "    def find_path(self, start_cell, target_cell):\n",
    "\n",
    "        # number of M operators is equal to the Manhattan distance between start and target\n",
    "        num_of_M = manhattan(start_cell, target_cell)\n",
    "\n",
    "        # --- Initializations ---\n",
    "        pos_qubits = QuantumRegister(2, name=\"r\")\n",
    "        mov_qubits = QuantumRegister(num_of_M, name=\"m\")\n",
    "        c = QuantumRegister(2*num_of_M, name=\"c\")\n",
    "        output = QuantumRegister(1, name=\"q\")\n",
    "        cbits = ClassicalRegister(2+num_of_M, name=\"cbits\")\n",
    "\n",
    "        qc = QuantumCircuit(pos_qubits, mov_qubits, c, output, cbits)\n",
    "\n",
    "        qc.h(pos_qubits)\n",
    "\n",
    "        # initialize mov_qubits in state |s>\n",
    "        qc.h(mov_qubits)\n",
    "\n",
    "        # initialize 'output0' in state |->\n",
    "        qc.initialize([1, -1] / np.sqrt(2), output)\n",
    "\n",
    "        # --- Oracle + Diffuser ---\n",
    "        num_iterations = 1\n",
    "        for _ in range(num_iterations):\n",
    "            self.oracle(num_of_M, target_cell, qc, pos_qubits, mov_qubits, c, output)\n",
    "            diff_qubits = [0, 1, 2] if num_of_M == 1 else [0, 1, 2, 3]\n",
    "            qc.append(self.diffuser(2+num_of_M), diff_qubits)\n",
    "\n",
    "        # --- Measurement ---\n",
    "        qc.measure(pos_qubits, cbits[0:2])\n",
    "        qc.measure(mov_qubits, cbits[2:(2+num_of_M)])\n",
    "\n",
    "        # --- Simulation ---\n",
    "        aer_sim = Aer.get_backend(\"aer_simulator\")\n",
    "        transpiled_qc = transpile(qc, aer_sim)\n",
    "        result_counts = aer_sim.run(transpiled_qc).result().get_counts()\n",
    "\n",
    "        return [k for k in result_counts.keys() if k[-2:] == start_cell]\n",
    "\n",
    "groverPlanner = GroverPlanner()\n"
   ]
  },
  {
   "cell_type": "code",
   "execution_count": 483,
   "metadata": {},
   "outputs": [
    {
     "data": {
      "text/plain": [
       "['0000', '1100']"
      ]
     },
     "execution_count": 483,
     "metadata": {},
     "output_type": "execute_result"
    }
   ],
   "source": [
    "# test\n",
    "groverPlanner.find_path(start_cell=\"00\", target_cell=\"11\")"
   ]
  },
  {
   "cell_type": "code",
   "execution_count": 484,
   "metadata": {},
   "outputs": [],
   "source": [
    "# Centroid handling -------------------------------------------------------------------------"
   ]
  },
  {
   "cell_type": "code",
   "execution_count": 485,
   "metadata": {},
   "outputs": [
    {
     "name": "stdout",
     "output_type": "stream",
     "text": [
      "Centroids:\n",
      "{ (0.125, 0.875): ('00', '00') \n",
      "  (0.375, 0.875): ('01', '00') \n",
      "  (0.625, 0.875): ('00', '01') \n",
      "  (0.875, 0.875): ('01', '01') \n",
      "  (0.125, 0.625): ('10', '00') \n",
      "  (0.375, 0.625): ('11', '00') \n",
      "  (0.625, 0.625): ('10', '01') \n",
      "  (0.875, 0.625): ('11', '01') \n",
      "  (0.125, 0.375): ('00', '10') \n",
      "  (0.375, 0.375): ('01', '10') \n",
      "  (0.625, 0.375): ('00', '11') \n",
      "  (0.875, 0.375): ('01', '11') \n",
      "  (0.125, 0.125): ('10', '10') \n",
      "  (0.375, 0.125): ('11', '10') \n",
      "  (0.625, 0.125): ('10', '11') \n",
      "  (0.875, 0.125): ('11', '11') }\n"
     ]
    },
    {
     "data": {
      "image/png": "[encoded data removed]",
      "text/plain": [
       "<Figure size 432x288 with 1 Axes>"
      ]
     },
     "metadata": {
      "needs_background": "light"
     },
     "output_type": "display_data"
    }
   ],
   "source": [
    "# returns a dict so that:\n",
    "#  - the keys are the coordinates of the centroids of a square dim_map x dim_map map of side length 1\n",
    "#  - the values are in the form (micro_cell, macro_cell) of the centroids\n",
    "def find_centroids(dim_map):\n",
    "\n",
    "    unit_displacement = 1 / (dim_map*2)\n",
    "\n",
    "    centroids_coords = []\n",
    "    for i in range(dim_map,0,-1):\n",
    "        row = []\n",
    "        for j in range(dim_map): \n",
    "            row.append((j*unit_displacement*2 + unit_displacement, i*unit_displacement*2 - unit_displacement))\n",
    "        centroids_coords.append(row)\n",
    "\n",
    "    centroids_dict = {t: (f\"{str(i%2)}{str(j%2)}\", f\"{0 if t[1] > 0.5 else 1}{0 if t[0] < 0.5 else 1}\")\n",
    "     for i,row in enumerate(centroids_coords) for j,t in enumerate(row)}\n",
    "     \n",
    "    return centroids_dict\n",
    "\n",
    "centroids = find_centroids(4)\n",
    "\n",
    "print(\"Centroids:\\n{ \" + \"\\n  \".join(f\"{k}: {v} \" for k, v in centroids.items()) + \"}\")\n",
    "plot_scatterplot() # for commodity"
   ]
  },
  {
   "cell_type": "code",
   "execution_count": 486,
   "metadata": {},
   "outputs": [
    {
     "name": "stdout",
     "output_type": "stream",
     "text": [
      "Closest centroid to R0: ('00', '00')\n",
      "Closest centroid to R1: ('00', '00')\n"
     ]
    }
   ],
   "source": [
    "# returns the centroid of the cell that a point of coordinates (x,y) is located in\n",
    "def find_closest_centroid(centroids, x, y):\n",
    "    centroids_coords = np.array(list(centroids.keys()))\n",
    "    distances = np.linalg.norm(centroids_coords-np.array([x, y]), axis=1)\n",
    "    return centroids[tuple(centroids_coords[np.argmin(distances)])]\n",
    "    \n",
    "for r in Robotx._registry:\n",
    "    print(f\"Closest centroid to {r.name}: {find_closest_centroid(centroids, r.betax, r.betay)}\")"
   ]
  },
  {
   "cell_type": "code",
   "execution_count": 487,
   "metadata": {},
   "outputs": [],
   "source": [
    "# Reshuffling ----------------------------------------------------------------------------"
   ]
  },
  {
   "cell_type": "code",
   "execution_count": 488,
   "metadata": {},
   "outputs": [],
   "source": [
    "# returns a list with the micro and macro displacement after the movement\n",
    "def eval_displacement(old_centroid, new_centroid):\n",
    "    old_c_micro, old_c_macro = old_centroid\n",
    "    new_c_micro, new_c_macro = new_centroid\n",
    "\n",
    "    return [manhattan(old_c_micro, new_c_micro), manhattan(old_c_macro, new_c_macro)]\n"
   ]
  },
  {
   "cell_type": "code",
   "execution_count": 489,
   "metadata": {},
   "outputs": [],
   "source": [
    "def get_keys_from_value(dict, val):\n",
    "    return [k for k, v in dict.items() if v == val]"
   ]
  },
  {
   "cell_type": "code",
   "execution_count": 490,
   "metadata": {},
   "outputs": [
    {
     "name": "stdout",
     "output_type": "stream",
     "text": [
      "Do all the robots have a reward lower than 0.8? : True\n",
      "R0: macro-micro\n",
      "R0 evaluated path (macro): 00\n",
      "R0 evaluated path (micro): 1\n",
      "R1: macro-micro\n",
      "R1 evaluated path (macro): 1\n",
      "R1 evaluated path (micro): 1\n"
     ]
    }
   ],
   "source": [
    "result = all(i.delta < 0.8 for i in Robotx._registry)\n",
    "print(\"Do all the robots have a reward lower than 0.8? : \" + str(result))\n",
    "\n",
    "# if True: reshuffle positions\n",
    "# if False: do nothing\n",
    "\n",
    "arrows = []\n",
    "\n",
    "if result == True:\n",
    "    flag = True\n",
    "    while flag:\n",
    "        flag = False\n",
    "        for i in Robotx._registry:\n",
    "\n",
    "            old_centroid = find_closest_centroid(centroids, i.betax, i.betay)\n",
    "            # virtual_betax, virtual_betay = 1 - np.random.uniform(0,0.9), 1 - np.random.uniform(0,0.9)\n",
    "\n",
    "            i.alphax = np.random.uniform(0,0.9)\n",
    "            i.betax = 1 - i.alphax\n",
    "            i.alphay = np.random.uniform(0,0.9)\n",
    "            i.betay = 1 - i.alphay\n",
    "\n",
    "            new_centroid = find_closest_centroid(centroids, i.betax, i.betay)\n",
    "\n",
    "            displacement = eval_displacement(old_centroid, new_centroid)\n",
    "\n",
    "            # macro movement\n",
    "            if displacement[0] == 0 and displacement[1] != 0:\n",
    "                print(f\"{i.name}: macro\")\n",
    "                evaluated_path = groverPlanner.find_path(old_centroid[1], new_centroid[1])\n",
    "                print(f\"{i.name} evaluated path: {evaluated_path[0][:-2]}\")\n",
    "\n",
    "\n",
    "            # micro movement\n",
    "            elif displacement[0] != 0 and displacement[1] == 0:\n",
    "                print(f\"{i.name}: micro\")\n",
    "                evaluated_path = groverPlanner.find_path(old_centroid[0], new_centroid[0])\n",
    "                print(f\"{i.name} evaluated path: {evaluated_path[0][:-2]}\")\n",
    "\n",
    "            \n",
    "            # macro and micro movement\n",
    "            elif displacement[0] != 0 and displacement[1] != 0:\n",
    "                print(f\"{i.name}: macro-micro\")\n",
    "                # macro path\n",
    "                evaluated_path = groverPlanner.find_path(old_centroid[1], new_centroid[1])\n",
    "                print(f\"{i.name} evaluated path (macro): {evaluated_path[0][:-2]}\")\n",
    "            \n",
    "\n",
    "                # micro path\n",
    "                evaluated_path = groverPlanner.find_path(old_centroid[0], new_centroid[0])\n",
    "                print(f\"{i.name} evaluated path (micro): {evaluated_path[0][:-2]}\")\n",
    "               \n",
    "                        \n",
    "\n",
    "            # if (i.betax - O.x <= 0.2 and i.betay - O.y <= 0.2):\n",
    "            #     flag = True"
   ]
  },
  {
   "cell_type": "code",
   "execution_count": 491,
   "metadata": {},
   "outputs": [
    {
     "name": "stdout",
     "output_type": "stream",
     "text": [
      "R0 0.66\n",
      "R1 0.21\n"
     ]
    }
   ],
   "source": [
    "for i in Robotx._registry: # recalculate the rewards\n",
    "    i.delta = reward(T, i.betax, i.betay)\n",
    "    i.gamma = 1 - i.delta\n",
    "    print(f\"{i.name} {i.delta:.2f}\")"
   ]
  },
  {
   "cell_type": "code",
   "execution_count": 492,
   "metadata": {},
   "outputs": [
    {
     "data": {
      "image/png": "[encoded data removed]",
      "text/plain": [
       "<Figure size 432x288 with 1 Axes>"
      ]
     },
     "metadata": {
      "needs_background": "light"
     },
     "output_type": "display_data"
    }
   ],
   "source": [
    "plot_scatterplot()"
   ]
  }
 ],
 "metadata": {
  "interpreter": {
   "hash": "2db524e06e9f5f4ffedc911c917cb75e12dbc923643829bf417064a77eb14d37"
  },
  "kernelspec": {
   "display_name": "Python 3.8.2 64-bit",
   "language": "python",
   "name": "python3"
  },
  "language_info": {
   "codemirror_mode": {
    "name": "ipython",
    "version": 3
   },
   "file_extension": ".py",
   "mimetype": "text/x-python",
   "name": "python",
   "nbconvert_exporter": "python",
   "pygments_lexer": "ipython3",
   "version": "3.8.2"
  },
  "orig_nbformat": 4
 },
 "nbformat": 4,
 "nbformat_minor": 2
}
