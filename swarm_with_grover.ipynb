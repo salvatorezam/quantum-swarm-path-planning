{
 "cells": [
  {
   "cell_type": "code",
   "execution_count": 100,
   "metadata": {},
   "outputs": [],
   "source": [
    "from qiskit import QuantumRegister, ClassicalRegister, QuantumCircuit, Aer, transpile\n",
    "from qiskit.visualization import plot_histogram\n",
    "from qiskit import *\n",
    "import numpy as np\n",
    "import random\n",
    "%matplotlib inline\n",
    "import matplotlib.pyplot as plt\n",
    "from operator import attrgetter, itemgetter\n",
    "import heapq\n",
    "from scipy.spatial.distance import cityblock"
   ]
  },
  {
   "cell_type": "code",
   "execution_count": 101,
   "metadata": {},
   "outputs": [],
   "source": [
    "# Target & reward ------------------------------------------------------------------------"
   ]
  },
  {
   "cell_type": "code",
   "execution_count": 102,
   "metadata": {},
   "outputs": [],
   "source": [
    "class Target:\n",
    "    def __init__(self,name,x,y): # no indetermination in the target's position\n",
    "        self.name = name\n",
    "        self.x = x\n",
    "        self.y = y"
   ]
  },
  {
   "cell_type": "code",
   "execution_count": 103,
   "metadata": {},
   "outputs": [],
   "source": [
    "T = Target(\"T\", 0.875, 0.125) # deep in the ocean"
   ]
  },
  {
   "cell_type": "code",
   "execution_count": 104,
   "metadata": {},
   "outputs": [],
   "source": [
    "# the closer the target, the less the distance, the higher the reward\n",
    "def reward(T, betax, betay):\n",
    "    return 1 - ((T.x - betax)**2 + (T.y - betay)**2)**0.5"
   ]
  },
  {
   "cell_type": "code",
   "execution_count": 105,
   "metadata": {},
   "outputs": [],
   "source": [
    "# Obstacles ----------------------------------------------------------------------------"
   ]
  },
  {
   "cell_type": "code",
   "execution_count": 106,
   "metadata": {},
   "outputs": [],
   "source": [
    "class Obstacle:\n",
    "    def __init__(self,name,x,y):\n",
    "        self.name = name\n",
    "        self.x = x\n",
    "        self.y = y"
   ]
  },
  {
   "cell_type": "code",
   "execution_count": 107,
   "metadata": {},
   "outputs": [],
   "source": [
    "O = Obstacle(\"Oo\", 0.125, 0.125)"
   ]
  },
  {
   "cell_type": "code",
   "execution_count": 108,
   "metadata": {},
   "outputs": [],
   "source": [
    "# Robots -------------------------------------------------------------------------------"
   ]
  },
  {
   "cell_type": "code",
   "execution_count": 109,
   "metadata": {},
   "outputs": [],
   "source": [
    "class Robotx(object):\n",
    "    _registry = []\n",
    "\n",
    "    def __init__(self, name, alphax, betax, alphay, betay, gamma, delta):\n",
    "        self._registry.append(self)\n",
    "        self.name = name\n",
    "        self.alphax = alphax\n",
    "        self.betax = betax\n",
    "        self.alphay = alphay\n",
    "        self.betay = betay\n",
    "        delta = reward(T, betax, betay)\n",
    "        gamma = 1 - delta\n",
    "        self.gamma = gamma\n",
    "        self.delta = delta"
   ]
  },
  {
   "cell_type": "code",
   "execution_count": 110,
   "metadata": {},
   "outputs": [],
   "source": [
    "# arbitrary number of robots that, at the start, are uniformly distributed in the square of side length radius*2,\n",
    "# centered in starting_cluster_coord\n",
    "#\n",
    "num_of_robots = 2\n",
    "\n",
    "# must be lower than 0.25, otherwise, the robots would start on different cells\n",
    "radius = 0.05\n",
    "\n",
    "# center of the (0,0) cell \n",
    "starting_cluster_coord = (0.125, 0.875)\n",
    "\n",
    "a_x, a_y = 1-starting_cluster_coord[0]-radius, 1-starting_cluster_coord[0]+radius\n",
    "b_x, b_y = 1-starting_cluster_coord[1]-radius, 1-starting_cluster_coord[1]+radius\n",
    "\n",
    "for i in range(num_of_robots):\n",
    "    x = random.uniform(a_x,a_y)\n",
    "    y = random.uniform(b_x,b_y)\n",
    "    Robotx('R'+str(i), x, 1-x, y, 1-y, 1 - reward(T, 1-x, 1-y), reward(T, 1-x, 1-y))"
   ]
  },
  {
   "cell_type": "code",
   "execution_count": 111,
   "metadata": {},
   "outputs": [
    {
     "name": "stdout",
     "output_type": "stream",
     "text": [
      "R0 0.16 0.84 1.01 -0.01\n",
      "R1 0.09 0.85 1.07 -0.07\n"
     ]
    }
   ],
   "source": [
    "# note: values are stored with full precision, rounding is done only on visualization (with :.2f)\n",
    "for k in Robotx._registry:\n",
    "    print(f\"{k.name} {k.betax:.2f} {k.betay:.2f} {k.gamma:.2f} {k.delta:.2f}\")"
   ]
  },
  {
   "cell_type": "code",
   "execution_count": 112,
   "metadata": {},
   "outputs": [
    {
     "name": "stdout",
     "output_type": "stream",
     "text": [
      "R0 -0.01\n",
      "R1 -0.07\n"
     ]
    }
   ],
   "source": [
    "for k in Robotx._registry:\n",
    "    print(f\"{k.name} {k.delta:.2f}\")"
   ]
  },
  {
   "cell_type": "code",
   "execution_count": 113,
   "metadata": {},
   "outputs": [
    {
     "data": {
      "image/png": "[encoded data removed]",
      "text/plain": [
       "<Figure size 432x288 with 1 Axes>"
      ]
     },
     "metadata": {
      "needs_background": "light"
     },
     "output_type": "display_data"
    }
   ],
   "source": [
    "def plot_scatterplot(*args):\n",
    "\n",
    "    # to print grid on map\n",
    "    ax = plt.figure().gca()\n",
    "    ax.set_xticks(np.arange(0, 1, 0.25))\n",
    "    ax.set_yticks(np.arange(0, 1, 0.25))\n",
    "    plt.grid()\n",
    "\n",
    "    for i in Robotx._registry:\n",
    "        # color gradient to better visualize the different robots within the map\n",
    "        robot_color = hex(int(\"0x30ca15\", 16) + int(\"0x00bb00\", 16)*int(i.name[1])).replace(\"0x\",\"#\")\n",
    "        plt.scatter(i.betax, i.betay, s = 300, marker = 'o', color = robot_color)\n",
    "        \n",
    "    plt.scatter(T.x, T.y, s = 400, marker = '*', color = 'turquoise')\n",
    "    plt.scatter(O.x, O.y, s = 400, marker = 'p', color = 'red')\n",
    "\n",
    "    plt.axis([0, 1, 0, 1])\n",
    "\n",
    "    if args:\n",
    "        plt.title(args[0])\n",
    "        \n",
    "    plt.show() \n",
    "\n",
    "plot_scatterplot(\"Initialization\")"
   ]
  },
  {
   "cell_type": "code",
   "execution_count": 114,
   "metadata": {},
   "outputs": [
    {
     "name": "stdout",
     "output_type": "stream",
     "text": [
      "R0 -0.01 achtung!\n",
      "R1 -0.07 achtung!\n"
     ]
    }
   ],
   "source": [
    "for r in Robotx._registry:\n",
    "    if (r.delta < 0.5):\n",
    "        print(f\"{r.name} {r.delta:.2f} achtung!\") # and start from this point to build the reshuffle section"
   ]
  },
  {
   "cell_type": "code",
   "execution_count": 115,
   "metadata": {},
   "outputs": [],
   "source": [
    "# Grover planner -------------------------------------------------------------------------    "
   ]
  },
  {
   "cell_type": "code",
   "execution_count": 116,
   "metadata": {},
   "outputs": [],
   "source": [
    "# takes as input strings with the binary encoding of cells and outputs the manhattan distance between them\n",
    "def manhattan(start_cell, target_cell):\n",
    "    start_cell_v, target_cell_v = [int(b) for b in start_cell], [int(b) for b in target_cell]\n",
    "    return int(cityblock(start_cell_v, target_cell_v).item())"
   ]
  },
  {
   "cell_type": "code",
   "execution_count": 117,
   "metadata": {},
   "outputs": [],
   "source": [
    "class GroverPlanner:\n",
    "\n",
    "    def __init__(self, obstacles):\n",
    "        self.obstacles = obstacles\n",
    "\n",
    "    #\n",
    "    # Utility functions\n",
    "    #\n",
    "    def XOR(self, qc, a, b, output):\n",
    "        qc.cx(a, output)\n",
    "        qc.cx(b, output)\n",
    "\n",
    "    def encode_target(self, qc, target_cell, qubits):\n",
    "        for idx, bit in enumerate(target_cell):\n",
    "            bitn = int(bit)\n",
    "            if not bitn:\n",
    "                qc.x(qubits[idx])\n",
    "\n",
    "    #\n",
    "    # Grover diffuser\n",
    "    #\n",
    "    def diffuser(self, nqubits):\n",
    "        diff = QuantumCircuit(nqubits)\n",
    "        # Apply transformation |s> -> |00..0> (H-gates)\n",
    "        for qubit in range(nqubits):\n",
    "            diff.h(qubit)\n",
    "        # Apply transformation |00..0> -> |11..1> (X-gates)\n",
    "        for qubit in range(nqubits):\n",
    "            diff.x(qubit)\n",
    "        # Do multi-controlled-Z gate\n",
    "        diff.h(nqubits - 1)\n",
    "        diff.mct(list(range(nqubits - 1)), nqubits - 1)  # multi-controlled-toffoli\n",
    "        diff.h(nqubits - 1)\n",
    "        # Apply transformation |11..1> -> |00..0>\n",
    "        for qubit in range(nqubits):\n",
    "            diff.x(qubit)\n",
    "        # Apply transformation |00..0> -> |s>\n",
    "        for qubit in range(nqubits):\n",
    "            diff.h(qubit)\n",
    "        # We will return the diffuser as a gate\n",
    "        U_s = diff.to_gate()\n",
    "        U_s.name = \"U$_\\psi$\"\n",
    "        return U_s\n",
    "\n",
    "    #\n",
    "    # Grover oracle\n",
    "    #\n",
    "    # the oracle structure changes according to the number of movements required to get to the target\n",
    "    #\n",
    "    def oracle(self, num_of_M, target_cell, qc, pos_qubits, mov_qubits, c, output):\n",
    "\n",
    "        if num_of_M == 1:\n",
    "            # -- First M --\n",
    "            self.XOR(qc, pos_qubits[1], mov_qubits[0], c[0])\n",
    "            qc.x(c[0])\n",
    "            self.XOR(qc, pos_qubits[0], mov_qubits[0], c[1])\n",
    "\n",
    "            # -- Test operator --\n",
    "            self.encode_target(qc, target_cell, [c[0], c[1]])\n",
    "            qc.ccx(c[0], c[1], output)\n",
    "            self.encode_target(qc, target_cell, [c[0], c[1]])\n",
    "\n",
    "            # -- First M^-1 operator --\n",
    "            self.XOR(qc, pos_qubits[0], mov_qubits[0], c[1])\n",
    "            qc.x(c[0])\n",
    "            self.XOR(qc, pos_qubits[1], mov_qubits[0], c[0])\n",
    "        \n",
    "        elif num_of_M == 2:\n",
    "\n",
    "            # -- First M --\n",
    "            self.XOR(qc, pos_qubits[1], mov_qubits[0], c[0])\n",
    "            qc.x(c[0])\n",
    "            self.XOR(qc, pos_qubits[0], mov_qubits[0], c[1])\n",
    "\n",
    "            # -- Second M --\n",
    "            self.XOR(qc, c[1], mov_qubits[1], c[2])\n",
    "            qc.x(c[2])\n",
    "            self.XOR(qc, c[0], mov_qubits[1], c[3])\n",
    "\n",
    "            # -- Test operator --\n",
    "            self.encode_target(qc, target_cell, [c[2], c[3]])\n",
    "            qc.ccx(c[2], c[3], output)\n",
    "            self.encode_target(qc, target_cell, [c[2], c[3]])\n",
    "\n",
    "            # -- Second M^-1 operator --\n",
    "            self.XOR(qc, c[0], mov_qubits[1], c[3])\n",
    "            qc.x(c[2])\n",
    "            self.XOR(qc, c[1], mov_qubits[1], c[2])\n",
    "\n",
    "            # -- First M^-1 operator --\n",
    "            self.XOR(qc, pos_qubits[0], mov_qubits[0], c[1])\n",
    "            qc.x(c[0])\n",
    "            self.XOR(qc, pos_qubits[1], mov_qubits[0], c[0])\n",
    "\n",
    "    #\n",
    "    # Path planning\n",
    "    #\n",
    "    def find_path(self, start_cell, target_cell):\n",
    "\n",
    "        # number of M operators is equal to the Manhattan distance between start and target\n",
    "        num_of_M = manhattan(start_cell, target_cell)\n",
    "\n",
    "        # --- Initializations ---\n",
    "        pos_qubits = QuantumRegister(2, name=\"r\")\n",
    "        mov_qubits = QuantumRegister(num_of_M, name=\"m\")\n",
    "        c = QuantumRegister(2*num_of_M, name=\"c\")\n",
    "        output = QuantumRegister(1, name=\"q\")\n",
    "        cbits = ClassicalRegister(2+num_of_M, name=\"cbits\")\n",
    "\n",
    "        qc = QuantumCircuit(pos_qubits, mov_qubits, c, output, cbits)\n",
    "\n",
    "        qc.h(pos_qubits)\n",
    "\n",
    "        # initialize mov_qubits in state |s>\n",
    "        qc.h(mov_qubits)\n",
    "\n",
    "        # initialize 'output0' in state |->\n",
    "        qc.initialize([1, -1] / np.sqrt(2), output)\n",
    "\n",
    "        # --- Oracle + Diffuser ---\n",
    "        num_iterations = 1\n",
    "        for _ in range(num_iterations):\n",
    "            self.oracle(num_of_M, target_cell, qc, pos_qubits, mov_qubits, c, output)\n",
    "            diff_qubits = [0, 1, 2] if num_of_M == 1 else [0, 1, 2, 3]\n",
    "            qc.append(self.diffuser(2+num_of_M), diff_qubits)\n",
    "\n",
    "        # --- Measurement ---\n",
    "        qc.measure(pos_qubits, cbits[0:2])\n",
    "        qc.measure(mov_qubits, cbits[2:(2+num_of_M)])\n",
    "\n",
    "        # --- Simulation ---\n",
    "        aer_sim = Aer.get_backend(\"aer_simulator\")\n",
    "        transpiled_qc = transpile(qc, aer_sim)\n",
    "        result_counts = aer_sim.run(transpiled_qc).result().get_counts()\n",
    "\n",
    "        return [k for k in result_counts.keys() if k[-2:] == start_cell[len(start_cell)::-1]]\n",
    "\n",
    "groverPlanner = GroverPlanner([(\"10\", \"10\")])\n"
   ]
  },
  {
   "cell_type": "code",
   "execution_count": 118,
   "metadata": {},
   "outputs": [
    {
     "data": {
      "text/plain": [
       "['1110', '0010']"
      ]
     },
     "execution_count": 118,
     "metadata": {},
     "output_type": "execute_result"
    }
   ],
   "source": [
    "# test\n",
    "groverPlanner.find_path(start_cell=\"01\", target_cell=\"10\")"
   ]
  },
  {
   "cell_type": "code",
   "execution_count": 119,
   "metadata": {},
   "outputs": [],
   "source": [
    "# Centroid handling -------------------------------------------------------------------------"
   ]
  },
  {
   "cell_type": "code",
   "execution_count": 120,
   "metadata": {},
   "outputs": [
    {
     "name": "stdout",
     "output_type": "stream",
     "text": [
      "Centroids:\n",
      "{ (0.125, 0.875): ('00', '00') \n",
      "  (0.375, 0.875): ('01', '00') \n",
      "  (0.625, 0.875): ('00', '01') \n",
      "  (0.875, 0.875): ('01', '01') \n",
      "  (0.125, 0.625): ('10', '00') \n",
      "  (0.375, 0.625): ('11', '00') \n",
      "  (0.625, 0.625): ('10', '01') \n",
      "  (0.875, 0.625): ('11', '01') \n",
      "  (0.125, 0.375): ('00', '10') \n",
      "  (0.375, 0.375): ('01', '10') \n",
      "  (0.625, 0.375): ('00', '11') \n",
      "  (0.875, 0.375): ('01', '11') \n",
      "  (0.125, 0.125): ('10', '10') \n",
      "  (0.375, 0.125): ('11', '10') \n",
      "  (0.625, 0.125): ('10', '11') \n",
      "  (0.875, 0.125): ('11', '11') }\n"
     ]
    }
   ],
   "source": [
    "# returns a dict so that:\n",
    "#  - the keys are the coordinates of the centroids of a square dim_map x dim_map map of side length 1\n",
    "#  - the values are in the form (micro_cell, macro_cell) of the centroids\n",
    "def find_centroids(dim_map):\n",
    "\n",
    "    unit_displacement = 1 / (dim_map*2)\n",
    "\n",
    "    centroids_coords = []\n",
    "    for i in range(dim_map,0,-1):\n",
    "        row = []\n",
    "        for j in range(dim_map): \n",
    "            row.append((j*unit_displacement*2 + unit_displacement, i*unit_displacement*2 - unit_displacement))\n",
    "        centroids_coords.append(row)\n",
    "\n",
    "    centroids_dict = {t: (f\"{str(i%2)}{str(j%2)}\", f\"{0 if t[1] > 0.5 else 1}{0 if t[0] < 0.5 else 1}\")\n",
    "     for i,row in enumerate(centroids_coords) for j,t in enumerate(row)}\n",
    "     \n",
    "    return centroids_dict\n",
    "\n",
    "centroids = find_centroids(4)\n",
    "\n",
    "print(\"Centroids:\\n{ \" + \"\\n  \".join(f\"{k}: {v} \" for k, v in centroids.items()) + \"}\")"
   ]
  },
  {
   "cell_type": "code",
   "execution_count": 121,
   "metadata": {},
   "outputs": [
    {
     "name": "stdout",
     "output_type": "stream",
     "text": [
      "Closest centroid to R0: ('00', '00')\n",
      "Closest centroid to R1: ('00', '00')\n"
     ]
    }
   ],
   "source": [
    "# returns the centroid of the cell that a point of coordinates (x,y) is located in\n",
    "def find_closest_centroid(centroids, x, y):\n",
    "    centroids_coords = np.array(list(centroids.keys()))\n",
    "    distances = np.linalg.norm(centroids_coords-np.array([x, y]), axis=1)\n",
    "    return centroids[tuple(centroids_coords[np.argmin(distances)])]\n",
    "    \n",
    "for r in Robotx._registry:\n",
    "    print(f\"Closest centroid to {r.name}: {find_closest_centroid(centroids, r.betax, r.betay)}\")"
   ]
  },
  {
   "cell_type": "code",
   "execution_count": 122,
   "metadata": {},
   "outputs": [],
   "source": [
    "# Reshuffling ----------------------------------------------------------------------------"
   ]
  },
  {
   "cell_type": "code",
   "execution_count": 123,
   "metadata": {},
   "outputs": [],
   "source": [
    "# returns a list with the micro and macro displacement after the movement\n",
    "def eval_displacement(old_centroid, new_centroid):\n",
    "    old_c_micro, old_c_macro = old_centroid\n",
    "    new_c_micro, new_c_macro = new_centroid\n",
    "\n",
    "    return [manhattan(old_c_micro, new_c_micro), manhattan(old_c_macro, new_c_macro)]"
   ]
  },
  {
   "cell_type": "code",
   "execution_count": 124,
   "metadata": {},
   "outputs": [],
   "source": [
    "# computes the movements required to get to the position encoded in new_alphas, which has the form [new_alphax, new_alphay]\n",
    "def compute_path_to_position(robot, new_alphas):\n",
    "\n",
    "    # starting centroid\n",
    "    old_centroid = find_closest_centroid(centroids, robot.betax, robot.betay)\n",
    "\n",
    "    # assign new positions\n",
    "    robot.alphax, robot.alphay = new_alphas\n",
    "    robot.betax, robot.betay = 1 - robot.alphax, 1 - robot.alphay\n",
    "\n",
    "    # new centroid\n",
    "    new_centroid = find_closest_centroid(centroids, robot.betax, robot.betay)\n",
    "\n",
    "    # displacement between the new and starting centroids\n",
    "    displacement = eval_displacement(old_centroid, new_centroid)\n",
    "\n",
    "    print(f\"{robot.name} displacement from {old_centroid} to {new_centroid}: {displacement}\")\n",
    "\n",
    "\n",
    "    #\n",
    "    # Planning the path according to the different possible displacement:\n",
    "    #   - macro: the robot changes macro-cell but stays in the same micro-cell\n",
    "    #   - micro: the robot changes micro-cell but stays in the same macro-cell\n",
    "    #   - macro and micro: the robot changes both macro and micro cells\n",
    "    #   - if the new position is in the same micro and macro cells nothing happens\n",
    "    # \n",
    "\n",
    "    # --- Macro movement ---\n",
    "    if displacement[0] == 0 and displacement[1] != 0:\n",
    "        print(f\"{robot.name}: macro\")\n",
    "        evaluated_path = groverPlanner.find_path(old_centroid[1], new_centroid[1])\n",
    "        print(f\"{robot.name} evaluated path: {evaluated_path[0][:-2]}\")\n",
    "\n",
    "    # --- Micro movement ---\n",
    "    elif displacement[0] != 0 and displacement[1] == 0:\n",
    "        print(f\"{robot.name}: micro\")\n",
    "        evaluated_path = groverPlanner.find_path(old_centroid[0], new_centroid[0])\n",
    "        print(f\"{robot.name} evaluated path: {evaluated_path[0][:-2]}\")\n",
    "\n",
    "    # --- Macro and micro movement ---\n",
    "    elif displacement[0] != 0 and displacement[1] != 0:\n",
    "        print(f\"{robot.name}: macro-micro\")\n",
    "        # macro path\n",
    "        evaluated_path = groverPlanner.find_path(old_centroid[1], new_centroid[1])\n",
    "        print(f\"{robot.name} evaluated path (macro): {evaluated_path[0][:-2]}\")\n",
    "    \n",
    "        # micro path\n",
    "        evaluated_path = groverPlanner.find_path(old_centroid[0], new_centroid[0])\n",
    "        print(f\"{robot.name} evaluated path (micro): {evaluated_path[0][:-2]}\")\n",
    "\n",
    "    # if (i.betax - O.x <= 0.2 and i.betay - O.y <= 0.2):\n",
    "    #     flag = True\n"
   ]
  },
  {
   "cell_type": "code",
   "execution_count": 125,
   "metadata": {},
   "outputs": [
    {
     "name": "stdout",
     "output_type": "stream",
     "text": [
      "Do all the robots have a reward lower than 0.8? : True\n",
      "R0 displacement from ('00', '00') to ('01', '10'): [1, 1]\n",
      "R0: macro-micro\n",
      "R0 evaluated path (macro): 0\n",
      "R0 evaluated path (micro): 1\n",
      "R1 displacement from ('00', '00') to ('01', '01'): [1, 1]\n",
      "R1: macro-micro\n",
      "R1 evaluated path (macro): 1\n",
      "R1 evaluated path (micro): 1\n"
     ]
    }
   ],
   "source": [
    "result = all(i.delta < 0.8 for i in Robotx._registry)\n",
    "print(\"Do all the robots have a reward lower than 0.8? : \" + str(result))\n",
    "\n",
    "# if True: reshuffle positions\n",
    "# if False: do nothing\n",
    "\n",
    "if result == True:\n",
    "    for i in Robotx._registry:\n",
    "        compute_path_to_position(i, [np.random.uniform(0,0.9), np.random.uniform(0,0.9)])\n",
    "               "
   ]
  },
  {
   "cell_type": "code",
   "execution_count": 126,
   "metadata": {},
   "outputs": [],
   "source": [
    "# recalculate the rewards\n",
    "def recalculate_rewards():\n",
    "    for i in Robotx._registry: # recalculate the rewards\n",
    "        i.delta = reward(T, i.betax, i.betay)\n",
    "        i.gamma = 1 - i.delta\n",
    "        print(f\"{i.name} {i.delta:.2f}\")"
   ]
  },
  {
   "cell_type": "code",
   "execution_count": 127,
   "metadata": {},
   "outputs": [
    {
     "name": "stdout",
     "output_type": "stream",
     "text": [
      "R0 0.56\n",
      "R1 0.20\n"
     ]
    }
   ],
   "source": [
    "recalculate_rewards()"
   ]
  },
  {
   "cell_type": "code",
   "execution_count": 128,
   "metadata": {},
   "outputs": [
    {
     "data": {
      "image/png": "[encoded data removed]",
      "text/plain": [
       "<Figure size 432x288 with 1 Axes>"
      ]
     },
     "metadata": {
      "needs_background": "light"
     },
     "output_type": "display_data"
    }
   ],
   "source": [
    "plot_scatterplot(\"Reshuffled positions\")"
   ]
  },
  {
   "cell_type": "code",
   "execution_count": 129,
   "metadata": {},
   "outputs": [],
   "source": [
    "# Quantum circuit construction ------------------------------------------------------------------"
   ]
  },
  {
   "cell_type": "code",
   "execution_count": 130,
   "metadata": {},
   "outputs": [],
   "source": [
    "q = QuantumRegister(5, 'q') # qubits # changed to 9, formerly 15\n",
    "m2 = ClassicalRegister(1, 'c1') # classical bits (separated is better)\n",
    "m3 = ClassicalRegister(1, 'c2')\n",
    "m4 = ClassicalRegister(1, 'c3')\n",
    "\n",
    "qc3 = QuantumCircuit(q, m2, m3, m4) # to reach the target\n",
    "qc4 = QuantumCircuit(q, m2, m3, m4) # to get back to the nest"
   ]
  },
  {
   "cell_type": "code",
   "execution_count": 131,
   "metadata": {},
   "outputs": [],
   "source": [
    "# Which robot should enter the gate? -----------------------------------------------------------"
   ]
  },
  {
   "cell_type": "code",
   "execution_count": 132,
   "metadata": {},
   "outputs": [],
   "source": [
    "def print_formatted_vector(*args):\n",
    "    for vector in args:\n",
    "        print(\"[\" + \"\".join(f\"{val:.2f} \" for val in vector).strip() + \"]\")"
   ]
  },
  {
   "cell_type": "code",
   "execution_count": 133,
   "metadata": {},
   "outputs": [
    {
     "name": "stdout",
     "output_type": "stream",
     "text": [
      "Closest robot to the target: R0 0.47 0.30 0.56\n",
      "[0.53 0.47]\n",
      "[0.70 0.30]\n",
      "[0.44 0.56]\n",
      "[0.74 0.67]\n",
      "[0.92 0.40]\n",
      "[0.62 0.79]\n"
     ]
    }
   ],
   "source": [
    "# in case of ties on delta score, the max() function outputs the first maximum item it processes \n",
    "closest_robot = max(Robotx._registry, key=attrgetter('delta'))\n",
    "print(f\"Closest robot to the target: {closest_robot.name} {closest_robot.betax:.2f} {closest_robot.betay:.2f} {closest_robot.delta:.2f}\")\n",
    "\n",
    "# and then it enters the gate\n",
    "vector0 = [closest_robot.alphax, closest_robot.betax]\n",
    "vector1 = [closest_robot.alphay, closest_robot.betay]\n",
    "vector3 = [closest_robot.gamma, closest_robot.delta]\n",
    "\n",
    "normalized_v0 = vector0/np.linalg.norm(vector0)\n",
    "normalized_v1 = vector1/np.linalg.norm(vector1)\n",
    "normalized_v3 = vector3/np.linalg.norm(vector3)\n",
    "\n",
    "print_formatted_vector(vector0, vector1, vector3)\n",
    "print_formatted_vector(normalized_v0, normalized_v1, normalized_v3)"
   ]
  },
  {
   "cell_type": "code",
   "execution_count": 134,
   "metadata": {},
   "outputs": [],
   "source": [
    "# Setting up |q_0> ------------------------------------------------------------------------------"
   ]
  },
  {
   "cell_type": "code",
   "execution_count": 135,
   "metadata": {},
   "outputs": [
    {
     "data": {
      "text/plain": [
       "<qiskit.circuit.instructionset.InstructionSet at 0x19f8a3208e0>"
      ]
     },
     "execution_count": 135,
     "metadata": {},
     "output_type": "execute_result"
    }
   ],
   "source": [
    "# direct initialization with amplitudes vector\n",
    "qc3.initialize(normalized_v0, q[0])\n",
    "qc3.initialize(normalized_v1, q[1])\n",
    "qc3.initialize(normalized_v3, q[2])"
   ]
  },
  {
   "cell_type": "code",
   "execution_count": 136,
   "metadata": {},
   "outputs": [
    {
     "name": "stdout",
     "output_type": "stream",
     "text": [
      "      ┌─────────────────────────────┐ ░                                    »\n",
      " q_0: ┤ Initialize(0.74385,0.66834) ├─░───■────■─────────■─────────────────»\n",
      "      └┬────────────────────────────┤ ░   │    │         │                 »\n",
      " q_1: ─┤ Initialize(0.9175,0.39774) ├─░───■────■─────────┼────■────────────»\n",
      "      ┌┴────────────────────────────┤ ░   │    │         │    │  ┌───┐     »\n",
      " q_2: ┤ Initialize(0.61652,0.78734) ├─░───┼────┼─────────■────■──┤ X ├──■──»\n",
      "      └─────────────────────────────┘ ░ ┌─┴─┐  │       ┌─┴─┐  │  └───┘┌─┴─┐»\n",
      " q_3: ────────────────────────────────░─┤ X ├──┼───|0>─┤ X ├──┼───────┤ H ├»\n",
      "                                      ░ └───┘┌─┴─┐     └───┘┌─┴─┐     └───┘»\n",
      " q_4: ────────────────────────────────░──────┤ X ├─|0>──────┤ X ├──────────»\n",
      "                                      ░      └───┘          └───┘          »\n",
      "c1: 1/═════════════════════════════════════════════════════════════════════»\n",
      "                                                                           »\n",
      "c2: 1/═════════════════════════════════════════════════════════════════════»\n",
      "                                                                           »\n",
      "c3: 1/═════════════════════════════════════════════════════════════════════»\n",
      "                                                                           »\n",
      "«                 ░          \n",
      "« q_0: ───────────░──────────\n",
      "«                 ░          \n",
      "« q_1: ───────────░──────────\n",
      "«           ┌───┐ ░ ┌─┐      \n",
      "« q_2: ──■──┤ X ├─░─┤M├──────\n",
      "«        │  └───┘ ░ └╥┘┌─┐   \n",
      "« q_3: ──┼────────░──╫─┤M├───\n",
      "«      ┌─┴─┐      ░  ║ └╥┘┌─┐\n",
      "« q_4: ┤ H ├──────░──╫──╫─┤M├\n",
      "«      └───┘      ░  ║  ║ └╥┘\n",
      "«c1: 1/══════════════╩══╬══╬═\n",
      "«                    0  ║  ║ \n",
      "«c2: 1/═════════════════╩══╬═\n",
      "«                       0  ║ \n",
      "«c3: 1/════════════════════╩═\n",
      "«                          0 \n"
     ]
    }
   ],
   "source": [
    "# this is the core code, and it is unchanged across time\n",
    "\n",
    "qc3.barrier(q)\n",
    "qc3.ccx(q[0],q[1],q[3])\n",
    "qc3.ccx(q[0],q[1],q[4])\n",
    "\n",
    "qc3.reset(q[3])\n",
    "qc3.reset(q[4])\n",
    "\n",
    "qc3.ccx(q[0],q[2],q[3]) \n",
    "qc3.ccx(q[1],q[2],q[4])\n",
    "\n",
    "qc3.x(q[2])\n",
    "\n",
    "qc3.ch(q[2],q[3])\n",
    "qc3.ch(q[2],q[4])\n",
    "\n",
    "qc3.x(q[2])\n",
    "\n",
    "qc3.barrier(q)\n",
    "\n",
    "# perform measurements and store them in classical bits\n",
    "\n",
    "qc3.measure(q[2],m2[0])\n",
    "qc3.measure(q[3],m3[0])\n",
    "qc3.measure(q[4],m4[0])\n",
    "\n",
    "# visualization of the ciruit\n",
    "\n",
    "# qc3.draw(fold=-1, output=\"mpl\")\n",
    "# plt.show();\n",
    "\n",
    "print(qc3)"
   ]
  },
  {
   "cell_type": "code",
   "execution_count": 137,
   "metadata": {},
   "outputs": [
    {
     "name": "stdout",
     "output_type": "stream",
     "text": [
      "counts:  {'0 1 1': 235, '1 0 1': 52, '0 1 0': 116, '0 0 1': 304, '1 1 1': 40, '1 0 0': 87, '0 0 0': 91, '1 1 0': 99}\n"
     ]
    },
    {
     "data": {
      "image/png": "[encoded data removed]",
      "text/plain": [
       "<Figure size 504x360 with 1 Axes>"
      ]
     },
     "execution_count": 137,
     "metadata": {},
     "output_type": "execute_result"
    }
   ],
   "source": [
    "# --- Simulation ---\n",
    "aer_sim = Aer.get_backend(\"aer_simulator\")\n",
    "transpiled_qc = transpile(qc3, aer_sim)\n",
    "result = aer_sim.run(transpiled_qc).result()\n",
    "\n",
    "counts = result.get_counts()\n",
    "print(\"counts: \", counts)\n",
    "\n",
    "plot_histogram(result.get_counts())"
   ]
  },
  {
   "cell_type": "code",
   "execution_count": 138,
   "metadata": {},
   "outputs": [],
   "source": [
    "# calculate weighted outcome on the most probables outcomes of the circuit\n",
    "def eval_outcome(most_prob_dict, n_outcome):\n",
    "    mapped_weights = list(map(lambda res: int(res[n_outcome*2])*most_prob_dict[res], most_prob_dict))\n",
    "    return sum(mapped_weights)/sum(most_prob_dict.values())"
   ]
  },
  {
   "cell_type": "code",
   "execution_count": 139,
   "metadata": {},
   "outputs": [
    {
     "name": "stdout",
     "output_type": "stream",
     "text": [
      "4 most probable states: {'0 0 1': 304, '0 1 1': 235, '0 1 0': 116, '1 1 0': 99}\n",
      "outcome0: 0.13\n",
      "outcome1: 0.60\n"
     ]
    }
   ],
   "source": [
    "num_most_prob_states = 4\n",
    "\n",
    "# extract the most probable states and then evaluate the outcome\n",
    "most_prob_dict = dict(heapq.nlargest(num_most_prob_states, counts.items(), key=itemgetter(1)))\n",
    "print(f\"{num_most_prob_states} most probable states: {most_prob_dict}\")\n",
    "\n",
    "outcome0, outcome1 = eval_outcome(most_prob_dict, 0), eval_outcome(most_prob_dict, 1)\n",
    "\n",
    "print(f\"outcome0: {outcome0:.2f}\\noutcome1: {outcome1:.2f}\")"
   ]
  },
  {
   "cell_type": "code",
   "execution_count": 140,
   "metadata": {},
   "outputs": [],
   "source": [
    "# Setting new positions after the gate ---------------------------------------------------------------"
   ]
  },
  {
   "cell_type": "code",
   "execution_count": 141,
   "metadata": {},
   "outputs": [
    {
     "name": "stdout",
     "output_type": "stream",
     "text": [
      "R0 0.47 0.30\n",
      "R1 0.90 0.93\n",
      "R1 displacement from ('01', '01') to ('10', '11'): [2, 1]\n",
      "R1: macro-micro\n",
      "R1 evaluated path (macro): 1\n",
      "R1 evaluated path (micro): 11\n"
     ]
    }
   ],
   "source": [
    "for i in Robotx._registry:\n",
    "    print(f\"{i.name} {i.betax:.2f} {i.betay:.2f}\")\n",
    "    if (i.delta != closest_robot.delta or all(i.delta == j.delta for j in Robotx._registry)): # excluding the robot that entered the gate\n",
    "        # CHANGE: but taking into account the case where all robots have the same reward!!!\n",
    "        # for z\n",
    "        #i.betaz = outcome0\n",
    "        # the lower this value, the closer the robot to the 0, the higher alphaz\n",
    "        #i.alphaz = round(1 - i.betaz, 3)\n",
    "\n",
    "        compute_path_to_position(i, [1-outcome1, 1-outcome0])\n",
    "\n",
    "        # # for y\n",
    "        # i.betay = outcome0 # changed this\n",
    "        # i.alphay = 1 - i.betay\n",
    "        \n",
    "        # # for x\n",
    "        # i.betax = outcome1 # changed this\n",
    "        # i.alphax = 1 - i.betax\n",
    "\n",
    "        "
   ]
  },
  {
   "cell_type": "code",
   "execution_count": 142,
   "metadata": {},
   "outputs": [
    {
     "data": {
      "image/png": "[encoded data removed]",
      "text/plain": [
       "<Figure size 432x288 with 1 Axes>"
      ]
     },
     "metadata": {
      "needs_background": "light"
     },
     "output_type": "display_data"
    }
   ],
   "source": [
    "plot_scatterplot(\"Closest robot position update\")"
   ]
  },
  {
   "cell_type": "code",
   "execution_count": 143,
   "metadata": {},
   "outputs": [
    {
     "name": "stdout",
     "output_type": "stream",
     "text": [
      "before the gate: R0 0.56\n",
      "before the gate: R1 0.20\n"
     ]
    }
   ],
   "source": [
    "# former rewards \n",
    "for i in  Robotx._registry:\n",
    "    print(f\"before the gate: {i.name} {i.delta:.2f}\")"
   ]
  },
  {
   "cell_type": "code",
   "execution_count": 144,
   "metadata": {},
   "outputs": [
    {
     "name": "stdout",
     "output_type": "stream",
     "text": [
      "Rewards after the gate: \n",
      "R0 0.56\n",
      "R1 0.72\n"
     ]
    }
   ],
   "source": [
    "# new rewards\n",
    "print(\"Rewards after the gate: \")\n",
    "recalculate_rewards()"
   ]
  },
  {
   "cell_type": "code",
   "execution_count": 145,
   "metadata": {},
   "outputs": [],
   "source": [
    "# Reach the most successful robot -------------------------------------------------------"
   ]
  },
  {
   "cell_type": "code",
   "execution_count": 146,
   "metadata": {},
   "outputs": [
    {
     "name": "stdout",
     "output_type": "stream",
     "text": [
      "max_attr_.delta: 0.72\n",
      "Most successful robot: R1 0.60 0.13 0.72\n",
      "R0 displacement from ('01', '10') to ('10', '11'): [2, 1]\n",
      "R0: macro-micro\n",
      "R0 evaluated path (macro): 0\n",
      "R0 evaluated path (micro): 11\n"
     ]
    }
   ],
   "source": [
    "# get the most successful robot\n",
    "max_attr_ = max(Robotx._registry, key=attrgetter('delta'))\n",
    "print(f\"max_attr_.delta: {max_attr_.delta:.2f}\")\n",
    "\n",
    "for i in Robotx._registry:\n",
    "    if (i.delta == max_attr_.delta):\n",
    "        print(f\"Most successful robot: {i.name} {i.betax:.2f} {i.betay:.2f} {i.delta:.2f}\") # and then it enters the gate\n",
    "\n",
    "for j in Robotx._registry:\n",
    "    # to get other robots following it:\n",
    "    if (j != max_attr_): \n",
    "        compute_path_to_position(j, [max_attr_.alphax + np.random.uniform(0,0.01), max_attr_.alphay + np.random.uniform(0,0.01)])\n",
    "                   "
   ]
  },
  {
   "cell_type": "code",
   "execution_count": 147,
   "metadata": {},
   "outputs": [
    {
     "name": "stdout",
     "output_type": "stream",
     "text": [
      "R0 0.71\n",
      "R1 0.72\n"
     ]
    }
   ],
   "source": [
    "recalculate_rewards()"
   ]
  },
  {
   "cell_type": "code",
   "execution_count": 148,
   "metadata": {},
   "outputs": [
    {
     "data": {
      "image/png": "[encoded data removed]",
      "text/plain": [
       "<Figure size 432x288 with 1 Axes>"
      ]
     },
     "metadata": {
      "needs_background": "light"
     },
     "output_type": "display_data"
    }
   ],
   "source": [
    "plot_scatterplot(\"Final configuration\")"
   ]
  }
 ],
 "metadata": {
  "interpreter": {
   "hash": "2db524e06e9f5f4ffedc911c917cb75e12dbc923643829bf417064a77eb14d37"
  },
  "kernelspec": {
   "display_name": "Python 3.8.2 64-bit",
   "language": "python",
   "name": "python3"
  },
  "language_info": {
   "codemirror_mode": {
    "name": "ipython",
    "version": 3
   },
   "file_extension": ".py",
   "mimetype": "text/x-python",
   "name": "python",
   "nbconvert_exporter": "python",
   "pygments_lexer": "ipython3",
   "version": "3.8.2"
  },
  "orig_nbformat": 4
 },
 "nbformat": 4,
 "nbformat_minor": 2
}
