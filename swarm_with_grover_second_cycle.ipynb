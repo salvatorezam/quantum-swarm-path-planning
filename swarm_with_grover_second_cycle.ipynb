{
 "cells": [
  {
   "cell_type": "code",
   "execution_count": 331,
   "metadata": {},
   "outputs": [],
   "source": [
    "from qiskit import QuantumRegister, ClassicalRegister, QuantumCircuit, Aer, transpile\n",
    "from qiskit.visualization import plot_histogram\n",
    "from qiskit import *\n",
    "import numpy as np\n",
    "import random\n",
    "%matplotlib inline\n",
    "import matplotlib.pyplot as plt\n",
    "from operator import attrgetter, itemgetter\n",
    "import heapq\n",
    "from scipy.spatial.distance import cityblock"
   ]
  },
  {
   "cell_type": "code",
   "execution_count": 332,
   "metadata": {},
   "outputs": [],
   "source": [
    "# Target & reward ------------------------------------------------------------------------"
   ]
  },
  {
   "cell_type": "code",
   "execution_count": 333,
   "metadata": {},
   "outputs": [],
   "source": [
    "class Target:\n",
    "    def __init__(self,name,x,y): # no indetermination in the target's position\n",
    "        self.name = name\n",
    "        self.x = x\n",
    "        self.y = y"
   ]
  },
  {
   "cell_type": "code",
   "execution_count": 334,
   "metadata": {},
   "outputs": [],
   "source": [
    "T = Target(\"T\", 0.875, 0.125) # deep in the ocean"
   ]
  },
  {
   "cell_type": "code",
   "execution_count": 335,
   "metadata": {},
   "outputs": [],
   "source": [
    "# the closer the target, the less the distance, the higher the reward\n",
    "def reward(T, betax, betay):\n",
    "    return 1 - (((T.x - betax)**2 + (T.y - betay)**2)**0.5)/np.sqrt(2) # distance is normalized on sqrt(2)"
   ]
  },
  {
   "cell_type": "code",
   "execution_count": 336,
   "metadata": {},
   "outputs": [],
   "source": [
    "# Obstacles ----------------------------------------------------------------------------"
   ]
  },
  {
   "cell_type": "code",
   "execution_count": 337,
   "metadata": {},
   "outputs": [],
   "source": [
    "class Obstacle:\n",
    "    _registry = []\n",
    "\n",
    "    def __init__(self,name,x,y):\n",
    "        self._registry.append(self)\n",
    "        self.name = name\n",
    "        self.x = x\n",
    "        self.y = y"
   ]
  },
  {
   "cell_type": "code",
   "execution_count": 338,
   "metadata": {},
   "outputs": [],
   "source": [
    "O = Obstacle(\"Oo\", 0.125, 0.125)"
   ]
  },
  {
   "cell_type": "code",
   "execution_count": 339,
   "metadata": {},
   "outputs": [],
   "source": [
    "# Robots -------------------------------------------------------------------------------"
   ]
  },
  {
   "cell_type": "code",
   "execution_count": 340,
   "metadata": {},
   "outputs": [],
   "source": [
    "# returns the complementary amplitude of ampl, evaluated as sqrt(1 - ||ampl||^2)\n",
    "def c_ampl(ampl):  \n",
    "    return np.sqrt(1 - ampl**2)"
   ]
  },
  {
   "cell_type": "code",
   "execution_count": 341,
   "metadata": {},
   "outputs": [],
   "source": [
    "class Robotx(object):\n",
    "    _registry = []\n",
    "\n",
    "    def __init__(self, name, alphax, alphay):\n",
    "        self._registry.append(self)\n",
    "        self.name = name\n",
    "        self.alphax = alphax\n",
    "        self.betax = c_ampl(alphax)\n",
    "        self.alphay = alphay\n",
    "        self.betay = c_ampl(alphay)\n",
    "        self.delta = reward(T, self.betax, self.betay)\n",
    "        self.gamma = c_ampl(self.delta)"
   ]
  },
  {
   "cell_type": "code",
   "execution_count": 342,
   "metadata": {},
   "outputs": [],
   "source": [
    "# arbitrary number of robots that, at the start, are uniformly distributed in the square of side length radius*2,\n",
    "# centered in starting_cluster_coord\n",
    "#\n",
    "num_of_robots = 2\n",
    "\n",
    "# must be lower than 0.25, otherwise, the robots would start on different cells\n",
    "radius = 0.05\n",
    "\n",
    "# center of the (0,0) cell \n",
    "starting_cluster_coord = (0.125, 0.875)\n",
    "\n",
    "a_x, a_y = c_ampl(starting_cluster_coord[0]-radius), c_ampl(starting_cluster_coord[0]+radius)\n",
    "b_x, b_y = c_ampl(starting_cluster_coord[1]-radius), c_ampl(starting_cluster_coord[1]+radius)\n",
    "\n",
    "for i in range(num_of_robots):\n",
    "    Robotx('R'+str(i), random.uniform(a_x,a_y), random.uniform(b_x,b_y))"
   ]
  },
  {
   "cell_type": "code",
   "execution_count": 343,
   "metadata": {},
   "outputs": [
    {
     "name": "stdout",
     "output_type": "stream",
     "text": [
      "R0 0.15 0.85 0.96 0.27\n",
      "R1 0.15 0.87 0.96 0.27\n"
     ]
    }
   ],
   "source": [
    "# note: values are stored with full precision, rounding is done only on visualization (with :.2f)\n",
    "for k in Robotx._registry:\n",
    "    print(f\"{k.name} {k.betax:.2f} {k.betay:.2f} {k.gamma:.2f} {k.delta:.2f}\")"
   ]
  },
  {
   "cell_type": "code",
   "execution_count": 344,
   "metadata": {},
   "outputs": [
    {
     "name": "stdout",
     "output_type": "stream",
     "text": [
      "R0 0.27\n",
      "R1 0.27\n"
     ]
    }
   ],
   "source": [
    "for k in Robotx._registry:\n",
    "    print(f\"{k.name} {k.delta:.2f}\")"
   ]
  },
  {
   "cell_type": "code",
   "execution_count": 345,
   "metadata": {},
   "outputs": [
    {
     "data": {
      "image/png": "[encoded data removed]",
      "text/plain": [
       "<Figure size 432x288 with 1 Axes>"
      ]
     },
     "metadata": {
      "needs_background": "light"
     },
     "output_type": "display_data"
    }
   ],
   "source": [
    "def plot_scatterplot(*args):\n",
    "\n",
    "    # to print grid on map\n",
    "    ax = plt.figure().gca()\n",
    "    ax.set_xticks(np.arange(0, 1, 0.25))\n",
    "    ax.set_yticks(np.arange(0, 1, 0.25))\n",
    "    plt.grid()\n",
    "\n",
    "    for i in Robotx._registry:\n",
    "        # color gradient to better visualize the different robots within the map\n",
    "        robot_color = hex(int(\"0x30ca15\", 16) + int(\"0x00bb00\", 16)*int(i.name[1])).replace(\"0x\",\"#\")\n",
    "        plt.scatter(i.betax, i.betay, s = 300, marker = 'o', color = robot_color)\n",
    "        \n",
    "    plt.scatter(T.x, T.y, s = 400, marker = '*', color = 'turquoise')\n",
    "\n",
    "    for o in Obstacle._registry:\n",
    "        plt.scatter(o.x, o.y, s = 400, marker = 'p', color = 'red')\n",
    "\n",
    "    plt.axis([0, 1, 0, 1])\n",
    "\n",
    "    if args:\n",
    "        plt.title(args[0])\n",
    "        \n",
    "    plt.show() \n",
    "\n",
    "plot_scatterplot(\"Initialization\")"
   ]
  },
  {
   "cell_type": "code",
   "execution_count": 346,
   "metadata": {},
   "outputs": [
    {
     "name": "stdout",
     "output_type": "stream",
     "text": [
      "R0 0.27 achtung!\n",
      "R1 0.27 achtung!\n"
     ]
    }
   ],
   "source": [
    "for r in Robotx._registry:\n",
    "    if (r.delta < 0.5):\n",
    "        print(f\"{r.name} {r.delta:.2f} achtung!\") # and start from this point to build the reshuffle section"
   ]
  },
  {
   "cell_type": "code",
   "execution_count": 347,
   "metadata": {},
   "outputs": [],
   "source": [
    "# Centroid handling -------------------------------------------------------------------------"
   ]
  },
  {
   "cell_type": "code",
   "execution_count": 348,
   "metadata": {},
   "outputs": [
    {
     "name": "stdout",
     "output_type": "stream",
     "text": [
      "Centroids:\n",
      "{ (0.125, 0.875): ('00', '00') \n",
      "  (0.375, 0.875): ('01', '00') \n",
      "  (0.625, 0.875): ('00', '01') \n",
      "  (0.875, 0.875): ('01', '01') \n",
      "  (0.125, 0.625): ('10', '00') \n",
      "  (0.375, 0.625): ('11', '00') \n",
      "  (0.625, 0.625): ('10', '01') \n",
      "  (0.875, 0.625): ('11', '01') \n",
      "  (0.125, 0.375): ('00', '10') \n",
      "  (0.375, 0.375): ('01', '10') \n",
      "  (0.625, 0.375): ('00', '11') \n",
      "  (0.875, 0.375): ('01', '11') \n",
      "  (0.125, 0.125): ('10', '10') \n",
      "  (0.375, 0.125): ('11', '10') \n",
      "  (0.625, 0.125): ('10', '11') \n",
      "  (0.875, 0.125): ('11', '11') }\n"
     ]
    }
   ],
   "source": [
    "# returns a dict so that:\n",
    "#  - the keys are the coordinates of the centroids of a square dim_map x dim_map map of side length 1\n",
    "#  - the values are in the form (micro_cell, macro_cell) of the centroids\n",
    "def find_centroids(dim_map):\n",
    "\n",
    "    unit_displacement = 1 / (dim_map*2)\n",
    "\n",
    "    centroids_coords = []\n",
    "    for i in range(dim_map,0,-1):\n",
    "        row = []\n",
    "        for j in range(dim_map): \n",
    "            row.append((j*unit_displacement*2 + unit_displacement, i*unit_displacement*2 - unit_displacement))\n",
    "        centroids_coords.append(row)\n",
    "\n",
    "    centroids_dict = {t: (f\"{str(i%2)}{str(j%2)}\", f\"{0 if t[1] > 0.5 else 1}{0 if t[0] < 0.5 else 1}\")\n",
    "     for i,row in enumerate(centroids_coords) for j,t in enumerate(row)}\n",
    "     \n",
    "    return centroids_dict\n",
    "\n",
    "centroids = find_centroids(4)\n",
    "\n",
    "print(\"Centroids:\\n{ \" + \"\\n  \".join(f\"{k}: {v} \" for k, v in centroids.items()) + \"}\")"
   ]
  },
  {
   "cell_type": "code",
   "execution_count": 349,
   "metadata": {},
   "outputs": [
    {
     "name": "stdout",
     "output_type": "stream",
     "text": [
      "Closest centroid to R0: ('00', '00')\n",
      "Closest centroid to R1: ('00', '00')\n"
     ]
    }
   ],
   "source": [
    "# returns the centroid tuple of the cell that a point of coordinates (x,y) is located in\n",
    "def find_closest_centroid(centroids, x, y):\n",
    "    centroids_coords = np.array(list(centroids.keys()))\n",
    "    distances = np.linalg.norm(centroids_coords-np.array([x, y]), axis=1)\n",
    "    return centroids[tuple(centroids_coords[np.argmin(distances)])]\n",
    "    \n",
    "for r in Robotx._registry:\n",
    "    print(f\"Closest centroid to {r.name}: {find_closest_centroid(centroids, r.betax, r.betay)}\")"
   ]
  },
  {
   "cell_type": "code",
   "execution_count": 350,
   "metadata": {},
   "outputs": [
    {
     "name": "stdout",
     "output_type": "stream",
     "text": [
      "Obstacles' centroids:\n",
      "{ (0.125, 0.125): ('10', '10') }\n"
     ]
    }
   ],
   "source": [
    "# associate centroids to obstacles\n",
    "obstacles_centroids = {coord: v for (coord,v) in centroids.items() for o in Obstacle._registry if coord == (o.x, o.y)}\n",
    "print(\"Obstacles' centroids:\\n{ \" + \"\\n  \".join(f\"{k}: {v} \" for k, v in obstacles_centroids.items()) + \"}\")"
   ]
  },
  {
   "cell_type": "code",
   "execution_count": 351,
   "metadata": {},
   "outputs": [],
   "source": [
    "# Grover planner -------------------------------------------------------------------------    "
   ]
  },
  {
   "cell_type": "code",
   "execution_count": 352,
   "metadata": {},
   "outputs": [],
   "source": [
    "# takes as input strings with the binary encoding of cells and outputs the manhattan distance between them\n",
    "def manhattan(start_cell, target_cell):\n",
    "    start_cell_v, target_cell_v = [int(b) for b in start_cell], [int(b) for b in target_cell]\n",
    "    return int(cityblock(start_cell_v, target_cell_v).item())"
   ]
  },
  {
   "cell_type": "code",
   "execution_count": 353,
   "metadata": {},
   "outputs": [],
   "source": [
    "class GroverPlanner:\n",
    "    def __init__(self, obstacles):\n",
    "        self.obstacles = obstacles\n",
    "\n",
    "    #\n",
    "    # Utility functions\n",
    "    #\n",
    "    def XOR(self, qc, a, b, output):\n",
    "        qc.cx(a, output)\n",
    "        qc.cx(b, output)\n",
    "\n",
    "    def encode_cell(self, qc, cell, qubits):\n",
    "        for idx, bit in enumerate(cell):\n",
    "            bitn = int(bit)\n",
    "            if bitn:\n",
    "                qc.x(qubits[idx])\n",
    "\n",
    "    def encode_target(self, qc, target_cell, qubits):\n",
    "        for idx, bit in enumerate(target_cell):\n",
    "            bitn = int(bit)\n",
    "            if not bitn:\n",
    "                qc.x(qubits[idx])\n",
    "\n",
    "    def obstacles_in_map(self, target_cell):\n",
    "        return any(target_cell[1] == macro_cell for macro_cell in list(map(lambda ob_t: ob_t[1], self.obstacles)))\n",
    "\n",
    "    #\n",
    "    # Grover diffuser\n",
    "    #\n",
    "    def diffuser(self, nqubits):\n",
    "        diff = QuantumCircuit(nqubits)\n",
    "\n",
    "        # Apply transformation |s> -> |00..0> (H-gates)\n",
    "        for qubit in range(nqubits):\n",
    "            diff.h(qubit)\n",
    "\n",
    "        # Apply transformation |00..0> -> |11..1> (X-gates)\n",
    "        for qubit in range(nqubits):\n",
    "            diff.x(qubit)\n",
    "\n",
    "        # Do multi-controlled-Z gate\n",
    "        diff.h(nqubits - 1)\n",
    "        diff.mct(list(range(nqubits - 1)), nqubits - 1)  # multi-controlled-toffoli\n",
    "        diff.h(nqubits - 1)\n",
    "\n",
    "        # Apply transformation |11..1> -> |00..0>\n",
    "        for qubit in range(nqubits):\n",
    "            diff.x(qubit)\n",
    "\n",
    "        # Apply transformation |00..0> -> |s>\n",
    "        for qubit in range(nqubits):\n",
    "            diff.h(qubit)\n",
    "        \n",
    "        U_s = diff.to_gate()\n",
    "        U_s.name = \"U$_\\psi$\"\n",
    "        return U_s\n",
    "\n",
    "    #\n",
    "    # Half oracle\n",
    "    #\n",
    "    # it performs the quantum moves to get to the final state the solution test is performed on; its structure \n",
    "    # changes according to both the number of movements required to get to the target and the presence of obstacles\n",
    "    #\n",
    "    def half_oracle(self, num_of_M, obstacles_in_map, quantum_registers):\n",
    "\n",
    "        if num_of_M == 1:\n",
    "\n",
    "            ho = QuantumCircuit(*quantum_registers)\n",
    "            pos_qubits, mov_qubits, c, output = quantum_registers\n",
    "\n",
    "            # -- First M --\n",
    "            self.XOR(ho, pos_qubits[1], mov_qubits[0], c[0])\n",
    "            ho.x(c[0])\n",
    "            self.XOR(ho, pos_qubits[0], mov_qubits[0], c[1])\n",
    "\n",
    "        elif num_of_M == 2:\n",
    "\n",
    "            ho = QuantumCircuit(*quantum_registers)\n",
    "\n",
    "            if obstacles_in_map:\n",
    "                pos_qubits, mov_qubits, c, o, caux, out, output = quantum_registers\n",
    "            else:\n",
    "                pos_qubits, mov_qubits, c, output = quantum_registers\n",
    "\n",
    "            # -- First M --\n",
    "            self.XOR(ho, pos_qubits[1], mov_qubits[0], c[0])\n",
    "            ho.x(c[0])\n",
    "            self.XOR(ho, pos_qubits[0], mov_qubits[0], c[1])\n",
    "\n",
    "            if obstacles_in_map:\n",
    "                # -- Obstacle encoding --\n",
    "                for obstacle in self.obstacles:\n",
    "                    self.encode_cell(ho, obstacle[0], [c[0], c[1]])\n",
    "                    ho.ccx(c[0], c[1], o)\n",
    "                    self.encode_cell(ho, obstacle[0], [c[0], c[1]])\n",
    "\n",
    "            # -- Second M --\n",
    "            self.XOR(ho, c[1], mov_qubits[1], c[2])\n",
    "            ho.x(c[2])\n",
    "            self.XOR(ho, c[0], mov_qubits[1], c[3])\n",
    "\n",
    "            if obstacles_in_map:\n",
    "                # -- Selection stage --\n",
    "                ho.ccx(c[2], o, caux[0])\n",
    "                ho.x(caux[0])\n",
    "                ho.ccx(c[3], o, caux[1])\n",
    "                ho.x(caux[1])\n",
    "\n",
    "                ho.x(o)\n",
    "\n",
    "                ho.ccx(pos_qubits[0], o, caux[2])\n",
    "                ho.x(caux[2])\n",
    "                ho.ccx(pos_qubits[1], o, caux[3])\n",
    "                ho.x(caux[3])\n",
    "\n",
    "                ho.ccx(caux[0], caux[2], out[0])\n",
    "                ho.x(out[0])\n",
    "                ho.ccx(caux[1], caux[3], out[1])\n",
    "                ho.x(out[1])\n",
    "\n",
    "        HalfOracle = ho.to_gate()\n",
    "        HalfOracle.name = \"HO\"\n",
    "        return HalfOracle\n",
    "\n",
    "    #\n",
    "    # Grover oracle\n",
    "    #\n",
    "    # it is composed of a oracle half, the testing operator, and the mirror circuit of the first half\n",
    "    #\n",
    "    def oracle(self, num_of_M, target_cell, m_type, obstacles_in_map, qc, quantum_registers):\n",
    "\n",
    "        halforacle = self.half_oracle(num_of_M, obstacles_in_map, quantum_registers)\n",
    "\n",
    "        additional_regs = []\n",
    "\n",
    "        if obstacles_in_map:\n",
    "            pos_qubits, mov_qubits, c, *additional_regs, output = quantum_registers\n",
    "        else:\n",
    "            pos_qubits, mov_qubits, c, output = quantum_registers\n",
    "\n",
    "        # -- First half of the oracle --\n",
    "        qc.append(\n",
    "            halforacle,\n",
    "            pos_qubits[:]\n",
    "            + mov_qubits[:]\n",
    "            + c[:]\n",
    "            + (\n",
    "                (additional_regs[0][:] + additional_regs[1][:] + additional_regs[2][:])\n",
    "                if additional_regs\n",
    "                else []\n",
    "            )\n",
    "            + output[:],\n",
    "        )\n",
    "\n",
    "        # -- Test operator --\n",
    "        test_qubits = c[-2:] if num_of_M == 1 or (num_of_M == 2 and not obstacles_in_map) else additional_regs[2]\n",
    "        tcell_idx = 0 if m_type == \"micro\" else 1\n",
    "        self.encode_target(qc, target_cell[tcell_idx], [test_qubits[0], test_qubits[1]])\n",
    "        qc.ccx(test_qubits[0], test_qubits[1], output)\n",
    "        self.encode_target(qc, target_cell[tcell_idx], [test_qubits[0], test_qubits[1]])\n",
    "\n",
    "        # -- Mirror circuit of the first half of the oracle --\n",
    "        qc.append(\n",
    "            halforacle.inverse(),\n",
    "            pos_qubits[:]\n",
    "            + mov_qubits[:]\n",
    "            + c[:]\n",
    "            + (\n",
    "                (additional_regs[0][:] + additional_regs[1][:] + additional_regs[2][:])\n",
    "                if additional_regs\n",
    "                else []\n",
    "            )\n",
    "            + output[:],\n",
    "        )\n",
    "\n",
    "    #\n",
    "    # Path planning\n",
    "    #\n",
    "    # takes as input the tuples of centroids start_cell and target_cell, together with the movement type (m_type),\n",
    "    # that can yield the values \"micro\" or \"macro\"\n",
    "    #\n",
    "    def find_path(self, start_cell, target_cell, m_type):\n",
    "\n",
    "        # number of M operators is equal to the Manhattan distance between start and target\n",
    "        cell_idx = 0 if m_type == \"micro\" else 1\n",
    "        num_of_M = manhattan(start_cell[cell_idx], target_cell[cell_idx])\n",
    "\n",
    "        # --- Initializations ---\n",
    "        pos_qubits = QuantumRegister(2, name=\"r\")\n",
    "        mov_qubits = QuantumRegister(num_of_M, name=\"m\")\n",
    "        c = QuantumRegister(2 * num_of_M, name=\"c\")\n",
    "\n",
    "        o = QuantumRegister(1, name=\"o\")\n",
    "        caux = QuantumRegister(4, name=\"caux\")\n",
    "        out = QuantumRegister(2, name=\"out\")\n",
    "\n",
    "        output = QuantumRegister(1, name=\"q\")\n",
    "        cbits = ClassicalRegister(2 + num_of_M, name=\"cbits\")\n",
    "\n",
    "        # check if there are obstacles to be considered within the path\n",
    "        obstacles_in_map = self.obstacles_in_map(target_cell) and m_type == \"micro\"\n",
    "\n",
    "        # ensemble of quantum registers to build the QuantumCircuit with\n",
    "        base_registers = [pos_qubits, mov_qubits, c, output, cbits]\n",
    "        additional_registers = base_registers.copy()\n",
    "        additional_registers[3:3] = [o, caux, out]\n",
    "        quantum_registers = (\n",
    "            base_registers\n",
    "            if num_of_M == 1 or (num_of_M == 2 and not obstacles_in_map)\n",
    "            else additional_registers\n",
    "        )\n",
    "\n",
    "        qc = QuantumCircuit(*quantum_registers)\n",
    "\n",
    "        # initialize pos_qubits in uniform superposition\n",
    "        qc.h(pos_qubits)\n",
    "\n",
    "        # initialize mov_qubits in state |s>\n",
    "        qc.h(mov_qubits)\n",
    "\n",
    "        # initialize 'output0' in state |->\n",
    "        qc.initialize([1, -1] / np.sqrt(2), output)\n",
    "\n",
    "        # --- Oracle + Diffuser ---\n",
    "        num_iterations = 1\n",
    "        for _ in range(num_iterations):\n",
    "            self.oracle(\n",
    "                num_of_M,\n",
    "                target_cell,\n",
    "                m_type,\n",
    "                obstacles_in_map,\n",
    "                qc,\n",
    "                quantum_registers[:-1],\n",
    "            )\n",
    "            diff_qubits = [0, 1, 2] if num_of_M == 1 else [0, 1, 2, 3]\n",
    "            qc.append(self.diffuser(len(diff_qubits)), diff_qubits)\n",
    "\n",
    "        # --- Measurement ---\n",
    "        qc.measure(pos_qubits, cbits[0:2])\n",
    "        qc.measure(mov_qubits, cbits[2 : (2 + num_of_M)])\n",
    "\n",
    "        # --- Simulation ---\n",
    "        aer_sim = Aer.get_backend(\"aer_simulator\")\n",
    "        transpiled_qc = transpile(qc, aer_sim)\n",
    "        result_counts = aer_sim.run(transpiled_qc).result().get_counts()\n",
    "\n",
    "        # filtering out all the non-trivial solutions on the simulation output\n",
    "        return [k for k in result_counts.keys() if k[-2:] == start_cell[cell_idx][len(start_cell[cell_idx]) :: -1]]\n",
    "\n",
    "groverPlanner = GroverPlanner(obstacles_centroids.values())"
   ]
  },
  {
   "cell_type": "code",
   "execution_count": 354,
   "metadata": {},
   "outputs": [
    {
     "data": {
      "text/plain": [
       "['1100']"
      ]
     },
     "execution_count": 354,
     "metadata": {},
     "output_type": "execute_result"
    }
   ],
   "source": [
    "# test\n",
    "groverPlanner.find_path(start_cell=(\"00\", \"10\"), target_cell=(\"11\", \"10\"), m_type=\"micro\")"
   ]
  },
  {
   "cell_type": "code",
   "execution_count": 355,
   "metadata": {},
   "outputs": [],
   "source": [
    "# Reshuffling ----------------------------------------------------------------------------"
   ]
  },
  {
   "cell_type": "code",
   "execution_count": 356,
   "metadata": {},
   "outputs": [],
   "source": [
    "# returns a list with the micro and macro displacement after the movement\n",
    "def eval_displacement(old_centroid, new_centroid):\n",
    "    old_c_micro, old_c_macro = old_centroid\n",
    "    new_c_micro, new_c_macro = new_centroid\n",
    "    return [manhattan(old_c_micro, new_c_micro), manhattan(old_c_macro, new_c_macro)]"
   ]
  },
  {
   "cell_type": "code",
   "execution_count": 357,
   "metadata": {},
   "outputs": [],
   "source": [
    "# computes the movements required to get to the position encoded in new_alphas, which has the form [new_alphax, new_alphay]\n",
    "#\n",
    "# it also updates the new position of the robot, so there is no need to do that separately\n",
    "#\n",
    "def compute_path_to_position(robot, new_alphas):\n",
    "\n",
    "    # starting centroid\n",
    "    old_centroid = find_closest_centroid(centroids, robot.betax, robot.betay)\n",
    "\n",
    "    # assign new positions\n",
    "    robot.alphax, robot.alphay = new_alphas\n",
    "    robot.betax, robot.betay = c_ampl(robot.alphax), c_ampl(robot.alphay)\n",
    "\n",
    "    # new centroid\n",
    "    new_centroid = find_closest_centroid(centroids, robot.betax, robot.betay)\n",
    "\n",
    "    # displacement between the new and starting centroids\n",
    "    displacement = eval_displacement(old_centroid, new_centroid)\n",
    "\n",
    "    #\n",
    "    # Planning the path according to the different possible displacement:\n",
    "    #   - macro: the robot changes macro-cell but stays in the same micro-cell\n",
    "    #   - micro: the robot changes micro-cell but stays in the same macro-cell\n",
    "    #   - macro and micro: the robot changes both macro and micro cells\n",
    "    #   - if the new position is in the same micro and macro cells nothing happens\n",
    "    # \n",
    "\n",
    "    # --- Macro movement ---\n",
    "    if displacement[0] == 0 and displacement[1] != 0:\n",
    "        print(f\"{robot.name}: macro\")\n",
    "        evaluated_path = groverPlanner.find_path(old_centroid, new_centroid, m_type=\"macro\")\n",
    "        print(f\"{robot.name} evaluated path: {evaluated_path[0][:-2]}\")\n",
    "\n",
    "    # --- Micro movement ---\n",
    "    elif displacement[0] != 0 and displacement[1] == 0:\n",
    "        print(f\"{robot.name}: micro\")\n",
    "        evaluated_path = groverPlanner.find_path(old_centroid, new_centroid, m_type=\"micro\")\n",
    "        print(f\"{robot.name} evaluated path: {evaluated_path[0][:-2]}\")\n",
    "\n",
    "    # --- Macro and micro movement ---\n",
    "    elif displacement[0] != 0 and displacement[1] != 0:\n",
    "        print(f\"{robot.name}: macro-micro\")\n",
    "        # macro path\n",
    "        evaluated_path = groverPlanner.find_path(old_centroid, new_centroid, m_type=\"macro\")\n",
    "        print(f\"{robot.name} evaluated path (macro): {evaluated_path[0][:-2]}\")\n",
    "    \n",
    "        # micro path\n",
    "        evaluated_path = groverPlanner.find_path(old_centroid, new_centroid, m_type=\"micro\")\n",
    "        print(f\"{robot.name} evaluated path (micro): {evaluated_path[0][:-2]}\")\n",
    "        "
   ]
  },
  {
   "cell_type": "code",
   "execution_count": 358,
   "metadata": {},
   "outputs": [],
   "source": [
    "# check whether a given position ends up in a obstacle cell\n",
    "def is_position_on_obstacle(new_alphas):\n",
    "    new_pos_centroid = find_closest_centroid(centroids, c_ampl(new_alphas[0]), c_ampl(new_alphas[1]))\n",
    "    return True if new_pos_centroid in obstacles_centroids.values() else False"
   ]
  },
  {
   "cell_type": "code",
   "execution_count": 359,
   "metadata": {},
   "outputs": [],
   "source": [
    "def informed_alpha_reshuffling():\n",
    "\n",
    "    # parse the coordinates of farthest robot from the target\n",
    "    #\n",
    "    # since this method is called when the robots are in a cluster (either at the start or ar the end\n",
    "    # of a full procedure), it does not matter which robot is chosen, all being quite close to each other;\n",
    "    # here, among all, I am choosing the farthest one with the idea of \"maximum coverage\" of the search space\n",
    "    #\n",
    "    farthest_robot = min(Robotx._registry, key=attrgetter('delta'))\n",
    "    f_centroid = find_closest_centroid(centroids, farthest_robot.betax, farthest_robot.betay)\n",
    "    f_coords = list(list(centroids.keys())[list(centroids.values()).index(f_centroid)])\n",
    "\n",
    "    # handle the case where the robot lies in the same row/column of the target\n",
    "    if f_coords[0] == T.x:\n",
    "        f_coords[0] = f_coords[1]\n",
    "    elif f_coords[1] == T.y:\n",
    "        f_coords[1] = f_coords[0]\n",
    "\n",
    "    # compute the new reshuffled position within the rectangle \n",
    "    return [c_ampl(np.random.uniform(f_coords[0], T.x)), c_ampl(np.random.uniform(f_coords[1], T.y))]\n"
   ]
  },
  {
   "cell_type": "code",
   "execution_count": 360,
   "metadata": {},
   "outputs": [
    {
     "name": "stdout",
     "output_type": "stream",
     "text": [
      "Do all the robots have a reward lower than 0.8? : True\n",
      "R0: macro\n",
      "R0 evaluated path: 0\n",
      "R1: macro\n",
      "R1 evaluated path: 0\n"
     ]
    }
   ],
   "source": [
    "result = all(i.delta < 0.8 for i in Robotx._registry)\n",
    "print(\"Do all the robots have a reward lower than 0.8? : \" + str(result))\n",
    "\n",
    "# if True: reshuffle positions\n",
    "# if False: do nothing\n",
    "\n",
    "# reshuffling is considered invalid if the target position of the robot is the same as that of an obstacle;\n",
    "# with this consideration, no computational time is wasted trying to find the path to an inaccessible cell\n",
    "\n",
    "if result == True:\n",
    "    for i in Robotx._registry:\n",
    "        new_alphas = informed_alpha_reshuffling()\n",
    "\n",
    "        # if new position ends up in an obstacle cell, recompute the alphas\n",
    "        while is_position_on_obstacle(new_alphas):\n",
    "            new_alphas = informed_alpha_reshuffling()\n",
    "\n",
    "        compute_path_to_position(i, new_alphas)\n",
    "               "
   ]
  },
  {
   "cell_type": "code",
   "execution_count": 361,
   "metadata": {},
   "outputs": [],
   "source": [
    "# recalculate the rewards\n",
    "def recalculate_rewards():\n",
    "    for i in Robotx._registry:\n",
    "        i.delta = reward(T, i.betax, i.betay)\n",
    "        i.gamma = c_ampl(i.delta)\n",
    "        print(f\"{i.name} {i.delta:.2f}\")"
   ]
  },
  {
   "cell_type": "code",
   "execution_count": 362,
   "metadata": {},
   "outputs": [
    {
     "name": "stdout",
     "output_type": "stream",
     "text": [
      "R0 0.47\n",
      "R1 0.49\n"
     ]
    }
   ],
   "source": [
    "recalculate_rewards()"
   ]
  },
  {
   "cell_type": "code",
   "execution_count": 363,
   "metadata": {},
   "outputs": [
    {
     "data": {
      "image/png": "[encoded data removed]",
      "text/plain": [
       "<Figure size 432x288 with 1 Axes>"
      ]
     },
     "metadata": {
      "needs_background": "light"
     },
     "output_type": "display_data"
    }
   ],
   "source": [
    "plot_scatterplot(\"Reshuffled positions\")"
   ]
  },
  {
   "cell_type": "code",
   "execution_count": 364,
   "metadata": {},
   "outputs": [],
   "source": [
    "# Quantum circuit construction ------------------------------------------------------------------"
   ]
  },
  {
   "cell_type": "code",
   "execution_count": 365,
   "metadata": {},
   "outputs": [],
   "source": [
    "q = QuantumRegister(5, 'q') # qubits # changed to 9, formerly 15\n",
    "m2 = ClassicalRegister(1, 'c1') # classical bits (separated is better)\n",
    "m3 = ClassicalRegister(1, 'c2')\n",
    "m4 = ClassicalRegister(1, 'c3')\n",
    "\n",
    "qc3 = QuantumCircuit(q, m2, m3, m4) # to reach the target\n",
    "qc4 = QuantumCircuit(q, m2, m3, m4) # to get back to the nest"
   ]
  },
  {
   "cell_type": "code",
   "execution_count": 366,
   "metadata": {},
   "outputs": [],
   "source": [
    "# Which robot should enter the gate? -----------------------------------------------------------"
   ]
  },
  {
   "cell_type": "code",
   "execution_count": 367,
   "metadata": {},
   "outputs": [],
   "source": [
    "def print_formatted_vector(*args):\n",
    "    for vector in args:\n",
    "        print(\"[\" + \"\".join(f\"{val:.2f} \" for val in vector).strip() + \"]\")"
   ]
  },
  {
   "cell_type": "code",
   "execution_count": 368,
   "metadata": {},
   "outputs": [
    {
     "name": "stdout",
     "output_type": "stream",
     "text": [
      "Closest robot to the target: R1 0.18 0.35 0.49\n",
      "[0.98 0.18]\n",
      "[0.94 0.35]\n",
      "[0.87 0.49]\n",
      "[0.98 0.18]\n",
      "[0.94 0.35]\n",
      "[0.87 0.49]\n"
     ]
    }
   ],
   "source": [
    "# in case of ties on delta score, the max() function outputs the first maximum item it processes \n",
    "closest_robot = max(Robotx._registry, key=attrgetter('delta'))\n",
    "print(f\"Closest robot to the target: {closest_robot.name} {closest_robot.betax:.2f} {closest_robot.betay:.2f} {closest_robot.delta:.2f}\")\n",
    "\n",
    "# and then it enters the gate\n",
    "vector0 = [closest_robot.alphax, closest_robot.betax]\n",
    "vector1 = [closest_robot.alphay, closest_robot.betay]\n",
    "vector3 = [closest_robot.gamma, closest_robot.delta]\n",
    "\n",
    "normalized_v0 = vector0/np.linalg.norm(vector0)\n",
    "normalized_v1 = vector1/np.linalg.norm(vector1)\n",
    "normalized_v3 = vector3/np.linalg.norm(vector3)\n",
    "\n",
    "print_formatted_vector(vector0, vector1, vector3)\n",
    "print_formatted_vector(normalized_v0, normalized_v1, normalized_v3)"
   ]
  },
  {
   "cell_type": "code",
   "execution_count": 369,
   "metadata": {},
   "outputs": [],
   "source": [
    "# Setting up |q_0> ------------------------------------------------------------------------------"
   ]
  },
  {
   "cell_type": "code",
   "execution_count": 370,
   "metadata": {},
   "outputs": [
    {
     "data": {
      "text/plain": [
       "<qiskit.circuit.instructionset.InstructionSet at 0x29a21aa17c0>"
      ]
     },
     "execution_count": 370,
     "metadata": {},
     "output_type": "execute_result"
    }
   ],
   "source": [
    "# direct initialization with amplitudes vector\n",
    "qc3.initialize(normalized_v0, q[0])\n",
    "qc3.initialize(normalized_v1, q[1])\n",
    "qc3.initialize(normalized_v3, q[2])"
   ]
  },
  {
   "cell_type": "code",
   "execution_count": 371,
   "metadata": {},
   "outputs": [
    {
     "name": "stdout",
     "output_type": "stream",
     "text": [
      "      ┌─────────────────────────────┐ ░                                    »\n",
      " q_0: ┤ Initialize(0.98305,0.18333) ├─░───■────■─────────■─────────────────»\n",
      "      ├─────────────────────────────┤ ░   │    │         │                 »\n",
      " q_1: ┤ Initialize(0.93699,0.34936) ├─░───■────■─────────┼────■────────────»\n",
      "      ├─────────────────────────────┤ ░   │    │         │    │  ┌───┐     »\n",
      " q_2: ┤ Initialize(0.87405,0.48583) ├─░───┼────┼─────────■────■──┤ X ├──■──»\n",
      "      └─────────────────────────────┘ ░ ┌─┴─┐  │       ┌─┴─┐  │  └───┘┌─┴─┐»\n",
      " q_3: ────────────────────────────────░─┤ X ├──┼───|0>─┤ X ├──┼───────┤ H ├»\n",
      "                                      ░ └───┘┌─┴─┐     └───┘┌─┴─┐     └───┘»\n",
      " q_4: ────────────────────────────────░──────┤ X ├─|0>──────┤ X ├──────────»\n",
      "                                      ░      └───┘          └───┘          »\n",
      "c1: 1/═════════════════════════════════════════════════════════════════════»\n",
      "                                                                           »\n",
      "c2: 1/═════════════════════════════════════════════════════════════════════»\n",
      "                                                                           »\n",
      "c3: 1/═════════════════════════════════════════════════════════════════════»\n",
      "                                                                           »\n",
      "«                 ░          \n",
      "« q_0: ───────────░──────────\n",
      "«                 ░          \n",
      "« q_1: ───────────░──────────\n",
      "«           ┌───┐ ░ ┌─┐      \n",
      "« q_2: ──■──┤ X ├─░─┤M├──────\n",
      "«        │  └───┘ ░ └╥┘┌─┐   \n",
      "« q_3: ──┼────────░──╫─┤M├───\n",
      "«      ┌─┴─┐      ░  ║ └╥┘┌─┐\n",
      "« q_4: ┤ H ├──────░──╫──╫─┤M├\n",
      "«      └───┘      ░  ║  ║ └╥┘\n",
      "«c1: 1/══════════════╩══╬══╬═\n",
      "«                    0  ║  ║ \n",
      "«c2: 1/═════════════════╩══╬═\n",
      "«                       0  ║ \n",
      "«c3: 1/════════════════════╩═\n",
      "«                          0 \n"
     ]
    }
   ],
   "source": [
    "# this is the core code, and it is unchanged across time\n",
    "\n",
    "qc3.barrier(q)\n",
    "qc3.ccx(q[0],q[1],q[3])\n",
    "qc3.ccx(q[0],q[1],q[4])\n",
    "\n",
    "qc3.reset(q[3])\n",
    "qc3.reset(q[4])\n",
    "\n",
    "qc3.ccx(q[0],q[2],q[3]) \n",
    "qc3.ccx(q[1],q[2],q[4])\n",
    "\n",
    "qc3.x(q[2])\n",
    "\n",
    "qc3.ch(q[2],q[3])\n",
    "qc3.ch(q[2],q[4])\n",
    "\n",
    "qc3.x(q[2])\n",
    "\n",
    "qc3.barrier(q)\n",
    "\n",
    "# perform measurements and store them in classical bits\n",
    "\n",
    "qc3.measure(q[2],m2[0])\n",
    "qc3.measure(q[3],m3[0])\n",
    "qc3.measure(q[4],m4[0])\n",
    "\n",
    "# visualization of the ciruit\n",
    "\n",
    "print(qc3)"
   ]
  },
  {
   "cell_type": "code",
   "execution_count": 372,
   "metadata": {},
   "outputs": [
    {
     "name": "stdout",
     "output_type": "stream",
     "text": [
      "counts:  {'0 1 0': 205, '1 1 0': 182, '0 0 1': 208, '1 0 1': 35, '0 0 0': 191, '1 0 0': 199, '0 1 1': 4}\n"
     ]
    },
    {
     "data": {
      "image/png": "[encoded data removed]",
      "text/plain": [
       "<Figure size 504x360 with 1 Axes>"
      ]
     },
     "execution_count": 372,
     "metadata": {},
     "output_type": "execute_result"
    }
   ],
   "source": [
    "# --- Simulation ---\n",
    "aer_sim = Aer.get_backend(\"aer_simulator\")\n",
    "transpiled_qc = transpile(qc3, aer_sim)\n",
    "result = aer_sim.run(transpiled_qc).result()\n",
    "\n",
    "counts = result.get_counts()\n",
    "print(\"counts: \", counts)\n",
    "\n",
    "plot_histogram(result.get_counts())"
   ]
  },
  {
   "cell_type": "code",
   "execution_count": 373,
   "metadata": {},
   "outputs": [],
   "source": [
    "# calculate weighted outcome on the most probables outcomes of the circuit\n",
    "def eval_outcome(most_prob_dict, n_outcome):\n",
    "    mapped_weights = list(map(lambda res: int(res[n_outcome*2])*most_prob_dict[res], most_prob_dict))\n",
    "    return sum(mapped_weights)/sum(most_prob_dict.values())"
   ]
  },
  {
   "cell_type": "code",
   "execution_count": 374,
   "metadata": {},
   "outputs": [
    {
     "name": "stdout",
     "output_type": "stream",
     "text": [
      "4 most probable states: {'0 0 1': 208, '0 1 0': 205, '1 0 0': 199, '0 0 0': 191}\n",
      "outcome0: 0.25\n",
      "outcome1: 0.26\n"
     ]
    }
   ],
   "source": [
    "num_most_prob_states = 4\n",
    "\n",
    "# extract the most probable states and then evaluate the outcome\n",
    "most_prob_dict = dict(heapq.nlargest(num_most_prob_states, counts.items(), key=itemgetter(1)))\n",
    "print(f\"{num_most_prob_states} most probable states: {most_prob_dict}\")\n",
    "\n",
    "outcome0, outcome1 = eval_outcome(most_prob_dict, 0), eval_outcome(most_prob_dict, 1)\n",
    "\n",
    "print(f\"outcome0: {outcome0:.2f}\\noutcome1: {outcome1:.2f}\")"
   ]
  },
  {
   "cell_type": "code",
   "execution_count": 375,
   "metadata": {},
   "outputs": [],
   "source": [
    "# Setting new positions after the gate ---------------------------------------------------------------"
   ]
  },
  {
   "cell_type": "code",
   "execution_count": 376,
   "metadata": {},
   "outputs": [],
   "source": [
    "# def eval_avg_outcome(robot, outcomes):\n",
    "#     if not is_position_on_obstacle(outcomes):\n",
    "#         return outcomes\n",
    "#     else:\n",
    "        \n"
   ]
  },
  {
   "cell_type": "code",
   "execution_count": 377,
   "metadata": {},
   "outputs": [
    {
     "name": "stdout",
     "output_type": "stream",
     "text": [
      "R0 0.21 0.47\n",
      "R0: micro\n",
      "R0 evaluated path: 11\n",
      "R1 0.18 0.35\n"
     ]
    }
   ],
   "source": [
    "for i in Robotx._registry:\n",
    "    print(f\"{i.name} {i.betax:.2f} {i.betay:.2f}\")\n",
    "    if (i.delta != closest_robot.delta or all(i.delta == j.delta for j in Robotx._registry)): # excluding the robot that entered the gate\n",
    "        # CHANGE: but taking into account the case where all robots have the same reward!!!\n",
    "        # for z\n",
    "        #i.betaz = outcome0\n",
    "        # the lower this value, the closer the robot to the 0, the higher alphaz\n",
    "        #i.alphaz = round(1 - i.betaz, 3)\n",
    "\n",
    "        compute_path_to_position(i, [c_ampl(outcome1), c_ampl(outcome0)]) # update on alphas is done within the function"
   ]
  },
  {
   "cell_type": "code",
   "execution_count": 378,
   "metadata": {},
   "outputs": [
    {
     "data": {
      "image/png": "[encoded data removed]",
      "text/plain": [
       "<Figure size 432x288 with 1 Axes>"
      ]
     },
     "metadata": {
      "needs_background": "light"
     },
     "output_type": "display_data"
    }
   ],
   "source": [
    "plot_scatterplot(\"Closest robot position update\")"
   ]
  },
  {
   "cell_type": "code",
   "execution_count": 379,
   "metadata": {},
   "outputs": [
    {
     "name": "stdout",
     "output_type": "stream",
     "text": [
      "before the gate: R0 0.47\n",
      "before the gate: R1 0.49\n"
     ]
    }
   ],
   "source": [
    "# former rewards \n",
    "for i in  Robotx._registry:\n",
    "    print(f\"before the gate: {i.name} {i.delta:.2f}\")"
   ]
  },
  {
   "cell_type": "code",
   "execution_count": 380,
   "metadata": {},
   "outputs": [
    {
     "name": "stdout",
     "output_type": "stream",
     "text": [
      "Rewards after the gate: \n",
      "R0 0.55\n",
      "R1 0.49\n"
     ]
    }
   ],
   "source": [
    "# new rewards\n",
    "print(\"Rewards after the gate: \")\n",
    "recalculate_rewards()"
   ]
  },
  {
   "cell_type": "code",
   "execution_count": 381,
   "metadata": {},
   "outputs": [],
   "source": [
    "# Reach the most successful robot -------------------------------------------------------"
   ]
  },
  {
   "cell_type": "code",
   "execution_count": 382,
   "metadata": {},
   "outputs": [
    {
     "name": "stdout",
     "output_type": "stream",
     "text": [
      "max_attr_.delta: 0.55\n",
      "Most successful robot: R0 0.26 0.25 0.55\n",
      "R1: micro\n",
      "R1 evaluated path: 0\n"
     ]
    }
   ],
   "source": [
    "# parse the most successful robot\n",
    "max_attr_ = max(Robotx._registry, key=attrgetter('delta'))\n",
    "print(f\"max_attr_.delta: {max_attr_.delta:.2f}\")\n",
    "\n",
    "for i in Robotx._registry:\n",
    "    if (i.delta == max_attr_.delta):\n",
    "        print(f\"Most successful robot: {i.name} {i.betax:.2f} {i.betay:.2f} {i.delta:.2f}\") # and then it enters the gate\n",
    "\n",
    "for j in Robotx._registry:\n",
    "    # to get other robots following it:\n",
    "    if (j != max_attr_): \n",
    "        compute_path_to_position(j, [max_attr_.alphax + np.random.uniform(0,0.01), max_attr_.alphay + np.random.uniform(0,0.01)])\n",
    "                   "
   ]
  },
  {
   "cell_type": "code",
   "execution_count": 383,
   "metadata": {},
   "outputs": [
    {
     "name": "stdout",
     "output_type": "stream",
     "text": [
      "R0 0.55\n",
      "R1 0.53\n"
     ]
    }
   ],
   "source": [
    "recalculate_rewards()"
   ]
  },
  {
   "cell_type": "code",
   "execution_count": 384,
   "metadata": {},
   "outputs": [
    {
     "data": {
      "image/png": "[encoded data removed]",
      "text/plain": [
       "<Figure size 432x288 with 1 Axes>"
      ]
     },
     "metadata": {
      "needs_background": "light"
     },
     "output_type": "display_data"
    }
   ],
   "source": [
    "plot_scatterplot(\"Final configuration\")"
   ]
  },
  {
   "cell_type": "code",
   "execution_count": 385,
   "metadata": {},
   "outputs": [],
   "source": [
    "# to be activated if the robots are still far from the target (reward < 0.8):"
   ]
  },
  {
   "cell_type": "code",
   "execution_count": 386,
   "metadata": {},
   "outputs": [
    {
     "name": "stdout",
     "output_type": "stream",
     "text": [
      "bla\n",
      "bla\n",
      "R1: macro-micro\n",
      "R1 evaluated path (macro): 0\n",
      "R1 evaluated path (micro): 0\n"
     ]
    }
   ],
   "source": [
    "for i in Robotx._registry:\n",
    "    if (i.delta < 0.8):\n",
    "        print(\"bla\")\n",
    "        new_alphas = informed_alpha_reshuffling()#[np.random.uniform(i.betax,i.betax + 0.3), np.random.uniform(i.betay,i.betay + 0.3)]\n",
    "\n",
    "        # if new position ends up in an obstacle cell, recompute the alphas\n",
    "        while is_position_on_obstacle(new_alphas):\n",
    "                new_alphas = informed_alpha_reshuffling()#[np.random.uniform(i.betax,i.betax + 0.3), np.random.uniform(i.betay,i.betay + 0.3)]\n",
    "\n",
    "        compute_path_to_position(i, new_alphas)\n",
    "               "
   ]
  },
  {
   "cell_type": "code",
   "execution_count": 387,
   "metadata": {},
   "outputs": [
    {
     "name": "stdout",
     "output_type": "stream",
     "text": [
      "R0 0.64\n",
      "R1 1.00\n"
     ]
    }
   ],
   "source": [
    "recalculate_rewards()"
   ]
  },
  {
   "cell_type": "code",
   "execution_count": 388,
   "metadata": {},
   "outputs": [
    {
     "data": {
      "image/png": "[encoded data removed]",
      "text/plain": [
       "<Figure size 432x288 with 1 Axes>"
      ]
     },
     "metadata": {
      "needs_background": "light"
     },
     "output_type": "display_data"
    }
   ],
   "source": [
    "plot_scatterplot(\"Second reshuffle\")"
   ]
  },
  {
   "cell_type": "code",
   "execution_count": 389,
   "metadata": {},
   "outputs": [
    {
     "name": "stdout",
     "output_type": "stream",
     "text": [
      "max_attr_.delta: 1.00\n",
      "Most successful robot: R1 0.87 0.12 1.00\n",
      "R0: macro\n",
      "R0 evaluated path: 0\n"
     ]
    }
   ],
   "source": [
    "# parse the most successful robot\n",
    "max_attr_ = max(Robotx._registry, key=attrgetter('delta'))\n",
    "print(f\"max_attr_.delta: {max_attr_.delta:.2f}\")\n",
    "\n",
    "for i in Robotx._registry:\n",
    "    if (i.delta == max_attr_.delta):\n",
    "        print(f\"Most successful robot: {i.name} {i.betax:.2f} {i.betay:.2f} {i.delta:.2f}\") # and then it enters the gate\n",
    "\n",
    "for j in Robotx._registry:\n",
    "    # to get other robots following it:\n",
    "    if (j != max_attr_): \n",
    "        compute_path_to_position(j, [max_attr_.alphax + np.random.uniform(0,0.01), max_attr_.alphay + np.random.uniform(0,0.01)])\n",
    "                   "
   ]
  },
  {
   "cell_type": "code",
   "execution_count": 390,
   "metadata": {},
   "outputs": [
    {
     "name": "stdout",
     "output_type": "stream",
     "text": [
      "R0 0.97\n",
      "R1 1.00\n"
     ]
    }
   ],
   "source": [
    "recalculate_rewards()"
   ]
  },
  {
   "cell_type": "code",
   "execution_count": 391,
   "metadata": {},
   "outputs": [
    {
     "data": {
      "image/png": "[encoded data removed]",
      "text/plain": [
       "<Figure size 432x288 with 1 Axes>"
      ]
     },
     "metadata": {
      "needs_background": "light"
     },
     "output_type": "display_data"
    }
   ],
   "source": [
    "plot_scatterplot(\"Final 2\")"
   ]
  },
  {
   "cell_type": "code",
   "execution_count": 392,
   "metadata": {},
   "outputs": [],
   "source": [
    "# Trying the gate for the second time"
   ]
  },
  {
   "cell_type": "code",
   "execution_count": 393,
   "metadata": {},
   "outputs": [],
   "source": [
    "def print_formatted_vector(*args):\n",
    "    for vector in args:\n",
    "        print(\"[\" + \"\".join(f\"{val:.2f} \" for val in vector).strip() + \"]\")"
   ]
  },
  {
   "cell_type": "code",
   "execution_count": 394,
   "metadata": {},
   "outputs": [
    {
     "name": "stdout",
     "output_type": "stream",
     "text": [
      "Closest robot to the target: R1 0.87 0.12 1.00\n",
      "[0.50 0.87]\n",
      "[0.99 0.12]\n",
      "[0.10 1.00]\n",
      "[0.50 0.87]\n",
      "[0.99 0.12]\n",
      "[0.10 1.00]\n"
     ]
    }
   ],
   "source": [
    "# in case of ties on delta score, the max() function outputs the first maximum item it processes \n",
    "closest_robot = max(Robotx._registry, key=attrgetter('delta'))\n",
    "print(f\"Closest robot to the target: {closest_robot.name} {closest_robot.betax:.2f} {closest_robot.betay:.2f} {closest_robot.delta:.2f}\")\n",
    "\n",
    "# and then it enters the gate\n",
    "vector0 = [closest_robot.alphax, closest_robot.betax]\n",
    "vector1 = [closest_robot.alphay, closest_robot.betay]\n",
    "vector3 = [closest_robot.gamma, closest_robot.delta]\n",
    "\n",
    "normalized_v0 = vector0/np.linalg.norm(vector0)\n",
    "normalized_v1 = vector1/np.linalg.norm(vector1)\n",
    "normalized_v3 = vector3/np.linalg.norm(vector3)\n",
    "\n",
    "print_formatted_vector(vector0, vector1, vector3)\n",
    "print_formatted_vector(normalized_v0, normalized_v1, normalized_v3)"
   ]
  },
  {
   "cell_type": "code",
   "execution_count": 395,
   "metadata": {},
   "outputs": [
    {
     "data": {
      "text/plain": [
       "<qiskit.circuit.instructionset.InstructionSet at 0x29a22f13430>"
      ]
     },
     "execution_count": 395,
     "metadata": {},
     "output_type": "execute_result"
    }
   ],
   "source": [
    "# direct initialization with amplitudes vector\n",
    "qc3.initialize(normalized_v0, q[0])\n",
    "qc3.initialize(normalized_v1, q[1])\n",
    "qc3.initialize(normalized_v3, q[2])"
   ]
  },
  {
   "cell_type": "code",
   "execution_count": 396,
   "metadata": {},
   "outputs": [
    {
     "data": {
      "text/plain": [
       "<qiskit.circuit.instructionset.InstructionSet at 0x29a22ebe220>"
      ]
     },
     "execution_count": 396,
     "metadata": {},
     "output_type": "execute_result"
    }
   ],
   "source": [
    "# this is the core code, and it is unchanged across time\n",
    "\n",
    "qc3.barrier(q)\n",
    "qc3.ccx(q[0],q[1],q[3])\n",
    "qc3.ccx(q[0],q[1],q[4])\n",
    "\n",
    "qc3.reset(q[3])\n",
    "qc3.reset(q[4])\n",
    "\n",
    "qc3.ccx(q[0],q[2],q[3]) \n",
    "qc3.ccx(q[1],q[2],q[4])\n",
    "\n",
    "qc3.x(q[2])\n",
    "\n",
    "qc3.ch(q[2],q[3])\n",
    "qc3.ch(q[2],q[4])\n",
    "\n",
    "qc3.x(q[2])\n",
    "\n",
    "qc3.barrier(q)"
   ]
  },
  {
   "cell_type": "code",
   "execution_count": 397,
   "metadata": {},
   "outputs": [
    {
     "name": "stdout",
     "output_type": "stream",
     "text": [
      "      ┌─────────────────────────────┐ ░                                    »\n",
      " q_0: ┤ Initialize(0.98305,0.18333) ├─░───■────■─────────■─────────────────»\n",
      "      ├─────────────────────────────┤ ░   │    │         │                 »\n",
      " q_1: ┤ Initialize(0.93699,0.34936) ├─░───■────■─────────┼────■────────────»\n",
      "      ├─────────────────────────────┤ ░   │    │         │    │  ┌───┐     »\n",
      " q_2: ┤ Initialize(0.87405,0.48583) ├─░───┼────┼─────────■────■──┤ X ├──■──»\n",
      "      └─────────────────────────────┘ ░ ┌─┴─┐  │       ┌─┴─┐  │  └───┘┌─┴─┐»\n",
      " q_3: ────────────────────────────────░─┤ X ├──┼───|0>─┤ X ├──┼───────┤ H ├»\n",
      "                                      ░ └───┘┌─┴─┐     └───┘┌─┴─┐     └───┘»\n",
      " q_4: ────────────────────────────────░──────┤ X ├─|0>──────┤ X ├──────────»\n",
      "                                      ░      └───┘          └───┘          »\n",
      "c1: 1/═════════════════════════════════════════════════════════════════════»\n",
      "                                                                           »\n",
      "c2: 1/═════════════════════════════════════════════════════════════════════»\n",
      "                                                                           »\n",
      "c3: 1/═════════════════════════════════════════════════════════════════════»\n",
      "                                                                           »\n",
      "«                 ░ ┌─────────────────────────────┐»\n",
      "« q_0: ───────────░─┤ Initialize(0.49658,0.86799) ├»\n",
      "«                 ░ └┬───────────────────────────┬┘»\n",
      "« q_1: ───────────░──┤ Initialize(0.99216,0.125) ├─»\n",
      "«           ┌───┐ ░  └────────────┬─┬────────────┘ »\n",
      "« q_2: ──■──┤ X ├─░───────────────┤M├──────────────»\n",
      "«        │  └───┘ ░               └╥┘              »\n",
      "« q_3: ──┼────────░────────────────╫───────────────»\n",
      "«      ┌─┴─┐      ░                ║               »\n",
      "« q_4: ┤ H ├──────░────────────────╫───────────────»\n",
      "«      └───┘      ░                ║               »\n",
      "«c1: 1/════════════════════════════╩═══════════════»\n",
      "«                                  0               »\n",
      "«c2: 1/════════════════════════════════════════════»\n",
      "«                                                  »\n",
      "«c3: 1/════════════════════════════════════════════»\n",
      "«                                                  »\n",
      "«                                          ░                               »\n",
      "« q_0: ────────────────────────────────────░───■────■─────────■────────────»\n",
      "«                                          ░   │    │         │            »\n",
      "« q_1: ────────────────────────────────────░───■────■─────────┼────■───────»\n",
      "«      ┌──────────────────────────────┐    ░   │    │         │    │  ┌───┐»\n",
      "« q_2: ┤ Initialize(0.099441,0.99504) ├────░───┼────┼─────────■────■──┤ X ├»\n",
      "«      └─────────────┬─┬──────────────┘    ░ ┌─┴─┐  │       ┌─┴─┐  │  └───┘»\n",
      "« q_3: ──────────────┤M├───────────────────░─┤ X ├──┼───|0>─┤ X ├──┼───────»\n",
      "«                    └╥┘               ┌─┐ ░ └───┘┌─┴─┐     └───┘┌─┴─┐     »\n",
      "« q_4: ───────────────╫────────────────┤M├─░──────┤ X ├─|0>──────┤ X ├─────»\n",
      "«                     ║                └╥┘ ░      └───┘          └───┘     »\n",
      "«c1: 1/═══════════════╬═════════════════╬══════════════════════════════════»\n",
      "«                     ║                 ║                                  »\n",
      "«c2: 1/═══════════════╩═════════════════╬══════════════════════════════════»\n",
      "«                     0                 ║                                  »\n",
      "«c3: 1/═════════════════════════════════╩══════════════════════════════════»\n",
      "«                                       0                                  »\n",
      "«                      ░          \n",
      "« q_0: ────────────────░──────────\n",
      "«                      ░          \n",
      "« q_1: ────────────────░──────────\n",
      "«                ┌───┐ ░ ┌─┐      \n",
      "« q_2: ──■────■──┤ X ├─░─┤M├──────\n",
      "«      ┌─┴─┐  │  └───┘ ░ └╥┘┌─┐   \n",
      "« q_3: ┤ H ├──┼────────░──╫─┤M├───\n",
      "«      └───┘┌─┴─┐      ░  ║ └╥┘┌─┐\n",
      "« q_4: ─────┤ H ├──────░──╫──╫─┤M├\n",
      "«           └───┘      ░  ║  ║ └╥┘\n",
      "«c1: 1/═══════════════════╩══╬══╬═\n",
      "«                         0  ║  ║ \n",
      "«c2: 1/══════════════════════╩══╬═\n",
      "«                            0  ║ \n",
      "«c3: 1/═════════════════════════╩═\n",
      "«                               0 \n"
     ]
    }
   ],
   "source": [
    "# perform measurements and store them in classical bits\n",
    "\n",
    "qc3.measure(q[2],m2[0])\n",
    "qc3.measure(q[3],m3[0])\n",
    "qc3.measure(q[4],m4[0])\n",
    "\n",
    "# visualization of the ciruit\n",
    "\n",
    "print(qc3)"
   ]
  },
  {
   "cell_type": "code",
   "execution_count": 398,
   "metadata": {},
   "outputs": [
    {
     "name": "stdout",
     "output_type": "stream",
     "text": [
      "counts:  {'0 1 1': 760, '0 0 0': 3, '0 0 1': 238, '1 0 1': 3, '1 1 1': 14, '1 1 0': 2, '1 0 0': 3, '0 1 0': 1}\n"
     ]
    },
    {
     "data": {
      "image/png": "[encoded data removed]",
      "text/plain": [
       "<Figure size 504x360 with 1 Axes>"
      ]
     },
     "execution_count": 398,
     "metadata": {},
     "output_type": "execute_result"
    }
   ],
   "source": [
    "# --- Simulation ---\n",
    "aer_sim = Aer.get_backend(\"aer_simulator\")\n",
    "transpiled_qc = transpile(qc3, aer_sim)\n",
    "result = aer_sim.run(transpiled_qc).result()\n",
    "\n",
    "counts = result.get_counts()\n",
    "print(\"counts: \", counts)\n",
    "\n",
    "plot_histogram(result.get_counts())"
   ]
  },
  {
   "cell_type": "code",
   "execution_count": 399,
   "metadata": {},
   "outputs": [
    {
     "name": "stdout",
     "output_type": "stream",
     "text": [
      "4 most probable states: {'0 1 1': 760, '0 0 1': 238, '1 1 1': 14, '0 0 0': 3}\n",
      "outcome0: 0.01\n",
      "outcome1: 0.76\n"
     ]
    }
   ],
   "source": [
    "num_most_prob_states = 4\n",
    "\n",
    "# extract the most probable states and then evaluate the outcome\n",
    "most_prob_dict = dict(heapq.nlargest(num_most_prob_states, counts.items(), key=itemgetter(1)))\n",
    "print(f\"{num_most_prob_states} most probable states: {most_prob_dict}\")\n",
    "\n",
    "outcome0, outcome1 = eval_outcome(most_prob_dict, 0), eval_outcome(most_prob_dict, 1)\n",
    "\n",
    "print(f\"outcome0: {outcome0:.2f}\\noutcome1: {outcome1:.2f}\")"
   ]
  },
  {
   "cell_type": "code",
   "execution_count": 400,
   "metadata": {},
   "outputs": [
    {
     "name": "stdout",
     "output_type": "stream",
     "text": [
      "R0 0.86 0.08\n",
      "R1 0.87 0.12\n"
     ]
    }
   ],
   "source": [
    "for i in Robotx._registry:\n",
    "    print(f\"{i.name} {i.betax:.2f} {i.betay:.2f}\")\n",
    "    if (i.delta != closest_robot.delta or all(i.delta == j.delta for j in Robotx._registry)): # excluding the robot that entered the gate\n",
    "        # CHANGE: but taking into account the case where all robots have the same reward!!!\n",
    "        # for z\n",
    "        #i.betaz = outcome0\n",
    "        # the lower this value, the closer the robot to the 0, the higher alphaz\n",
    "        #i.alphaz = round(1 - i.betaz, 3)\n",
    "\n",
    "        compute_path_to_position(i, [c_ampl(outcome1), c_ampl(outcome0)]) # update on alphas is done within the function"
   ]
  },
  {
   "cell_type": "code",
   "execution_count": 401,
   "metadata": {},
   "outputs": [
    {
     "name": "stdout",
     "output_type": "stream",
     "text": [
      "before the gate: R0 0.97\n",
      "before the gate: R1 1.00\n"
     ]
    }
   ],
   "source": [
    "# former rewards \n",
    "for i in  Robotx._registry:\n",
    "    print(f\"before the gate: {i.name} {i.delta:.2f}\")"
   ]
  },
  {
   "cell_type": "code",
   "execution_count": 402,
   "metadata": {},
   "outputs": [
    {
     "name": "stdout",
     "output_type": "stream",
     "text": [
      "Rewards after the gate: \n",
      "R0 0.89\n",
      "R1 1.00\n"
     ]
    }
   ],
   "source": [
    "# new rewards\n",
    "print(\"Rewards after the gate: \")\n",
    "recalculate_rewards()"
   ]
  },
  {
   "cell_type": "code",
   "execution_count": 403,
   "metadata": {},
   "outputs": [
    {
     "name": "stdout",
     "output_type": "stream",
     "text": [
      "max_attr_.delta: 1.00\n",
      "Most successful robot: R1 0.87 0.12 1.00\n"
     ]
    }
   ],
   "source": [
    "# parse the most successful robot\n",
    "max_attr_ = max(Robotx._registry, key=attrgetter('delta'))\n",
    "print(f\"max_attr_.delta: {max_attr_.delta:.2f}\")\n",
    "\n",
    "for i in Robotx._registry:\n",
    "    if (i.delta == max_attr_.delta):\n",
    "        print(f\"Most successful robot: {i.name} {i.betax:.2f} {i.betay:.2f} {i.delta:.2f}\") # and then it enters the gate\n",
    "\n",
    "for j in Robotx._registry:\n",
    "    # to get other robots following it:\n",
    "    if (j != max_attr_): \n",
    "        compute_path_to_position(j, [max_attr_.alphax + np.random.uniform(0,0.01), max_attr_.alphay + np.random.uniform(0,0.01)])"
   ]
  },
  {
   "cell_type": "code",
   "execution_count": 404,
   "metadata": {},
   "outputs": [
    {
     "name": "stdout",
     "output_type": "stream",
     "text": [
      "R0 0.99\n",
      "R1 1.00\n"
     ]
    }
   ],
   "source": [
    "recalculate_rewards()"
   ]
  },
  {
   "cell_type": "code",
   "execution_count": 405,
   "metadata": {},
   "outputs": [
    {
     "data": {
      "image/png": "[encoded data removed]",
      "text/plain": [
       "<Figure size 432x288 with 1 Axes>"
      ]
     },
     "metadata": {
      "needs_background": "light"
     },
     "output_type": "display_data"
    }
   ],
   "source": [
    "plot_scatterplot(\"Final after second gate\")"
   ]
  }
 ],
 "metadata": {
  "interpreter": {
   "hash": "2db524e06e9f5f4ffedc911c917cb75e12dbc923643829bf417064a77eb14d37"
  },
  "kernelspec": {
   "display_name": "Python 3",
   "language": "python",
   "name": "python3"
  },
  "language_info": {
   "codemirror_mode": {
    "name": "ipython",
    "version": 3
   },
   "file_extension": ".py",
   "mimetype": "text/x-python",
   "name": "python",
   "nbconvert_exporter": "python",
   "pygments_lexer": "ipython3",
   "version": "3.8.2"
  }
 },
 "nbformat": 4,
 "nbformat_minor": 2
}
